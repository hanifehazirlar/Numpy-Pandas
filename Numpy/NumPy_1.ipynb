{
 "cells": [
  {
   "cell_type": "markdown",
   "id": "49cecf23-a2b9-4b6a-a52b-2f2291e5e07a",
   "metadata": {},
   "source": [
    "# Numpy"
   ]
  },
  {
   "cell_type": "code",
   "execution_count": null,
   "id": "853bcb2e-e6ac-4bb8-8e8b-9f6e280effe0",
   "metadata": {},
   "outputs": [],
   "source": [
    "# Bilimsel hesaplamalar için kullanılır.\n",
    "# Arrayler/çok boyutlu arrayler ve matrisler üzerinde yüksek performanslı çalışma imkanı sağlar\n",
    "# Numpy dizileri python listelerine benzer fakat hız ve işlevsellik açısından python listelerinden daha kullanışlıdır.\n",
    "# Çünkü listeler her bir eleman için ayrı ayrı bilgi tutarken numpy array'leri elemanlarını sabitlenmiş tipe zorlar \n",
    "# bu da veri saklama açısından büyük bir kolaylık sağlar\n"
   ]
  },
  {
   "cell_type": "code",
   "execution_count": 30,
   "id": "e7743f73-9557-412a-9f7e-b44b8ae320a9",
   "metadata": {},
   "outputs": [
    {
     "data": {
      "text/plain": [
       "array([ 2,  6, 12, 20])"
      ]
     },
     "execution_count": 30,
     "metadata": {},
     "output_type": "execute_result"
    }
   ],
   "source": [
    "# array'lerin bir biri ile çarpımı\n",
    "import numpy as np\n",
    "\n",
    "a = np.array([1,2,3,4])\n",
    "b = np.array([2,3,4,5])    \n",
    "\n",
    "a * b                        # Bize daha az çabayla daha büyük işeler yapmamızı sağlıyor"
   ]
  },
  {
   "cell_type": "code",
   "execution_count": 1,
   "id": "11265b8b-2454-4264-9a70-438cd403211a",
   "metadata": {},
   "outputs": [
    {
     "data": {
      "text/plain": [
       "[2, 6, 12, 20]"
      ]
     },
     "execution_count": 1,
     "metadata": {},
     "output_type": "execute_result"
    }
   ],
   "source": [
    "# listelerin bir biri ile çarpımı\n",
    "a = [1,2,3,4]\n",
    "b = [2,3,4,5]\n",
    "\n",
    "ab = []\n",
    "\n",
    "for i in range(0,len(a)):\n",
    "    ab.append(a[i] * b[i])\n",
    "    \n",
    "ab"
   ]
  },
  {
   "cell_type": "code",
   "execution_count": null,
   "id": "769f64bd-b58d-4ea9-9eb5-69a58bf94fbb",
   "metadata": {},
   "outputs": [],
   "source": [
    "a = [1, 2, 3, 4]\n",
    "b = [4, 3, 2, 1]\n",
    "[i * j for i, j in zip(a, b)] # verilen iki list in elemanlarini ayni sirayla birbiri ile carptik"
   ]
  },
  {
   "cell_type": "code",
   "execution_count": 31,
   "id": "b56fdc13-b4a0-4814-81c0-0da2c6b4be5f",
   "metadata": {},
   "outputs": [
    {
     "data": {
      "text/plain": [
       "array([0.5       , 0.66666667, 0.75      , 0.8       ])"
      ]
     },
     "execution_count": 31,
     "metadata": {},
     "output_type": "execute_result"
    }
   ],
   "source": [
    "a / b                        # hiç döngü işlemine girmeden vektörel bazda işlem yapmamızı sağlar"
   ]
  },
  {
   "cell_type": "code",
   "execution_count": 32,
   "id": "dcf9ee56-67d0-4b87-bd7e-61645d16c008",
   "metadata": {},
   "outputs": [
    {
     "data": {
      "text/plain": [
       "array([3, 5, 7, 9])"
      ]
     },
     "execution_count": 32,
     "metadata": {},
     "output_type": "execute_result"
    }
   ],
   "source": [
    "a + b"
   ]
  },
  {
   "cell_type": "code",
   "execution_count": 13,
   "id": "95a0f8f5-4802-44f3-aeb8-6f777944011c",
   "metadata": {},
   "outputs": [
    {
     "name": "stdout",
     "output_type": "stream",
     "text": [
      "python liste süresi:  1805.164098739624\n",
      "numpy array süresi:  162.9042625427246\n"
     ]
    }
   ],
   "source": [
    "# liste ve array hız karşılaştırması\n",
    "import time \n",
    "\n",
    "size = 10000000\n",
    "\n",
    "l1= range(size)\n",
    "l2= range(size)\n",
    "\n",
    "a1 = np.arange(size)\n",
    "a2 = np.arange(size)\n",
    "\n",
    "start = time.time()\n",
    "result = [(x+y) for x, y in zip(l1,l2)]\n",
    "print(\"python liste süresi: \", (time.time() - start) * 1000)\n",
    "\n",
    "start = time.time()\n",
    "result = a1 + a2\n",
    "print(\"numpy array süresi: \", (time.time() - start) * 1000)"
   ]
  },
  {
   "cell_type": "code",
   "execution_count": 22,
   "id": "f4dcb9e3-a91f-4591-90da-0f3bdfc3d5b7",
   "metadata": {
    "ExecuteTime": {
     "end_time": "2023-03-30T23:10:07.554625Z",
     "start_time": "2023-03-30T23:10:07.542625Z"
    }
   },
   "outputs": [
    {
     "data": {
      "text/plain": [
       "28"
      ]
     },
     "execution_count": 22,
     "metadata": {},
     "output_type": "execute_result"
    }
   ],
   "source": [
    "# liste ile array'in bellekte kapladığı alan karşılaştırması\n",
    "import sys  \n",
    "\n",
    "# sys.getsizeof(): Bir nesnenin bellekte kapladığı alanın boyutunu verir.\n",
    "sys.getsizeof(9) "
   ]
  },
  {
   "cell_type": "code",
   "execution_count": 23,
   "id": "8a5c874a-10f5-476f-a3aa-26fed296cc40",
   "metadata": {},
   "outputs": [
    {
     "data": {
      "text/plain": [
       "28"
      ]
     },
     "execution_count": 23,
     "metadata": {},
     "output_type": "execute_result"
    }
   ],
   "source": [
    "sys.getsizeof(99999999)"
   ]
  },
  {
   "cell_type": "code",
   "execution_count": 19,
   "id": "fe58a9c4-4891-4052-8d38-eb197f134bd0",
   "metadata": {
    "ExecuteTime": {
     "end_time": "2023-03-30T23:10:07.870538Z",
     "start_time": "2023-03-30T23:10:07.796026Z"
    }
   },
   "outputs": [
    {
     "data": {
      "text/plain": [
       "50"
      ]
     },
     "execution_count": 19,
     "metadata": {},
     "output_type": "execute_result"
    }
   ],
   "source": [
    "sys.getsizeof(\"a\")"
   ]
  },
  {
   "cell_type": "code",
   "execution_count": 21,
   "id": "54ae5d0b-ee4b-46da-aa26-f9873d3b23b6",
   "metadata": {
    "ExecuteTime": {
     "end_time": "2023-03-30T23:10:07.948611Z",
     "start_time": "2023-03-30T23:10:07.873547Z"
    }
   },
   "outputs": [
    {
     "data": {
      "text/plain": [
       "51"
      ]
     },
     "execution_count": 21,
     "metadata": {},
     "output_type": "execute_result"
    }
   ],
   "source": [
    "sys.getsizeof(\"aa\")"
   ]
  },
  {
   "cell_type": "code",
   "execution_count": 26,
   "id": "2ce7f5dc-7710-4a19-904c-924440e0cc64",
   "metadata": {},
   "outputs": [
    {
     "name": "stdout",
     "output_type": "stream",
     "text": [
      "listede ki bir elemanın boyutu : 28\n",
      "listede ki tüm elemanların boyutu : 28000\n",
      "------------------------------\n",
      "array'de ki bir elemanın bayutu : 4\n",
      "array'de ki tüm elemanların boyutu : 4000\n"
     ]
    }
   ],
   "source": [
    "l = range(1000)\n",
    "\n",
    "print(\"listede ki bir elemanın boyutu :\", sys.getsizeof(5)) \n",
    "print(\"listede ki tüm elemanların boyutu :\", sys.getsizeof(5) * len(l))\n",
    "\n",
    "print(\"---\" * 10)\n",
    "\n",
    "a = np.arange(1000)\n",
    "\n",
    "print(\"array'de ki bir elemanın bayutu :\", a.itemsize)\n",
    "print(\"array'de ki tüm elemanların boyutu :\", a.itemsize * a.size )\n",
    "\n",
    "# array e göre listeler 7 kat fazla yer kaplamış"
   ]
  },
  {
   "cell_type": "markdown",
   "id": "ccc689de-4460-40c9-9f7d-16759200307c",
   "metadata": {},
   "source": [
    "## NumPy Array'i Oluşturmak"
   ]
  },
  {
   "cell_type": "code",
   "execution_count": null,
   "id": "81fab237-7f0b-4891-aef4-976b6f456eb2",
   "metadata": {},
   "outputs": [],
   "source": [
    "# Arrayleri oluşturmanın 3 farklı yolu vardır.\n",
    "# 1) Liste ya da tuple benzeri nesneleri array'e dönüştürebiliriz.        np.array([1,2,3])\n",
    "# 2) Built-in hazır fonksiyonlar yardımıyla arrayler oluşturabiliriz.     np.arange() , np.linspace() , np.logspace() vb.\n",
    "# 3) Rastgele data üreterek                                               np.random modülünün içindeki fonksiyonlar ile."
   ]
  },
  {
   "cell_type": "code",
   "execution_count": 3,
   "id": "8da458b2-5d32-4bdb-a9c0-eed94cd16e70",
   "metadata": {},
   "outputs": [],
   "source": [
    "import numpy as np    "
   ]
  },
  {
   "cell_type": "markdown",
   "id": "ea0371ba-15b3-4120-878f-407af5935ca3",
   "metadata": {},
   "source": [
    "### 1) numpy array ile"
   ]
  },
  {
   "cell_type": "code",
   "execution_count": 11,
   "id": "71948c26-c958-446f-96f3-ea903b113a0a",
   "metadata": {},
   "outputs": [
    {
     "data": {
      "text/plain": [
       "array([1, 2, 3, 4, 5])"
      ]
     },
     "execution_count": 11,
     "metadata": {},
     "output_type": "execute_result"
    }
   ],
   "source": [
    "np.array([1,2,3,4,5])      # numpy array'i tıpkı liste, tuple, sözlükler gibidir"
   ]
  },
  {
   "cell_type": "code",
   "execution_count": 14,
   "id": "6053ece5-5062-415c-99a5-a05a4a9d73dc",
   "metadata": {},
   "outputs": [],
   "source": [
    "a = np.array([1,2,3,4,5])"
   ]
  },
  {
   "cell_type": "code",
   "execution_count": 15,
   "id": "b9c8f1ed-518e-4f00-b81b-79cb53e01c4f",
   "metadata": {},
   "outputs": [
    {
     "data": {
      "text/plain": [
       "numpy.ndarray"
      ]
     },
     "execution_count": 15,
     "metadata": {},
     "output_type": "execute_result"
    }
   ],
   "source": [
    "type(a)"
   ]
  },
  {
   "cell_type": "code",
   "execution_count": 16,
   "id": "bdf3645f-1f6d-4788-85f4-a96a71c03bb7",
   "metadata": {},
   "outputs": [
    {
     "data": {
      "text/plain": [
       "array([ 3.14,  4.  ,  2.  , 13.  ])"
      ]
     },
     "execution_count": 16,
     "metadata": {},
     "output_type": "execute_result"
    }
   ],
   "source": [
    "np.array([3.14,4,2,13])    # array sabit tip tutuyor veri maliyetini düşürmek için o yüzden tüm içerik float oldu"
   ]
  },
  {
   "cell_type": "code",
   "execution_count": 17,
   "id": "216ba46c-d0ca-40ff-88e2-2303f53b898f",
   "metadata": {},
   "outputs": [
    {
     "data": {
      "text/plain": [
       "array([ 3,  4,  2, 13])"
      ]
     },
     "execution_count": 17,
     "metadata": {},
     "output_type": "execute_result"
    }
   ],
   "source": [
    "np.array([3.14,4,2,13], dtype = \"int\")  # tüm içeriği integer yaptı"
   ]
  },
  {
   "cell_type": "markdown",
   "id": "e9df9a40-7f39-4a7f-afd1-b1bedb9d90bd",
   "metadata": {},
   "source": [
    "### 2) Built-in hazır fonksiyonlar ile"
   ]
  },
  {
   "cell_type": "code",
   "execution_count": 18,
   "id": "04b69bc3-5bf7-4277-948f-6b27b8be5c52",
   "metadata": {},
   "outputs": [
    {
     "data": {
      "text/plain": [
       "array([0, 0, 0, 0, 0, 0, 0, 0, 0, 0])"
      ]
     },
     "execution_count": 18,
     "metadata": {},
     "output_type": "execute_result"
    }
   ],
   "source": [
    "np.zeros(10, dtype = int)       # tek boyutlu bir array-----vektör-----"
   ]
  },
  {
   "cell_type": "code",
   "execution_count": 19,
   "id": "6f5c70f2-10e1-4ec2-8b76-17474bd2d0e2",
   "metadata": {},
   "outputs": [
    {
     "data": {
      "text/plain": [
       "array([[1, 1, 1, 1, 1],\n",
       "       [1, 1, 1, 1, 1],\n",
       "       [1, 1, 1, 1, 1]])"
      ]
     },
     "execution_count": 19,
     "metadata": {},
     "output_type": "execute_result"
    }
   ],
   "source": [
    "np.ones((3,5), dtype = int)     # çok boyutlu(2 boyutlu) bir array-----matris-----"
   ]
  },
  {
   "cell_type": "code",
   "execution_count": 20,
   "id": "44366e66-3585-4920-b136-eb2566ad300b",
   "metadata": {},
   "outputs": [
    {
     "data": {
      "text/plain": [
       "array([[3, 3, 3, 3, 3],\n",
       "       [3, 3, 3, 3, 3],\n",
       "       [3, 3, 3, 3, 3]])"
      ]
     },
     "execution_count": 20,
     "metadata": {},
     "output_type": "execute_result"
    }
   ],
   "source": [
    "np.full((3,5), 3)               # belirlediğimiz boyut bilgisiyle istediğimiz sayı üzeriden "
   ]
  },
  {
   "cell_type": "code",
   "execution_count": 35,
   "id": "bfc1db56-0666-40f4-88de-d6f833c90247",
   "metadata": {},
   "outputs": [
    {
     "data": {
      "text/plain": [
       "array([ 0,  3,  6,  9, 12, 15, 18, 21, 24, 27, 30])"
      ]
     },
     "execution_count": 35,
     "metadata": {},
     "output_type": "execute_result"
    }
   ],
   "source": [
    "np.arange(0,33, 3)              # doğrusal bir dizi oluşturalım"
   ]
  },
  {
   "cell_type": "code",
   "execution_count": 13,
   "id": "0eea9e81-f4f5-4388-9701-4a843c87bb4b",
   "metadata": {},
   "outputs": [
    {
     "data": {
      "text/plain": [
       "array([ 10,  15,  20,  25,  30,  35,  40,  45,  50,  55,  60,  65,  70,\n",
       "        75,  80,  85,  90,  95, 100])"
      ]
     },
     "execution_count": 13,
     "metadata": {},
     "output_type": "execute_result"
    }
   ],
   "source": [
    "np.arange(10,101,5)             # 10,15,20,25....100 şeklindeki array oluşturalım"
   ]
  },
  {
   "cell_type": "code",
   "execution_count": 22,
   "id": "3501762c-98aa-44ff-a3cb-cbad87d388c4",
   "metadata": {},
   "outputs": [
    {
     "data": {
      "text/plain": [
       "array([0.        , 0.11111111, 0.22222222, 0.33333333, 0.44444444,\n",
       "       0.55555556, 0.66666667, 0.77777778, 0.88888889, 1.        ])"
      ]
     },
     "execution_count": 22,
     "metadata": {},
     "output_type": "execute_result"
    }
   ],
   "source": [
    "np.linspace(0,1,10)             # 2 değer arasında belirli sayıda array oluşturalım"
   ]
  },
  {
   "cell_type": "code",
   "execution_count": 11,
   "id": "05bc2270-b8d6-43df-b9de-327922f29cd7",
   "metadata": {},
   "outputs": [
    {
     "data": {
      "text/plain": [
       "array([30, 34, 38, 42, 46, 50])"
      ]
     },
     "execution_count": 11,
     "metadata": {},
     "output_type": "execute_result"
    }
   ],
   "source": [
    "np.linspace(30,50,6 , dtype=int)     # Endpoint bunda dahil."
   ]
  },
  {
   "cell_type": "code",
   "execution_count": 12,
   "id": "ae25aee6-a528-4197-97f3-735dd24a9ea9",
   "metadata": {},
   "outputs": [
    {
     "data": {
      "text/plain": [
       "array([  10.        ,   31.6227766 ,  100.        ,  316.22776602,\n",
       "       1000.        ])"
      ]
     },
     "execution_count": 12,
     "metadata": {},
     "output_type": "execute_result"
    }
   ],
   "source": [
    "np.logspace(1,3 , 5)       # 10**1 ile 10**3 arasında logaritmik artış yapan 5 tane veriden oluşan bir array oluştur."
   ]
  },
  {
   "cell_type": "markdown",
   "id": "9d2cf6eb-78f2-4440-9663-ab8467aa7eca",
   "metadata": {},
   "source": [
    "### 3) Rastgele data üreterek"
   ]
  },
  {
   "cell_type": "code",
   "execution_count": 14,
   "id": "e09f831d-e203-40e7-8e7c-230ea20c9f7f",
   "metadata": {},
   "outputs": [
    {
     "data": {
      "text/plain": [
       "array([[0.88935676, 0.85223235, 0.23101219, 0.58003482, 0.07359282],\n",
       "       [0.57466522, 0.3220031 , 0.57633736, 0.84242084, 0.30943184]])"
      ]
     },
     "execution_count": 14,
     "metadata": {},
     "output_type": "execute_result"
    }
   ],
   "source": [
    "np.random.rand(2,5)         # (2,5) formatında (0 - 1) aralığında array oluşturma"
   ]
  },
  {
   "cell_type": "code",
   "execution_count": 23,
   "id": "07c7d711-6357-47e5-8c78-eaaf3208896c",
   "metadata": {},
   "outputs": [
    {
     "data": {
      "text/plain": [
       "array([[10.07888684, 10.85178508, 10.84414677,  8.91203763],\n",
       "       [13.46558114, 15.13963373, 16.96447709,  6.96282359],\n",
       "       [ 9.6951544 ,  7.49746618, 13.72860005,  8.60192359]])"
      ]
     },
     "execution_count": 23,
     "metadata": {},
     "output_type": "execute_result"
    }
   ],
   "source": [
    "np.random.normal(10,4, (3,4))     # ortalama 10 standart sapması 4 olam 3'e 4 matris oluşturma dağılımı biz belirttik\n",
    "                                  # yani istediğimiz dağılım özellliğinde bir array oluşturmuş olduk"
   ]
  },
  {
   "cell_type": "code",
   "execution_count": 41,
   "id": "ce48c432-84c4-4f30-9c20-b8027fc4441e",
   "metadata": {},
   "outputs": [
    {
     "data": {
      "text/plain": [
       "array([30, 29, 23, 39, 18])"
      ]
     },
     "execution_count": 41,
     "metadata": {},
     "output_type": "execute_result"
    }
   ],
   "source": [
    "np.random.randint(15,50,5)             # rastgele int veri oluşturma"
   ]
  },
  {
   "cell_type": "code",
   "execution_count": 48,
   "id": "b7bfbb2e-7811-4d75-bd17-97306ecd9e78",
   "metadata": {},
   "outputs": [
    {
     "data": {
      "text/plain": [
       "array([[7, 0, 7],\n",
       "       [4, 3, 1],\n",
       "       [2, 3, 1]])"
      ]
     },
     "execution_count": 48,
     "metadata": {},
     "output_type": "execute_result"
    }
   ],
   "source": [
    "np.random.randint(0,10, (3,3))      "
   ]
  },
  {
   "cell_type": "code",
   "execution_count": 44,
   "id": "74d0d1bb-541c-4025-84e7-bae78c186243",
   "metadata": {},
   "outputs": [
    {
     "data": {
      "text/plain": [
       "array([[5, 8, 4],\n",
       "       [2, 0, 5],\n",
       "       [6, 3, 4]])"
      ]
     },
     "execution_count": 44,
     "metadata": {},
     "output_type": "execute_result"
    }
   ],
   "source": [
    "np.random.randint(10, size = (3,3))    # yukarıdakinle aynı sonuç"
   ]
  },
  {
   "cell_type": "code",
   "execution_count": 46,
   "id": "ed7fec86-be18-4556-a783-d425b0658d60",
   "metadata": {},
   "outputs": [
    {
     "data": {
      "text/plain": [
       "array([[0, 1, 2],\n",
       "       [3, 4, 5],\n",
       "       [6, 7, 8]])"
      ]
     },
     "execution_count": 46,
     "metadata": {},
     "output_type": "execute_result"
    }
   ],
   "source": [
    "np.arange(9).reshape((3,3))            # yukarıdakinle aynı form da sonuç verdi"
   ]
  },
  {
   "cell_type": "markdown",
   "id": "10892f0e-69fa-4a44-b0d2-b059563cb6de",
   "metadata": {
    "tags": []
   },
   "source": [
    "## NumPy Array Özellikleri"
   ]
  },
  {
   "cell_type": "markdown",
   "id": "a6dee4a1-5580-4e71-b141-959d3a244cce",
   "metadata": {},
   "source": [
    "* **ndim**: boyut sayısı\n",
    "* **shape**: boyut bilgisi\n",
    "* **size**: toplam eleman sayısı\n",
    "* **dtype**: array veri tipi"
   ]
  },
  {
   "cell_type": "code",
   "execution_count": 5,
   "id": "58bd0725-e1ca-4b73-bb12-073502aa2666",
   "metadata": {},
   "outputs": [],
   "source": [
    "a = np.random.randint(10, size = 10)"
   ]
  },
  {
   "cell_type": "code",
   "execution_count": 6,
   "id": "6b5fca65-6683-4081-b555-f59df7e72206",
   "metadata": {},
   "outputs": [
    {
     "data": {
      "text/plain": [
       "array([4, 2, 7, 5, 3, 8, 7, 4, 1, 2])"
      ]
     },
     "execution_count": 6,
     "metadata": {},
     "output_type": "execute_result"
    }
   ],
   "source": [
    "a"
   ]
  },
  {
   "cell_type": "code",
   "execution_count": 7,
   "id": "ab1e92d0-3ca4-4613-afdd-224baa41f799",
   "metadata": {},
   "outputs": [
    {
     "data": {
      "text/plain": [
       "1"
      ]
     },
     "execution_count": 7,
     "metadata": {},
     "output_type": "execute_result"
    }
   ],
   "source": [
    "a.ndim       # tek boyutlu array"
   ]
  },
  {
   "cell_type": "code",
   "execution_count": 9,
   "id": "562c4d9f-bbe6-47eb-8644-3b36ebb0e286",
   "metadata": {},
   "outputs": [
    {
     "data": {
      "text/plain": [
       "(10,)"
      ]
     },
     "execution_count": 9,
     "metadata": {},
     "output_type": "execute_result"
    }
   ],
   "source": [
    "a.shape          # 1 satır 10 sütun ama 1'i yazmıyor sütunu yazıyor o da tuple içinde olduğu için virgülle yazılıyor"
   ]
  },
  {
   "cell_type": "code",
   "execution_count": 30,
   "id": "93c65138-091b-423b-9e97-22823cc85914",
   "metadata": {},
   "outputs": [
    {
     "data": {
      "text/plain": [
       "dtype('int32')"
      ]
     },
     "execution_count": 30,
     "metadata": {},
     "output_type": "execute_result"
    }
   ],
   "source": [
    "a.dtype"
   ]
  },
  {
   "cell_type": "code",
   "execution_count": 31,
   "id": "dada2ef8-0474-4b7e-b020-1b596e95379c",
   "metadata": {},
   "outputs": [
    {
     "data": {
      "text/plain": [
       "10"
      ]
     },
     "execution_count": 31,
     "metadata": {},
     "output_type": "execute_result"
    }
   ],
   "source": [
    "a.size"
   ]
  },
  {
   "cell_type": "code",
   "execution_count": 32,
   "id": "cda9a815-60ab-4eef-a9a9-5a09080b4529",
   "metadata": {},
   "outputs": [],
   "source": [
    "b = np.random.randint(10, size = (3,5))"
   ]
  },
  {
   "cell_type": "code",
   "execution_count": 33,
   "id": "5d0da3d9-6885-4c09-81b7-46e39b46ec3b",
   "metadata": {},
   "outputs": [
    {
     "data": {
      "text/plain": [
       "array([[1, 1, 4, 7, 2],\n",
       "       [6, 5, 5, 8, 5],\n",
       "       [0, 7, 4, 1, 2]])"
      ]
     },
     "execution_count": 33,
     "metadata": {},
     "output_type": "execute_result"
    }
   ],
   "source": [
    "b"
   ]
  },
  {
   "cell_type": "code",
   "execution_count": 34,
   "id": "8effe0d6-f7a6-412d-b792-c8168307aada",
   "metadata": {},
   "outputs": [
    {
     "data": {
      "text/plain": [
       "2"
      ]
     },
     "execution_count": 34,
     "metadata": {},
     "output_type": "execute_result"
    }
   ],
   "source": [
    "b.ndim       # 2 boyutlu array"
   ]
  },
  {
   "cell_type": "code",
   "execution_count": 35,
   "id": "98cb3b42-d9ec-4ad7-a126-b89a1d0984dc",
   "metadata": {},
   "outputs": [
    {
     "data": {
      "text/plain": [
       "(3, 5)"
      ]
     },
     "execution_count": 35,
     "metadata": {},
     "output_type": "execute_result"
    }
   ],
   "source": [
    "b.shape      # boyut bilgisi"
   ]
  },
  {
   "cell_type": "code",
   "execution_count": 36,
   "id": "6731e519-73ee-4d60-8450-7041af8b37f5",
   "metadata": {},
   "outputs": [
    {
     "data": {
      "text/plain": [
       "15"
      ]
     },
     "execution_count": 36,
     "metadata": {},
     "output_type": "execute_result"
    }
   ],
   "source": [
    "b.size"
   ]
  },
  {
   "cell_type": "code",
   "execution_count": 37,
   "id": "71de9701-9e00-4d1a-a508-e56f522c7481",
   "metadata": {},
   "outputs": [
    {
     "data": {
      "text/plain": [
       "dtype('int32')"
      ]
     },
     "execution_count": 37,
     "metadata": {},
     "output_type": "execute_result"
    }
   ],
   "source": [
    "b.dtype"
   ]
  },
  {
   "cell_type": "markdown",
   "id": "bbbdc8a4-d85f-4c87-b7e0-fcd0d6a4bf5f",
   "metadata": {},
   "source": [
    "## Yeniden Şekillendirme (reshaping)"
   ]
  },
  {
   "cell_type": "code",
   "execution_count": 2,
   "id": "18637341-544b-493a-a348-be86b12b157e",
   "metadata": {},
   "outputs": [
    {
     "data": {
      "text/plain": [
       "array([1, 2, 3, 4, 5, 6, 7, 8, 9])"
      ]
     },
     "execution_count": 2,
     "metadata": {},
     "output_type": "execute_result"
    }
   ],
   "source": [
    "np.arange(1,10)                    # vektör(tek boyutlu)"
   ]
  },
  {
   "cell_type": "code",
   "execution_count": 3,
   "id": "fad4e0be-ff53-4fa9-9e23-b947cb8d94f9",
   "metadata": {},
   "outputs": [
    {
     "data": {
      "text/plain": [
       "array([[1, 2, 3],\n",
       "       [4, 5, 6],\n",
       "       [7, 8, 9]])"
      ]
     },
     "execution_count": 3,
     "metadata": {},
     "output_type": "execute_result"
    }
   ],
   "source": [
    "np.arange(1,10).reshape((3,3))     # matrise(çok boyutlu) dönüştürme işlemi"
   ]
  },
  {
   "cell_type": "code",
   "execution_count": 4,
   "id": "7fd48bc7-4e56-49a8-9104-eb8c217abd58",
   "metadata": {},
   "outputs": [],
   "source": [
    "a = np.arange(1,10)"
   ]
  },
  {
   "cell_type": "code",
   "execution_count": 5,
   "id": "87e5cc81-ad1c-4e7a-8582-0d8d8a86d079",
   "metadata": {},
   "outputs": [
    {
     "data": {
      "text/plain": [
       "array([1, 2, 3, 4, 5, 6, 7, 8, 9])"
      ]
     },
     "execution_count": 5,
     "metadata": {},
     "output_type": "execute_result"
    }
   ],
   "source": [
    "a       # bu vektör "
   ]
  },
  {
   "cell_type": "code",
   "execution_count": 7,
   "id": "eea08053-7e40-4e24-9fdb-8f94b2ccd659",
   "metadata": {},
   "outputs": [],
   "source": [
    "b = a.reshape((1,9))                # bir satır 9 sutun dan oluşan matris"
   ]
  },
  {
   "cell_type": "code",
   "execution_count": 8,
   "id": "f0cf3d97-6888-4fb6-9c3f-aedcc97a02e8",
   "metadata": {},
   "outputs": [
    {
     "data": {
      "text/plain": [
       "array([[1, 2, 3, 4, 5, 6, 7, 8, 9]])"
      ]
     },
     "execution_count": 8,
     "metadata": {},
     "output_type": "execute_result"
    }
   ],
   "source": [
    "b       # bu matris"
   ]
  },
  {
   "cell_type": "code",
   "execution_count": 49,
   "id": "8f81af0b-9a40-42ee-b0ab-6474c69751fd",
   "metadata": {},
   "outputs": [
    {
     "data": {
      "text/plain": [
       "2"
      ]
     },
     "execution_count": 49,
     "metadata": {},
     "output_type": "execute_result"
    }
   ],
   "source": [
    "b.ndim    # matris olduğunun kanıtı"
   ]
  },
  {
   "cell_type": "markdown",
   "id": "da457cb5-6175-4f1c-a791-becdb6dd5a34",
   "metadata": {},
   "source": [
    "## Array Birleştirme (Concatenation)"
   ]
  },
  {
   "cell_type": "code",
   "execution_count": 52,
   "id": "9a2bcc11-d41e-466f-ba71-a36ae65b45d5",
   "metadata": {},
   "outputs": [],
   "source": [
    "x = np.array([1,2,3])\n",
    "y = np.array([4,5,6])"
   ]
  },
  {
   "cell_type": "code",
   "execution_count": 53,
   "id": "8c0f4441-beb5-4de5-ab87-d6188e030cc8",
   "metadata": {},
   "outputs": [
    {
     "data": {
      "text/plain": [
       "array([1, 2, 3, 4, 5, 6])"
      ]
     },
     "execution_count": 53,
     "metadata": {},
     "output_type": "execute_result"
    }
   ],
   "source": [
    "np.concatenate([x,y])            # tek boyut birleştirme"
   ]
  },
  {
   "cell_type": "code",
   "execution_count": 54,
   "id": "2b35caba-6829-4228-92d1-7cb359a39513",
   "metadata": {},
   "outputs": [],
   "source": [
    "z = np.array([7,8,9])"
   ]
  },
  {
   "cell_type": "code",
   "execution_count": 55,
   "id": "dccde0bf-fc52-49f4-8438-1332964ec009",
   "metadata": {},
   "outputs": [
    {
     "data": {
      "text/plain": [
       "array([1, 2, 3, 4, 5, 6, 7, 8, 9])"
      ]
     },
     "execution_count": 55,
     "metadata": {},
     "output_type": "execute_result"
    }
   ],
   "source": [
    "np.concatenate([x,y,z])          # tek boyut birleştirme"
   ]
  },
  {
   "cell_type": "code",
   "execution_count": 56,
   "id": "e9d32cfb-d69c-4385-a6d7-f251b0999285",
   "metadata": {},
   "outputs": [],
   "source": [
    "a = np.array([[1,2,3],            # 2 boyutlu array'i manuel oluşturduk\n",
    "              [4,5,6]])           # a = np.array([[1,2,3], [4,5,6]])  yandakinle aynı ifade"
   ]
  },
  {
   "cell_type": "code",
   "execution_count": 58,
   "id": "a9fb56d8-79a6-4e6b-ac38-0c1dff2c145d",
   "metadata": {},
   "outputs": [
    {
     "data": {
      "text/plain": [
       "array([[1, 2, 3],\n",
       "       [4, 5, 6],\n",
       "       [1, 2, 3],\n",
       "       [4, 5, 6]])"
      ]
     },
     "execution_count": 58,
     "metadata": {},
     "output_type": "execute_result"
    }
   ],
   "source": [
    "np.concatenate([a,a])             # 2 boyutlu birleştirme"
   ]
  },
  {
   "cell_type": "code",
   "execution_count": null,
   "id": "a4d91c2c-0001-418a-b36b-eba1a8ff86d4",
   "metadata": {},
   "outputs": [],
   "source": [
    "# axis eksen belirtmek için kullanılır \n",
    "# axis = 0 satırları\n",
    "# azis = 1 sütunları belirtir"
   ]
  },
  {
   "cell_type": "code",
   "execution_count": 59,
   "id": "fea11812-65f0-47f9-a2c1-5b57e6e08032",
   "metadata": {},
   "outputs": [
    {
     "data": {
      "text/plain": [
       "array([[1, 2, 3],\n",
       "       [4, 5, 6],\n",
       "       [1, 2, 3],\n",
       "       [4, 5, 6]])"
      ]
     },
     "execution_count": 59,
     "metadata": {},
     "output_type": "execute_result"
    }
   ],
   "source": [
    "np.concatenate([a,a], axis = 0 )       # satır bazında birleştirme (axis = 0)"
   ]
  },
  {
   "cell_type": "code",
   "execution_count": 60,
   "id": "9a95cd80-53a5-4201-8e35-264e9bc637b6",
   "metadata": {},
   "outputs": [
    {
     "data": {
      "text/plain": [
       "array([[1, 2, 3, 1, 2, 3],\n",
       "       [4, 5, 6, 4, 5, 6]])"
      ]
     },
     "execution_count": 60,
     "metadata": {},
     "output_type": "execute_result"
    }
   ],
   "source": [
    "np.concatenate([a,a], axis = 1 )       # sütun bazında birleştirme (axis = 1)"
   ]
  },
  {
   "cell_type": "markdown",
   "id": "778b55c9-05fe-4ac0-b473-5d75b994ee6e",
   "metadata": {},
   "source": [
    "## Array Ayırma işlemleri (Splitting)"
   ]
  },
  {
   "cell_type": "code",
   "execution_count": 61,
   "id": "2f2db21d-da34-4495-874f-d803d89b99b5",
   "metadata": {},
   "outputs": [
    {
     "data": {
      "text/plain": [
       "[array([1, 2, 3]), array([99, 99]), array([3, 2, 1])]"
      ]
     },
     "execution_count": 61,
     "metadata": {},
     "output_type": "execute_result"
    }
   ],
   "source": [
    "x = np.array([1,2,3,99,99,3,2,1])\n",
    "np.split(x,[3,5,])                  # arrayi ilk 3'e, sonra 5'e kadar kalanida otamatik ayırıyor"
   ]
  },
  {
   "cell_type": "code",
   "execution_count": 63,
   "id": "83c4cae8-5234-4e60-8297-eeb048e5122d",
   "metadata": {},
   "outputs": [],
   "source": [
    "a,b,c = np.split(x,[3,5,])          # ayırma işlemini değişkenlere atama"
   ]
  },
  {
   "cell_type": "code",
   "execution_count": 64,
   "id": "76a2138a-ef70-47e6-858d-d514aa3f3e17",
   "metadata": {},
   "outputs": [
    {
     "data": {
      "text/plain": [
       "array([1, 2, 3])"
      ]
     },
     "execution_count": 64,
     "metadata": {},
     "output_type": "execute_result"
    }
   ],
   "source": [
    "a"
   ]
  },
  {
   "cell_type": "code",
   "execution_count": 65,
   "id": "523faeff-6113-4907-b067-88e40a39478a",
   "metadata": {},
   "outputs": [
    {
     "data": {
      "text/plain": [
       "array([99, 99])"
      ]
     },
     "execution_count": 65,
     "metadata": {},
     "output_type": "execute_result"
    }
   ],
   "source": [
    "b"
   ]
  },
  {
   "cell_type": "code",
   "execution_count": 66,
   "id": "1561d8c7-81f0-40c0-9445-bbed08b5407c",
   "metadata": {},
   "outputs": [
    {
     "data": {
      "text/plain": [
       "array([3, 2, 1])"
      ]
     },
     "execution_count": 66,
     "metadata": {},
     "output_type": "execute_result"
    }
   ],
   "source": [
    "c"
   ]
  },
  {
   "cell_type": "code",
   "execution_count": null,
   "id": "619d79f3-7aec-47b7-a45b-a1636526b4db",
   "metadata": {},
   "outputs": [],
   "source": [
    "# iki boyutlu ayırma"
   ]
  },
  {
   "cell_type": "code",
   "execution_count": 10,
   "id": "fbc2f5a0-dcc4-4056-8c47-2be61e336cef",
   "metadata": {},
   "outputs": [
    {
     "data": {
      "text/plain": [
       "array([[ 0,  1,  2,  3],\n",
       "       [ 4,  5,  6,  7],\n",
       "       [ 8,  9, 10, 11],\n",
       "       [12, 13, 14, 15]])"
      ]
     },
     "execution_count": 10,
     "metadata": {},
     "output_type": "execute_result"
    }
   ],
   "source": [
    "m = np.arange(16).reshape(4,4)   \n",
    "m"
   ]
  },
  {
   "cell_type": "code",
   "execution_count": 69,
   "id": "f5b7790d-693b-439f-a397-89424494d4f1",
   "metadata": {},
   "outputs": [
    {
     "data": {
      "text/plain": [
       "[array([[0, 1, 2, 3],\n",
       "        [4, 5, 6, 7]]),\n",
       " array([[ 8,  9, 10, 11],\n",
       "        [12, 13, 14, 15]])]"
      ]
     },
     "execution_count": 69,
     "metadata": {},
     "output_type": "execute_result"
    }
   ],
   "source": [
    "np.vsplit(m, [2])              # satır bazında bölme "
   ]
  },
  {
   "cell_type": "code",
   "execution_count": 70,
   "id": "f1411ecd-a8dc-419a-8e8f-df2482208fe6",
   "metadata": {},
   "outputs": [],
   "source": [
    "ust,alt = np.vsplit(m, [2])"
   ]
  },
  {
   "cell_type": "code",
   "execution_count": 71,
   "id": "cce4cc5e-94bf-4d4a-b61e-36bdbf6110be",
   "metadata": {},
   "outputs": [
    {
     "data": {
      "text/plain": [
       "array([[0, 1, 2, 3],\n",
       "       [4, 5, 6, 7]])"
      ]
     },
     "execution_count": 71,
     "metadata": {},
     "output_type": "execute_result"
    }
   ],
   "source": [
    "ust"
   ]
  },
  {
   "cell_type": "code",
   "execution_count": 72,
   "id": "254cad1c-bbd1-4e1e-a495-6ae862177d05",
   "metadata": {},
   "outputs": [
    {
     "data": {
      "text/plain": [
       "array([[ 8,  9, 10, 11],\n",
       "       [12, 13, 14, 15]])"
      ]
     },
     "execution_count": 72,
     "metadata": {},
     "output_type": "execute_result"
    }
   ],
   "source": [
    "alt"
   ]
  },
  {
   "cell_type": "code",
   "execution_count": 73,
   "id": "c16720cb-31ec-4969-8abc-6eb21a502e9a",
   "metadata": {},
   "outputs": [
    {
     "data": {
      "text/plain": [
       "array([[ 0,  1,  2,  3],\n",
       "       [ 4,  5,  6,  7],\n",
       "       [ 8,  9, 10, 11],\n",
       "       [12, 13, 14, 15]])"
      ]
     },
     "execution_count": 73,
     "metadata": {},
     "output_type": "execute_result"
    }
   ],
   "source": [
    "m"
   ]
  },
  {
   "cell_type": "code",
   "execution_count": 74,
   "id": "89688c3c-b83e-4e24-b2dd-d91edc646dae",
   "metadata": {},
   "outputs": [
    {
     "data": {
      "text/plain": [
       "[array([[ 0,  1],\n",
       "        [ 4,  5],\n",
       "        [ 8,  9],\n",
       "        [12, 13]]),\n",
       " array([[ 2,  3],\n",
       "        [ 6,  7],\n",
       "        [10, 11],\n",
       "        [14, 15]])]"
      ]
     },
     "execution_count": 74,
     "metadata": {},
     "output_type": "execute_result"
    }
   ],
   "source": [
    "np.hsplit(m, [2])               # sütun bazında bölme"
   ]
  },
  {
   "cell_type": "code",
   "execution_count": 75,
   "id": "a2d0306e-2dc2-430a-a60e-9ccd243a7c5c",
   "metadata": {},
   "outputs": [],
   "source": [
    "sag,sol = np.hsplit(m, [2])"
   ]
  },
  {
   "cell_type": "markdown",
   "id": "09894ed7-653d-4b85-bbda-4c1c5f004781",
   "metadata": {},
   "source": [
    "sag"
   ]
  },
  {
   "cell_type": "code",
   "execution_count": 77,
   "id": "7ab9fb12-822e-42ca-9d5c-ed44b39ff5df",
   "metadata": {},
   "outputs": [
    {
     "data": {
      "text/plain": [
       "array([[ 2,  3],\n",
       "       [ 6,  7],\n",
       "       [10, 11],\n",
       "       [14, 15]])"
      ]
     },
     "execution_count": 77,
     "metadata": {},
     "output_type": "execute_result"
    }
   ],
   "source": [
    "sol"
   ]
  },
  {
   "cell_type": "markdown",
   "id": "881ca3a4-ada1-4d99-b495-40f79a1a4de6",
   "metadata": {},
   "source": [
    "# Array sıralama (Sorting) "
   ]
  },
  {
   "cell_type": "code",
   "execution_count": 78,
   "id": "70b49b9d-40cb-4b16-9a58-c579e0896c10",
   "metadata": {
    "tags": []
   },
   "outputs": [],
   "source": [
    "v = np.array([2,1,4,3,5])"
   ]
  },
  {
   "cell_type": "code",
   "execution_count": 79,
   "id": "0a17b839-70d9-404f-b6a8-1e9bb1a92cf4",
   "metadata": {},
   "outputs": [
    {
     "data": {
      "text/plain": [
       "array([2, 1, 4, 3, 5])"
      ]
     },
     "execution_count": 79,
     "metadata": {},
     "output_type": "execute_result"
    }
   ],
   "source": [
    "v"
   ]
  },
  {
   "cell_type": "code",
   "execution_count": 80,
   "id": "c2583fe0-0241-4376-9458-1fd5eeadb908",
   "metadata": {},
   "outputs": [
    {
     "data": {
      "text/plain": [
       "array([1, 2, 3, 4, 5])"
      ]
     },
     "execution_count": 80,
     "metadata": {},
     "output_type": "execute_result"
    }
   ],
   "source": [
    "np.sort(v)                 # NumPy dan özel fonksiyon çağrılınca verinin orjinal yapısı bozulmadı"
   ]
  },
  {
   "cell_type": "code",
   "execution_count": 81,
   "id": "3d2debd8-629b-471a-8084-a8899ca18708",
   "metadata": {},
   "outputs": [
    {
     "data": {
      "text/plain": [
       "array([2, 1, 4, 3, 5])"
      ]
     },
     "execution_count": 81,
     "metadata": {},
     "output_type": "execute_result"
    }
   ],
   "source": [
    "v"
   ]
  },
  {
   "cell_type": "code",
   "execution_count": 82,
   "id": "48db6fc1-8a85-4f0d-8f59-fcae39f73f54",
   "metadata": {},
   "outputs": [],
   "source": [
    "v.sort()                    # direk sort() özel fonksiyon kullanımı verinin orjinal yapısını bozar "
   ]
  },
  {
   "cell_type": "code",
   "execution_count": 83,
   "id": "30ff351a-7b33-474c-a2b2-a6687e603e14",
   "metadata": {},
   "outputs": [
    {
     "data": {
      "text/plain": [
       "array([1, 2, 3, 4, 5])"
      ]
     },
     "execution_count": 83,
     "metadata": {},
     "output_type": "execute_result"
    }
   ],
   "source": [
    "v"
   ]
  },
  {
   "cell_type": "code",
   "execution_count": 85,
   "id": "265e1487-2353-488a-badd-e700af604225",
   "metadata": {},
   "outputs": [],
   "source": [
    "m = np.random.normal(20,5, (3,3))   # ortalama 20, standart sapması 5 olan 3'e 3 matris oluşturma"
   ]
  },
  {
   "cell_type": "code",
   "execution_count": 86,
   "id": "8b51445d-c7f8-483f-97fc-8db009e2e163",
   "metadata": {},
   "outputs": [
    {
     "data": {
      "text/plain": [
       "array([[29.919038  , 26.56728827, 19.7717729 ],\n",
       "       [21.69566585, 18.55933605, 15.89158978],\n",
       "       [10.58307723,  9.8069179 , 23.31018897]])"
      ]
     },
     "execution_count": 86,
     "metadata": {},
     "output_type": "execute_result"
    }
   ],
   "source": [
    "m"
   ]
  },
  {
   "cell_type": "code",
   "execution_count": 87,
   "id": "fdbee17b-b781-44de-8c93-e2b8941bbf19",
   "metadata": {},
   "outputs": [
    {
     "data": {
      "text/plain": [
       "array([[19.7717729 , 26.56728827, 29.919038  ],\n",
       "       [15.89158978, 18.55933605, 21.69566585],\n",
       "       [ 9.8069179 , 10.58307723, 23.31018897]])"
      ]
     },
     "execution_count": 87,
     "metadata": {},
     "output_type": "execute_result"
    }
   ],
   "source": [
    "np.sort(m, axis = 1)                 # satırları sıralama"
   ]
  },
  {
   "cell_type": "code",
   "execution_count": 88,
   "id": "55be8b93-4aaf-43ce-b582-93163b2a5892",
   "metadata": {},
   "outputs": [
    {
     "data": {
      "text/plain": [
       "array([[10.58307723,  9.8069179 , 15.89158978],\n",
       "       [21.69566585, 18.55933605, 19.7717729 ],\n",
       "       [29.919038  , 26.56728827, 23.31018897]])"
      ]
     },
     "execution_count": 88,
     "metadata": {},
     "output_type": "execute_result"
    }
   ],
   "source": [
    "np.sort(m, axis = 0)                  # sütünları sıralama"
   ]
  },
  {
   "cell_type": "code",
   "execution_count": null,
   "id": "72ed140c-52a2-429e-9df2-243dd36b7a40",
   "metadata": {},
   "outputs": [],
   "source": []
  }
 ],
 "metadata": {
  "kernelspec": {
   "display_name": "Python 3 (ipykernel)",
   "language": "python",
   "name": "python3"
  },
  "language_info": {
   "codemirror_mode": {
    "name": "ipython",
    "version": 3
   },
   "file_extension": ".py",
   "mimetype": "text/x-python",
   "name": "python",
   "nbconvert_exporter": "python",
   "pygments_lexer": "ipython3",
   "version": "3.10.9"
  }
 },
 "nbformat": 4,
 "nbformat_minor": 5
}
