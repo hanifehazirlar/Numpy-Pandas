{
 "cells": [
  {
   "cell_type": "markdown",
   "id": "95579f45-51d1-4102-9da8-f17253b728b2",
   "metadata": {},
   "source": [
    "## İndex ile elemanlara erişim"
   ]
  },
  {
   "cell_type": "code",
   "execution_count": 1,
   "id": "88cb182c-5bd5-459c-b3a7-0cb118b8beac",
   "metadata": {},
   "outputs": [],
   "source": [
    "import numpy as np"
   ]
  },
  {
   "cell_type": "code",
   "execution_count": 2,
   "id": "40cb3b2c-0dc1-4b57-bfff-117a5e46b26a",
   "metadata": {},
   "outputs": [
    {
     "data": {
      "text/plain": [
       "array([8, 2, 6, 0, 5, 3, 7, 2, 7, 6])"
      ]
     },
     "execution_count": 2,
     "metadata": {},
     "output_type": "execute_result"
    }
   ],
   "source": [
    "a = np.random.randint(10, size = 10)\n",
    "a"
   ]
  },
  {
   "cell_type": "code",
   "execution_count": 3,
   "id": "ac8b215b-9013-4ad5-8eee-4de79d6a5187",
   "metadata": {},
   "outputs": [
    {
     "data": {
      "text/plain": [
       "8"
      ]
     },
     "execution_count": 3,
     "metadata": {},
     "output_type": "execute_result"
    }
   ],
   "source": [
    "a[0]"
   ]
  },
  {
   "cell_type": "code",
   "execution_count": 4,
   "id": "a07a0d80-6a28-44e9-acdf-d1a082e991e5",
   "metadata": {},
   "outputs": [
    {
     "data": {
      "text/plain": [
       "6"
      ]
     },
     "execution_count": 4,
     "metadata": {},
     "output_type": "execute_result"
    }
   ],
   "source": [
    "a[-1]"
   ]
  },
  {
   "cell_type": "code",
   "execution_count": 5,
   "id": "f21c882d-9f24-475a-b54f-f58c453f696d",
   "metadata": {},
   "outputs": [],
   "source": [
    "a[0] = 100               # eleman değiştirme işlemi"
   ]
  },
  {
   "cell_type": "code",
   "execution_count": 6,
   "id": "a1b6b8ca-871b-4841-9c58-2804e3725fb0",
   "metadata": {},
   "outputs": [
    {
     "data": {
      "text/plain": [
       "array([100,   2,   6,   0,   5,   3,   7,   2,   7,   6])"
      ]
     },
     "execution_count": 6,
     "metadata": {},
     "output_type": "execute_result"
    }
   ],
   "source": [
    "a"
   ]
  },
  {
   "cell_type": "code",
   "execution_count": 7,
   "id": "7497e651-c331-4ecf-9acc-e60d850c9241",
   "metadata": {},
   "outputs": [],
   "source": [
    "m = np.random.randint(10, size = (3,5))"
   ]
  },
  {
   "cell_type": "code",
   "execution_count": 8,
   "id": "b87cd59b-1dd4-42b1-aed8-0b8769eaf1c7",
   "metadata": {},
   "outputs": [
    {
     "data": {
      "text/plain": [
       "array([[1, 1, 6, 1, 5],\n",
       "       [7, 5, 3, 8, 8],\n",
       "       [5, 3, 1, 1, 5]])"
      ]
     },
     "execution_count": 8,
     "metadata": {},
     "output_type": "execute_result"
    }
   ],
   "source": [
    "m"
   ]
  },
  {
   "cell_type": "code",
   "execution_count": 11,
   "id": "eaaa7bff-22d1-4ddf-bd06-666342fb4fe0",
   "metadata": {},
   "outputs": [
    {
     "data": {
      "text/plain": [
       "3"
      ]
     },
     "execution_count": 11,
     "metadata": {},
     "output_type": "execute_result"
    }
   ],
   "source": [
    "m[0,0]                     # 2 boyutlu array üzerinden eleman erişimi       "
   ]
  },
  {
   "cell_type": "code",
   "execution_count": 12,
   "id": "a9eb95de-5173-423f-8d62-7a005f4be823",
   "metadata": {},
   "outputs": [
    {
     "data": {
      "text/plain": [
       "6"
      ]
     },
     "execution_count": 12,
     "metadata": {},
     "output_type": "execute_result"
    }
   ],
   "source": [
    "m[1,1]"
   ]
  },
  {
   "cell_type": "code",
   "execution_count": 13,
   "id": "f06c35d7-e448-4bf0-91df-644e42c52b7e",
   "metadata": {},
   "outputs": [
    {
     "data": {
      "text/plain": [
       "array([[ 3,  5,  8,  2,  9],\n",
       "       [ 1,  6,  8,  6, 99],\n",
       "       [ 4,  4,  5,  7,  6]])"
      ]
     },
     "execution_count": 13,
     "metadata": {},
     "output_type": "execute_result"
    }
   ],
   "source": [
    "m[1,4] = 99                # 2 boyutlu array üzerinden eleman değişikliği\n",
    "m"
   ]
  },
  {
   "cell_type": "code",
   "execution_count": 14,
   "id": "74c032c4-9fa5-48fa-8eaf-7a3fa3d51e5d",
   "metadata": {},
   "outputs": [
    {
     "data": {
      "text/plain": [
       "array([[3, 5, 8, 2, 9],\n",
       "       [1, 6, 8, 6, 2],\n",
       "       [4, 4, 5, 7, 6]])"
      ]
     },
     "execution_count": 14,
     "metadata": {},
     "output_type": "execute_result"
    }
   ],
   "source": [
    "m[1,4] = 2.2       # ondalık tip ekleme yapınca kabul etmedi. çünkü array fix type modunda  çalışıyor (şuan int type) \n",
    "m "
   ]
  },
  {
   "cell_type": "markdown",
   "id": "83f809e2-495f-4547-bad4-508913921d65",
   "metadata": {},
   "source": [
    "## Slicing ile Elemanlara Erişim (array alt kümesine erişmek )"
   ]
  },
  {
   "cell_type": "code",
   "execution_count": null,
   "id": "d7dec9bb-0496-44a0-b36a-473fc2d6ba0f",
   "metadata": {},
   "outputs": [],
   "source": [
    "# tek boyutlu slice işlemler"
   ]
  },
  {
   "cell_type": "code",
   "execution_count": 15,
   "id": "d8631cdf-5d9c-4424-8e5c-3b9b6507ed71",
   "metadata": {},
   "outputs": [
    {
     "data": {
      "text/plain": [
       "array([20, 21, 22, 23, 24, 25, 26, 27, 28, 29])"
      ]
     },
     "execution_count": 15,
     "metadata": {},
     "output_type": "execute_result"
    }
   ],
   "source": [
    "a = np.arange(20,30)\n",
    "a"
   ]
  },
  {
   "cell_type": "code",
   "execution_count": 16,
   "id": "68694ecc-52b1-41d5-9add-e0736cf98f42",
   "metadata": {},
   "outputs": [
    {
     "data": {
      "text/plain": [
       "array([20, 21, 22])"
      ]
     },
     "execution_count": 16,
     "metadata": {},
     "output_type": "execute_result"
    }
   ],
   "source": [
    "a[0:3]                               # dilimleme"
   ]
  },
  {
   "cell_type": "code",
   "execution_count": 17,
   "id": "cb43de74-0449-4a25-84eb-e3233b0fe0f1",
   "metadata": {},
   "outputs": [
    {
     "data": {
      "text/plain": [
       "array([23, 24, 25, 26, 27, 28, 29])"
      ]
     },
     "execution_count": 17,
     "metadata": {},
     "output_type": "execute_result"
    }
   ],
   "source": [
    "a[3:]"
   ]
  },
  {
   "cell_type": "code",
   "execution_count": 19,
   "id": "0a5e121f-fcaa-4186-aeec-dc7ce0538cbd",
   "metadata": {},
   "outputs": [
    {
     "data": {
      "text/plain": [
       "array([20, 22, 24, 26, 28])"
      ]
     },
     "execution_count": 19,
     "metadata": {},
     "output_type": "execute_result"
    }
   ],
   "source": [
    "a[0::2]                               # 2' şer 2' şer ilerleme"
   ]
  },
  {
   "cell_type": "code",
   "execution_count": 20,
   "id": "08d5a2c4-1203-4e67-892c-793c0fcdf573",
   "metadata": {},
   "outputs": [],
   "source": [
    "# iki boyutlu slice işlemler"
   ]
  },
  {
   "cell_type": "code",
   "execution_count": 9,
   "id": "f585bfdc-1539-4998-b508-6912ba8cd0f9",
   "metadata": {},
   "outputs": [
    {
     "data": {
      "text/plain": [
       "array([[0, 6, 6, 2, 9],\n",
       "       [2, 4, 6, 1, 2],\n",
       "       [0, 5, 4, 2, 8],\n",
       "       [5, 9, 4, 8, 7],\n",
       "       [3, 3, 5, 8, 5]])"
      ]
     },
     "execution_count": 9,
     "metadata": {},
     "output_type": "execute_result"
    }
   ],
   "source": [
    "m = np.random.randint(10, size = (5,5))\n",
    "m"
   ]
  },
  {
   "cell_type": "code",
   "execution_count": 10,
   "id": "c2d36a1f-b695-4bc3-b749-f485b896f463",
   "metadata": {},
   "outputs": [
    {
     "data": {
      "text/plain": [
       "array([0, 2, 0, 5, 3])"
      ]
     },
     "execution_count": 10,
     "metadata": {},
     "output_type": "execute_result"
    }
   ],
   "source": [
    "m[:,0]                       # \":\" tüm satırları seç, 0. sütünü seç"
   ]
  },
  {
   "cell_type": "code",
   "execution_count": 11,
   "id": "1b11faa1-42a9-46c0-adc6-89f2ed5d5544",
   "metadata": {},
   "outputs": [
    {
     "data": {
      "text/plain": [
       "array([6, 6, 4, 4, 5])"
      ]
     },
     "execution_count": 11,
     "metadata": {},
     "output_type": "execute_result"
    }
   ],
   "source": [
    "m[:,2]"
   ]
  },
  {
   "cell_type": "code",
   "execution_count": 12,
   "id": "bbd57249-9a8c-4f7b-86ed-077316a1815a",
   "metadata": {},
   "outputs": [
    {
     "data": {
      "text/plain": [
       "array([0, 6, 6, 2, 9])"
      ]
     },
     "execution_count": 12,
     "metadata": {},
     "output_type": "execute_result"
    }
   ],
   "source": [
    "m[0,:]                        # 0. satır, tüm sütünları al demek"
   ]
  },
  {
   "cell_type": "code",
   "execution_count": 13,
   "id": "05bd4149-7862-4125-ac4d-b382b330b421",
   "metadata": {},
   "outputs": [
    {
     "data": {
      "text/plain": [
       "array([2, 4, 6, 1, 2])"
      ]
     },
     "execution_count": 13,
     "metadata": {},
     "output_type": "execute_result"
    }
   ],
   "source": [
    "m[1,:]"
   ]
  },
  {
   "cell_type": "code",
   "execution_count": 14,
   "id": "35b7267d-0839-42dd-8f98-4c03640e7eaa",
   "metadata": {},
   "outputs": [
    {
     "data": {
      "text/plain": [
       "array([[0, 6, 6],\n",
       "       [2, 4, 6]])"
      ]
     },
     "execution_count": 14,
     "metadata": {},
     "output_type": "execute_result"
    }
   ],
   "source": [
    "m[0:2, 0:3]                    # hem satır hem sütün üzerinde dilimleme"
   ]
  },
  {
   "cell_type": "code",
   "execution_count": 15,
   "id": "f1f54299-437d-4309-86cc-8bfa1b37b1a8",
   "metadata": {},
   "outputs": [
    {
     "data": {
      "text/plain": [
       "array([[0, 6],\n",
       "       [2, 4],\n",
       "       [0, 5],\n",
       "       [5, 9],\n",
       "       [3, 3]])"
      ]
     },
     "execution_count": 15,
     "metadata": {},
     "output_type": "execute_result"
    }
   ],
   "source": [
    "m[::,0:2]                      # m[:,:2] , m[:,0:2]  hepsi aynı sonucu verir"
   ]
  },
  {
   "cell_type": "code",
   "execution_count": 16,
   "id": "e12e2403-d4a9-414c-81e4-0da1a2d9d7dd",
   "metadata": {},
   "outputs": [
    {
     "data": {
      "text/plain": [
       "array([[2, 4],\n",
       "       [0, 5]])"
      ]
     },
     "execution_count": 16,
     "metadata": {},
     "output_type": "execute_result"
    }
   ],
   "source": [
    "m[1:3, 0:2]"
   ]
  },
  {
   "cell_type": "markdown",
   "id": "64fda01c-9ece-4d8e-89eb-e46025e88a32",
   "metadata": {},
   "source": [
    "## Alt Küme Üzerinde işlem yapma"
   ]
  },
  {
   "cell_type": "code",
   "execution_count": 17,
   "id": "5e667c98-df35-4711-aa24-d049a2666fbf",
   "metadata": {},
   "outputs": [
    {
     "data": {
      "text/plain": [
       "array([[0, 2, 0, 6, 2],\n",
       "       [2, 9, 5, 3, 8],\n",
       "       [8, 8, 7, 3, 4],\n",
       "       [8, 8, 9, 4, 7],\n",
       "       [6, 1, 8, 8, 5]])"
      ]
     },
     "execution_count": 17,
     "metadata": {},
     "output_type": "execute_result"
    }
   ],
   "source": [
    "a = np.random.randint(10, size = (5,5))\n",
    "a"
   ]
  },
  {
   "cell_type": "code",
   "execution_count": 18,
   "id": "1ef972e2-336f-4f50-9d99-fd25cd1f0e14",
   "metadata": {},
   "outputs": [
    {
     "data": {
      "text/plain": [
       "array([[0, 2],\n",
       "       [2, 9],\n",
       "       [8, 8]])"
      ]
     },
     "execution_count": 18,
     "metadata": {},
     "output_type": "execute_result"
    }
   ],
   "source": [
    "alt_a = a[0:3, 0:2]          # arrayimizin bir kısmını aldık\n",
    "alt_a"
   ]
  },
  {
   "cell_type": "code",
   "execution_count": 20,
   "id": "cc6d6c11-b6d3-4e99-b2c2-8e1052ad7cc3",
   "metadata": {},
   "outputs": [],
   "source": [
    "alt_a[0,0] = 999\n",
    "alt_a[1,1] = 888              # arrayimizde değişiklik yaptık"
   ]
  },
  {
   "cell_type": "code",
   "execution_count": 21,
   "id": "c78d1a91-ea97-49d4-8f89-c7389045c79d",
   "metadata": {},
   "outputs": [
    {
     "data": {
      "text/plain": [
       "array([[999,   2],\n",
       "       [  2, 888],\n",
       "       [  8,   8]])"
      ]
     },
     "execution_count": 21,
     "metadata": {},
     "output_type": "execute_result"
    }
   ],
   "source": [
    "alt_a"
   ]
  },
  {
   "cell_type": "code",
   "execution_count": 22,
   "id": "9fbdb34a-66a5-489f-9f46-3af69e328bbf",
   "metadata": {},
   "outputs": [
    {
     "data": {
      "text/plain": [
       "array([[999,   2,   0,   6,   2],\n",
       "       [  2, 888,   5,   3,   8],\n",
       "       [  8,   8,   7,   3,   4],\n",
       "       [  8,   8,   9,   4,   7],\n",
       "       [  6,   1,   8,   8,   5]])"
      ]
     },
     "execution_count": 22,
     "metadata": {},
     "output_type": "execute_result"
    }
   ],
   "source": [
    "a                             # alt kümede yaptığımız değişiklik ana kümeye de yansıdı"
   ]
  },
  {
   "cell_type": "code",
   "execution_count": 36,
   "id": "4ea723a4-bbee-448f-96df-6a9a9a599b3d",
   "metadata": {},
   "outputs": [],
   "source": [
    "# bu durum bazen çok büyük arrayler de işimize yarayabilir \n",
    "# bu alt ve ana küme değişikliğinin önüne geçmek için copy işlemini kullanicez"
   ]
  },
  {
   "cell_type": "code",
   "execution_count": 24,
   "id": "068775ae-9fa1-4630-a2cf-7226bc9a4334",
   "metadata": {},
   "outputs": [
    {
     "data": {
      "text/plain": [
       "array([[4, 8, 6, 2, 9],\n",
       "       [4, 9, 2, 8, 1],\n",
       "       [5, 3, 7, 9, 7],\n",
       "       [6, 3, 1, 6, 4],\n",
       "       [5, 9, 6, 7, 6]])"
      ]
     },
     "execution_count": 24,
     "metadata": {},
     "output_type": "execute_result"
    }
   ],
   "source": [
    "m = np.random.randint(10, size = (5,5))\n",
    "m"
   ]
  },
  {
   "cell_type": "code",
   "execution_count": 27,
   "id": "c98f1dee-371a-4a8a-a5b2-6104e09ffebd",
   "metadata": {},
   "outputs": [
    {
     "data": {
      "text/plain": [
       "array([[4, 8],\n",
       "       [4, 9],\n",
       "       [5, 3]])"
      ]
     },
     "execution_count": 27,
     "metadata": {},
     "output_type": "execute_result"
    }
   ],
   "source": [
    "alt_b = m[0:3, 0:2].copy()\n",
    "alt_b"
   ]
  },
  {
   "cell_type": "code",
   "execution_count": 28,
   "id": "3d638377-0f2b-489a-9e1b-940bdf9b471f",
   "metadata": {},
   "outputs": [],
   "source": [
    "alt_b[0,0] = 999          # copy sayesinde alt kümede değişiklik yapsak bile ana kümeye yansimicak"
   ]
  },
  {
   "cell_type": "code",
   "execution_count": 29,
   "id": "5e19dae4-d0f4-4716-a435-1fbfa541b225",
   "metadata": {},
   "outputs": [
    {
     "data": {
      "text/plain": [
       "array([[999,   8],\n",
       "       [  4,   9],\n",
       "       [  5,   3]])"
      ]
     },
     "execution_count": 29,
     "metadata": {},
     "output_type": "execute_result"
    }
   ],
   "source": [
    "alt_b"
   ]
  },
  {
   "cell_type": "code",
   "execution_count": 30,
   "id": "0c678023-cfc9-4d45-93df-1b10b89e9343",
   "metadata": {},
   "outputs": [
    {
     "data": {
      "text/plain": [
       "array([[4, 8, 6, 2, 9],\n",
       "       [4, 9, 2, 8, 1],\n",
       "       [5, 3, 7, 9, 7],\n",
       "       [6, 3, 1, 6, 4],\n",
       "       [5, 9, 6, 7, 6]])"
      ]
     },
     "execution_count": 30,
     "metadata": {},
     "output_type": "execute_result"
    }
   ],
   "source": [
    "m                         # değişiklik olmadı"
   ]
  },
  {
   "cell_type": "markdown",
   "id": "b5fecd23-bc51-4c7b-b512-3ab7725256d4",
   "metadata": {},
   "source": [
    "## **Fancy Index** ile elemanlara erişmek"
   ]
  },
  {
   "cell_type": "code",
   "execution_count": 42,
   "id": "d267f30c-9694-47c3-afb3-124589692e16",
   "metadata": {},
   "outputs": [
    {
     "data": {
      "text/plain": [
       "array([ 0,  3,  6,  9, 12, 15, 18, 21, 24, 27])"
      ]
     },
     "execution_count": 42,
     "metadata": {},
     "output_type": "execute_result"
    }
   ],
   "source": [
    "v = np.arange(0, 30, 3)\n",
    "v"
   ]
  },
  {
   "cell_type": "code",
   "execution_count": 43,
   "id": "7f977e0a-13d1-42a3-a70f-0d1d53aab9f0",
   "metadata": {},
   "outputs": [
    {
     "data": {
      "text/plain": [
       "3"
      ]
     },
     "execution_count": 43,
     "metadata": {},
     "output_type": "execute_result"
    }
   ],
   "source": [
    "v[1]"
   ]
  },
  {
   "cell_type": "code",
   "execution_count": 44,
   "id": "f8a00d34-739b-4814-869d-bb9dfca96553",
   "metadata": {},
   "outputs": [
    {
     "data": {
      "text/plain": [
       "9"
      ]
     },
     "execution_count": 44,
     "metadata": {},
     "output_type": "execute_result"
    }
   ],
   "source": [
    "v[3]"
   ]
  },
  {
   "cell_type": "code",
   "execution_count": 45,
   "id": "9acc0b63-19c2-434d-ac72-2fc969bfe206",
   "metadata": {},
   "outputs": [
    {
     "data": {
      "text/plain": [
       "15"
      ]
     },
     "execution_count": 45,
     "metadata": {},
     "output_type": "execute_result"
    }
   ],
   "source": [
    "v[5]"
   ]
  },
  {
   "cell_type": "code",
   "execution_count": 46,
   "id": "9a4ce19a-f195-41c6-927e-c52a61e03bc8",
   "metadata": {},
   "outputs": [
    {
     "data": {
      "text/plain": [
       "[3, 9, 15]"
      ]
     },
     "execution_count": 46,
     "metadata": {},
     "output_type": "execute_result"
    }
   ],
   "source": [
    "[v[1], v[3], v[5]]                 # tekli veya bu şekilde toplu erişim"
   ]
  },
  {
   "cell_type": "code",
   "execution_count": 47,
   "id": "760aba6b-3cc7-4934-a101-28dc22f9b200",
   "metadata": {},
   "outputs": [],
   "source": [
    "al_getir = [1,3,5]"
   ]
  },
  {
   "cell_type": "code",
   "execution_count": 48,
   "id": "10d2b83a-25df-4489-96d0-ec31b415b163",
   "metadata": {},
   "outputs": [
    {
     "data": {
      "text/plain": [
       "array([ 0,  3,  6,  9, 12, 15, 18, 21, 24, 27])"
      ]
     },
     "execution_count": 48,
     "metadata": {},
     "output_type": "execute_result"
    }
   ],
   "source": [
    "v"
   ]
  },
  {
   "cell_type": "code",
   "execution_count": 49,
   "id": "93f7ed10-2251-4f23-9d6f-7a14cf1f973a",
   "metadata": {},
   "outputs": [
    {
     "data": {
      "text/plain": [
       "array([ 3,  9, 15])"
      ]
     },
     "execution_count": 49,
     "metadata": {},
     "output_type": "execute_result"
    }
   ],
   "source": [
    "v[al_getir]                        # yukarıda ki işlemin aynısını yaptı.. buna \"fancy index\" denir"
   ]
  },
  {
   "cell_type": "code",
   "execution_count": 31,
   "id": "e0131706-b97a-4131-b64d-81f690c109c8",
   "metadata": {},
   "outputs": [],
   "source": [
    "# iki boyutlu fancy"
   ]
  },
  {
   "cell_type": "code",
   "execution_count": 33,
   "id": "75f284b4-15b1-46b5-9b72-b9ee89d7e103",
   "metadata": {},
   "outputs": [],
   "source": [
    "m = np.arange(9).reshape((3,3))"
   ]
  },
  {
   "cell_type": "code",
   "execution_count": 34,
   "id": "429d115d-a404-4254-9f80-511ff3c75bb2",
   "metadata": {},
   "outputs": [
    {
     "data": {
      "text/plain": [
       "array([[0, 1, 2],\n",
       "       [3, 4, 5],\n",
       "       [6, 7, 8]])"
      ]
     },
     "execution_count": 34,
     "metadata": {},
     "output_type": "execute_result"
    }
   ],
   "source": [
    "m"
   ]
  },
  {
   "cell_type": "code",
   "execution_count": 35,
   "id": "c374a91c-cb6e-483c-914d-0177a300f408",
   "metadata": {},
   "outputs": [],
   "source": [
    "satir = np.array([0,1])\n",
    "sutun = np.array([1,2])            # genel bir kordinat belirledik"
   ]
  },
  {
   "cell_type": "code",
   "execution_count": 36,
   "id": "291bf2c2-fbb4-4f29-95e5-649fd71d9e75",
   "metadata": {},
   "outputs": [
    {
     "data": {
      "text/plain": [
       "array([1, 5])"
      ]
     },
     "execution_count": 36,
     "metadata": {},
     "output_type": "execute_result"
    }
   ],
   "source": [
    "m[satir, sutun]                    # fancy index"
   ]
  },
  {
   "cell_type": "code",
   "execution_count": 37,
   "id": "b3e4885c-6eb0-435f-944e-4b2daa790da7",
   "metadata": {},
   "outputs": [],
   "source": [
    "# basit index ile fancy index birlikte kullanımı"
   ]
  },
  {
   "cell_type": "code",
   "execution_count": 38,
   "id": "2f3fbfb2-a72d-4b72-84e6-dd60adb3ce4a",
   "metadata": {},
   "outputs": [
    {
     "data": {
      "text/plain": [
       "array([[0, 1, 2],\n",
       "       [3, 4, 5],\n",
       "       [6, 7, 8]])"
      ]
     },
     "execution_count": 38,
     "metadata": {},
     "output_type": "execute_result"
    }
   ],
   "source": [
    "m"
   ]
  },
  {
   "cell_type": "code",
   "execution_count": 39,
   "id": "12272307-0b53-438d-b7a7-99e2087851d0",
   "metadata": {},
   "outputs": [
    {
     "data": {
      "text/plain": [
       "array([1, 2])"
      ]
     },
     "execution_count": 39,
     "metadata": {},
     "output_type": "execute_result"
    }
   ],
   "source": [
    "m[0, [1,2]]                          # ilk kısım basit index 2. kısım fancy"
   ]
  },
  {
   "cell_type": "code",
   "execution_count": 40,
   "id": "88fb4dd4-abde-4cd8-b289-02d5a4e32e70",
   "metadata": {},
   "outputs": [],
   "source": [
    "# slice ile fancy"
   ]
  },
  {
   "cell_type": "code",
   "execution_count": 59,
   "id": "334f413c-092e-435f-9247-cd4360fb4db3",
   "metadata": {},
   "outputs": [
    {
     "data": {
      "text/plain": [
       "array([[1, 2],\n",
       "       [4, 5],\n",
       "       [7, 8]])"
      ]
     },
     "execution_count": 59,
     "metadata": {},
     "output_type": "execute_result"
    }
   ],
   "source": [
    "m[0:, [1,2]]                         # ilk kısım dilimleme 2. kısım fancy"
   ]
  },
  {
   "cell_type": "markdown",
   "id": "cb565d96-c392-4aa9-810c-8c9ef456653d",
   "metadata": {},
   "source": [
    "## Koşullu eleman işlemleri"
   ]
  },
  {
   "cell_type": "code",
   "execution_count": 41,
   "id": "c51a83b2-6f3d-426c-a1d3-59285aa4b2d5",
   "metadata": {},
   "outputs": [],
   "source": [
    "v = np.array([1,2,3,4,5])"
   ]
  },
  {
   "cell_type": "code",
   "execution_count": 42,
   "id": "884c0be2-a059-44e2-ad80-75a63344167c",
   "metadata": {},
   "outputs": [
    {
     "data": {
      "text/plain": [
       "array([ True,  True,  True,  True, False])"
      ]
     },
     "execution_count": 42,
     "metadata": {},
     "output_type": "execute_result"
    }
   ],
   "source": [
    "v < 5"
   ]
  },
  {
   "cell_type": "code",
   "execution_count": 43,
   "id": "ec577d4d-48a7-4cae-8dd9-0722dc648479",
   "metadata": {},
   "outputs": [
    {
     "data": {
      "text/plain": [
       "array([ True,  True, False, False, False])"
      ]
     },
     "execution_count": 43,
     "metadata": {},
     "output_type": "execute_result"
    }
   ],
   "source": [
    "v < 3                              # bu işlem sadece gözlemleme işlemi"
   ]
  },
  {
   "cell_type": "code",
   "execution_count": 44,
   "id": "a57773b0-2ccd-4de6-97a9-02bdcb2722aa",
   "metadata": {},
   "outputs": [
    {
     "data": {
      "text/plain": [
       "array([1, 2])"
      ]
     },
     "execution_count": 44,
     "metadata": {},
     "output_type": "execute_result"
    }
   ],
   "source": [
    "v[v < 3]                           # koşulu sağlayanı aldık( fancy ile )"
   ]
  },
  {
   "cell_type": "code",
   "execution_count": 45,
   "id": "5034d577-6562-4349-97ee-d44237948b0a",
   "metadata": {},
   "outputs": [
    {
     "data": {
      "text/plain": [
       "array([3])"
      ]
     },
     "execution_count": 45,
     "metadata": {},
     "output_type": "execute_result"
    }
   ],
   "source": [
    "v[v == 3]"
   ]
  },
  {
   "cell_type": "code",
   "execution_count": 46,
   "id": "3115a1e5-9ede-47e0-8d66-9434ca73fd8d",
   "metadata": {},
   "outputs": [
    {
     "data": {
      "text/plain": [
       "array([1, 2, 4, 5])"
      ]
     },
     "execution_count": 46,
     "metadata": {},
     "output_type": "execute_result"
    }
   ],
   "source": [
    "v[v != 3]                          # 3' un işinda kalanları getir"
   ]
  },
  {
   "cell_type": "code",
   "execution_count": 47,
   "id": "ade259ef-006d-4ed1-8bd3-1e5c80b22e04",
   "metadata": {},
   "outputs": [
    {
     "data": {
      "text/plain": [
       "array([1, 2, 3, 4, 5])"
      ]
     },
     "execution_count": 47,
     "metadata": {},
     "output_type": "execute_result"
    }
   ],
   "source": [
    "v"
   ]
  },
  {
   "cell_type": "code",
   "execution_count": 49,
   "id": "bf2eec72-a2cf-4385-957f-b6252defef18",
   "metadata": {},
   "outputs": [
    {
     "data": {
      "text/plain": [
       "array([ 2,  4,  6,  8, 10])"
      ]
     },
     "execution_count": 49,
     "metadata": {},
     "output_type": "execute_result"
    }
   ],
   "source": [
    "v * 2                              # vektörel bazı operasyonlar"
   ]
  },
  {
   "cell_type": "code",
   "execution_count": 50,
   "id": "448a4477-cc1d-4146-a7f9-29ee9c2ac213",
   "metadata": {},
   "outputs": [
    {
     "data": {
      "text/plain": [
       "array([0.2, 0.4, 0.6, 0.8, 1. ])"
      ]
     },
     "execution_count": 50,
     "metadata": {},
     "output_type": "execute_result"
    }
   ],
   "source": [
    "v / 5"
   ]
  },
  {
   "cell_type": "code",
   "execution_count": 51,
   "id": "c9caa703-67e0-41c1-83f7-957574b82305",
   "metadata": {},
   "outputs": [
    {
     "data": {
      "text/plain": [
       "array([0.5, 1. , 1.5, 2. , 2.5])"
      ]
     },
     "execution_count": 51,
     "metadata": {},
     "output_type": "execute_result"
    }
   ],
   "source": [
    "v * 5 / 10"
   ]
  },
  {
   "cell_type": "code",
   "execution_count": 52,
   "id": "856eec55-8b5a-47e0-b68f-b6b4c2ae55e6",
   "metadata": {},
   "outputs": [
    {
     "data": {
      "text/plain": [
       "array([ 1,  4,  9, 16, 25], dtype=int32)"
      ]
     },
     "execution_count": 52,
     "metadata": {},
     "output_type": "execute_result"
    }
   ],
   "source": [
    "v**2"
   ]
  },
  {
   "cell_type": "markdown",
   "id": "6b9eb421-f844-41f8-90d0-ad1535ad69cb",
   "metadata": {},
   "source": [
    "## Matematiksel işlemler"
   ]
  },
  {
   "cell_type": "code",
   "execution_count": 53,
   "id": "9d83a4e5-3dea-4132-895b-fbee70e5f10e",
   "metadata": {},
   "outputs": [],
   "source": [
    "v = np.array([1,2,3,4,5])"
   ]
  },
  {
   "cell_type": "code",
   "execution_count": 54,
   "id": "f6268a53-068c-4439-a25c-1c5b3722cf8e",
   "metadata": {},
   "outputs": [
    {
     "data": {
      "text/plain": [
       "array([0, 1, 2, 3, 4])"
      ]
     },
     "execution_count": 54,
     "metadata": {},
     "output_type": "execute_result"
    }
   ],
   "source": [
    "v - 1"
   ]
  },
  {
   "cell_type": "code",
   "execution_count": 55,
   "id": "9245028b-985c-48c7-b092-5a5b0c87b387",
   "metadata": {},
   "outputs": [
    {
     "data": {
      "text/plain": [
       "array([ 5, 10, 15, 20, 25])"
      ]
     },
     "execution_count": 55,
     "metadata": {},
     "output_type": "execute_result"
    }
   ],
   "source": [
    "v * 5"
   ]
  },
  {
   "cell_type": "code",
   "execution_count": 56,
   "id": "763d0d42-e59f-4385-839e-cd5059c0183d",
   "metadata": {},
   "outputs": [
    {
     "data": {
      "text/plain": [
       "array([1, 0, 1, 0, 1], dtype=int32)"
      ]
     },
     "execution_count": 56,
     "metadata": {},
     "output_type": "execute_result"
    }
   ],
   "source": [
    "v % 2"
   ]
  },
  {
   "cell_type": "code",
   "execution_count": 57,
   "id": "75f6ff49-6ce3-46b2-8bc0-5660cd76ba0a",
   "metadata": {},
   "outputs": [],
   "source": [
    "# ufunc   yukarıdaki örneklerin aslında arkasında çalışan işlemler aşağıdaki gibidir"
   ]
  },
  {
   "cell_type": "code",
   "execution_count": 58,
   "id": "b7e5809b-b64b-46ca-a61e-43cff3c7077e",
   "metadata": {},
   "outputs": [
    {
     "data": {
      "text/plain": [
       "array([1, 2, 3, 4, 5])"
      ]
     },
     "execution_count": 58,
     "metadata": {},
     "output_type": "execute_result"
    }
   ],
   "source": [
    "v"
   ]
  },
  {
   "cell_type": "code",
   "execution_count": 59,
   "id": "4a8cba98-5afa-4ed2-814b-eb9de4120b81",
   "metadata": {},
   "outputs": [
    {
     "data": {
      "text/plain": [
       "array([0, 1, 2, 3, 4])"
      ]
     },
     "execution_count": 59,
     "metadata": {},
     "output_type": "execute_result"
    }
   ],
   "source": [
    "np.subtract(v, 1)"
   ]
  },
  {
   "cell_type": "code",
   "execution_count": 60,
   "id": "af12b427-27d9-4916-86fa-b63139f10ddb",
   "metadata": {},
   "outputs": [
    {
     "data": {
      "text/plain": [
       "array([ 6,  7,  8,  9, 10])"
      ]
     },
     "execution_count": 60,
     "metadata": {},
     "output_type": "execute_result"
    }
   ],
   "source": [
    "np.add(v, 5)"
   ]
  },
  {
   "cell_type": "code",
   "execution_count": 61,
   "id": "b7242031-7cfa-475b-9c67-92c7d5ef6af9",
   "metadata": {},
   "outputs": [
    {
     "data": {
      "text/plain": [
       "array([0.33333333, 0.66666667, 1.        , 1.33333333, 1.66666667])"
      ]
     },
     "execution_count": 61,
     "metadata": {},
     "output_type": "execute_result"
    }
   ],
   "source": [
    "np.divide(v, 3)"
   ]
  },
  {
   "cell_type": "code",
   "execution_count": 62,
   "id": "976b3542-d8ae-451d-b331-c15f48346aaf",
   "metadata": {},
   "outputs": [
    {
     "data": {
      "text/plain": [
       "array([  1,   8,  27,  64, 125], dtype=int32)"
      ]
     },
     "execution_count": 62,
     "metadata": {},
     "output_type": "execute_result"
    }
   ],
   "source": [
    "np.power(v, 3)"
   ]
  },
  {
   "cell_type": "code",
   "execution_count": 63,
   "id": "5a5f941a-ca05-459a-ba63-4dc60a14d1dc",
   "metadata": {},
   "outputs": [
    {
     "data": {
      "text/plain": [
       "array([1, 0, 1, 0, 1], dtype=int32)"
      ]
     },
     "execution_count": 63,
     "metadata": {},
     "output_type": "execute_result"
    }
   ],
   "source": [
    "np.mod(v, 2)"
   ]
  },
  {
   "cell_type": "code",
   "execution_count": 64,
   "id": "754d4feb-9897-4589-802f-2e09d03e8603",
   "metadata": {},
   "outputs": [
    {
     "data": {
      "text/plain": [
       "array([3])"
      ]
     },
     "execution_count": 64,
     "metadata": {},
     "output_type": "execute_result"
    }
   ],
   "source": [
    "np.absolute(np.array([-3]))"
   ]
  },
  {
   "cell_type": "code",
   "execution_count": 65,
   "id": "3792ef1f-1539-44f6-84fb-50b71a8949d5",
   "metadata": {},
   "outputs": [
    {
     "data": {
      "text/plain": [
       "0.9589157234143065"
      ]
     },
     "execution_count": 65,
     "metadata": {},
     "output_type": "execute_result"
    }
   ],
   "source": [
    "np.sin(360)"
   ]
  },
  {
   "cell_type": "code",
   "execution_count": 102,
   "id": "9cf5dd4b-bb24-4d77-8dc5-8b02b4947975",
   "metadata": {},
   "outputs": [
    {
     "data": {
      "text/plain": [
       "array([3, 5, 8, 3, 1, 3, 5, 3, 2, 5])"
      ]
     },
     "execution_count": 102,
     "metadata": {},
     "output_type": "execute_result"
    }
   ],
   "source": [
    "v = np.random.randint(0,10, 10)\n",
    "v"
   ]
  },
  {
   "cell_type": "code",
   "execution_count": 103,
   "id": "2775a75d-c9c8-4369-af7c-e26fc30670c8",
   "metadata": {},
   "outputs": [
    {
     "data": {
      "text/plain": [
       "array([1.09861229, 1.60943791, 2.07944154, 1.09861229, 0.        ,\n",
       "       1.09861229, 1.60943791, 1.09861229, 0.69314718, 1.60943791])"
      ]
     },
     "execution_count": 103,
     "metadata": {},
     "output_type": "execute_result"
    }
   ],
   "source": [
    "np.log(v)"
   ]
  },
  {
   "cell_type": "code",
   "execution_count": 104,
   "id": "9cce0271-bc02-462d-b811-e39c81b5e886",
   "metadata": {},
   "outputs": [
    {
     "data": {
      "text/plain": [
       "array([1.5849625 , 2.32192809, 3.        , 1.5849625 , 0.        ,\n",
       "       1.5849625 , 2.32192809, 1.5849625 , 1.        , 2.32192809])"
      ]
     },
     "execution_count": 104,
     "metadata": {},
     "output_type": "execute_result"
    }
   ],
   "source": [
    "np.log2(v)"
   ]
  },
  {
   "cell_type": "markdown",
   "id": "8da88b53-99f5-45dc-92b9-ff9205c44a8b",
   "metadata": {},
   "source": [
    "## Array Elemanları Arasında 4 İşlem"
   ]
  },
  {
   "cell_type": "code",
   "execution_count": 114,
   "id": "ae0cf6bb-795b-4bbb-9114-13f18cecdbc8",
   "metadata": {
    "tags": []
   },
   "outputs": [],
   "source": [
    "arr1 = np.array([10,20,50,100])\n",
    "arr2 = np.array([5,7,9,4])"
   ]
  },
  {
   "cell_type": "code",
   "execution_count": 112,
   "id": "7158a33e-c2d4-4e1d-9767-a2b790d1ebf3",
   "metadata": {},
   "outputs": [
    {
     "data": {
      "text/plain": [
       "array([ 15,  27,  59, 104])"
      ]
     },
     "execution_count": 112,
     "metadata": {},
     "output_type": "execute_result"
    }
   ],
   "source": [
    "arr1 + arr2"
   ]
  },
  {
   "cell_type": "code",
   "execution_count": 113,
   "id": "6ccc6cbf-8841-4cba-a989-d32a060f7e17",
   "metadata": {},
   "outputs": [
    {
     "data": {
      "text/plain": [
       "array([ 50, 140, 450, 400])"
      ]
     },
     "execution_count": 113,
     "metadata": {},
     "output_type": "execute_result"
    }
   ],
   "source": [
    "arr1 * arr2"
   ]
  },
  {
   "cell_type": "code",
   "execution_count": 115,
   "id": "b8a4f472-5717-45ea-8885-939f8e634d98",
   "metadata": {},
   "outputs": [
    {
     "data": {
      "text/plain": [
       "array([ 5, 13, 41, 96])"
      ]
     },
     "execution_count": 115,
     "metadata": {},
     "output_type": "execute_result"
    }
   ],
   "source": [
    "arr1 - arr2"
   ]
  },
  {
   "cell_type": "code",
   "execution_count": 116,
   "id": "1ed1fee8-d733-40f8-99fa-f4a2c3302e2a",
   "metadata": {},
   "outputs": [
    {
     "data": {
      "text/plain": [
       "array([ 2.        ,  2.85714286,  5.55555556, 25.        ])"
      ]
     },
     "execution_count": 116,
     "metadata": {},
     "output_type": "execute_result"
    }
   ],
   "source": [
    "arr1 / arr2"
   ]
  },
  {
   "cell_type": "code",
   "execution_count": 117,
   "id": "e9a409d0-0b76-4b80-ad1e-b98af85556ff",
   "metadata": {},
   "outputs": [
    {
     "data": {
      "text/plain": [
       "array([ 2,  2,  5, 25], dtype=int32)"
      ]
     },
     "execution_count": 117,
     "metadata": {},
     "output_type": "execute_result"
    }
   ],
   "source": [
    "arr1 // arr2"
   ]
  },
  {
   "cell_type": "markdown",
   "id": "18e51e6e-a8f8-42ee-813b-44ce522f369c",
   "metadata": {
    "tags": []
   },
   "source": [
    "## istatiksel hesaplamalar"
   ]
  },
  {
   "cell_type": "code",
   "execution_count": 105,
   "id": "7c16ac7f-b1a8-457c-9e9c-d4190b00b12e",
   "metadata": {},
   "outputs": [
    {
     "data": {
      "text/plain": [
       "array([3, 5, 8, 3, 1, 3, 5, 3, 2, 5])"
      ]
     },
     "execution_count": 105,
     "metadata": {},
     "output_type": "execute_result"
    }
   ],
   "source": [
    "v"
   ]
  },
  {
   "cell_type": "code",
   "execution_count": 106,
   "id": "62faaaaf-2e30-49d4-8b9b-f335ab1c2dac",
   "metadata": {},
   "outputs": [
    {
     "data": {
      "text/plain": [
       "3.8"
      ]
     },
     "execution_count": 106,
     "metadata": {},
     "output_type": "execute_result"
    }
   ],
   "source": [
    "np.mean(v)"
   ]
  },
  {
   "cell_type": "code",
   "execution_count": 107,
   "id": "0eaf51ea-6775-4b29-a40d-6468dbcfa792",
   "metadata": {},
   "outputs": [
    {
     "data": {
      "text/plain": [
       "38"
      ]
     },
     "execution_count": 107,
     "metadata": {},
     "output_type": "execute_result"
    }
   ],
   "source": [
    "v.sum()"
   ]
  },
  {
   "cell_type": "code",
   "execution_count": 108,
   "id": "18f0491d-0d3a-47e4-bed3-5c9c8126d252",
   "metadata": {},
   "outputs": [
    {
     "data": {
      "text/plain": [
       "1"
      ]
     },
     "execution_count": 108,
     "metadata": {},
     "output_type": "execute_result"
    }
   ],
   "source": [
    "v.min()"
   ]
  },
  {
   "cell_type": "code",
   "execution_count": 109,
   "id": "51014955-8a05-4edc-be13-937a086b0650",
   "metadata": {},
   "outputs": [
    {
     "data": {
      "text/plain": [
       "8"
      ]
     },
     "execution_count": 109,
     "metadata": {},
     "output_type": "execute_result"
    }
   ],
   "source": [
    "v.max()"
   ]
  },
  {
   "cell_type": "code",
   "execution_count": 110,
   "id": "7fde451a-0e4c-4542-a7e9-738846ebd2db",
   "metadata": {},
   "outputs": [
    {
     "data": {
      "text/plain": [
       "1.8867962264113207"
      ]
     },
     "execution_count": 110,
     "metadata": {},
     "output_type": "execute_result"
    }
   ],
   "source": [
    "v.std()"
   ]
  },
  {
   "cell_type": "markdown",
   "id": "88d876f0-49da-44d2-89ab-7fefaa3cdd40",
   "metadata": {},
   "source": [
    "## Bir Arrayin Dtype'ını Değiştirme"
   ]
  },
  {
   "cell_type": "code",
   "execution_count": 77,
   "id": "83cb0225-7aca-4779-bc8f-a2124bbbb557",
   "metadata": {},
   "outputs": [
    {
     "data": {
      "text/plain": [
       "array([1.2, 3.5, 5.8])"
      ]
     },
     "execution_count": 77,
     "metadata": {},
     "output_type": "execute_result"
    }
   ],
   "source": [
    "arr = np.array([1.2 , 3.5 , 5.8])\n",
    "arr"
   ]
  },
  {
   "cell_type": "code",
   "execution_count": 78,
   "id": "299b1ca5-eccb-44d1-9761-6cd5d61bfd17",
   "metadata": {},
   "outputs": [
    {
     "data": {
      "text/plain": [
       "dtype('float64')"
      ]
     },
     "execution_count": 78,
     "metadata": {},
     "output_type": "execute_result"
    }
   ],
   "source": [
    "arr.dtype"
   ]
  },
  {
   "cell_type": "code",
   "execution_count": 79,
   "id": "8de93ed2-cbb5-43cb-93d2-6ca24dde92f3",
   "metadata": {},
   "outputs": [
    {
     "data": {
      "text/plain": [
       "array([1, 3, 5])"
      ]
     },
     "execution_count": 79,
     "metadata": {},
     "output_type": "execute_result"
    }
   ],
   "source": [
    "arr = arr.astype('int')          # .astype() methodu ile arraylerin dtype'ı değiştirebiliriz.\n",
    "arr"
   ]
  },
  {
   "cell_type": "code",
   "execution_count": 80,
   "id": "a003e4c6-fc33-4ed2-ab36-b73de158a800",
   "metadata": {},
   "outputs": [
    {
     "data": {
      "text/plain": [
       "dtype('int32')"
      ]
     },
     "execution_count": 80,
     "metadata": {},
     "output_type": "execute_result"
    }
   ],
   "source": [
    "arr.dtype"
   ]
  },
  {
   "cell_type": "markdown",
   "id": "57e8085e-afd5-4e55-8a76-0d9c2b4854b0",
   "metadata": {},
   "source": [
    "## -1 ile otamatik boyut hesaplatma (reshape)"
   ]
  },
  {
   "cell_type": "code",
   "execution_count": 93,
   "id": "1d39c34d-5498-4962-91e4-ae99c3e3b55c",
   "metadata": {},
   "outputs": [
    {
     "data": {
      "text/plain": [
       "array([[[ 0,  1,  2,  3,  4,  5],\n",
       "        [ 6,  7,  8,  9, 10, 11]],\n",
       "\n",
       "       [[12, 13, 14, 15, 16, 17],\n",
       "        [18, 19, 20, 21, 22, 23]],\n",
       "\n",
       "       [[24, 25, 26, 27, 28, 29],\n",
       "        [30, 31, 32, 33, 34, 35]],\n",
       "\n",
       "       [[36, 37, 38, 39, 40, 41],\n",
       "        [42, 43, 44, 45, 46, 47]],\n",
       "\n",
       "       [[48, 49, 50, 51, 52, 53],\n",
       "        [54, 55, 56, 57, 58, 59]]])"
      ]
     },
     "execution_count": 93,
     "metadata": {},
     "output_type": "execute_result"
    }
   ],
   "source": [
    "arr = np.arange(60).reshape(5,2,-1)     # 2'şerden 5 satır sütun otamatik hesaplatma\n",
    "arr"
   ]
  },
  {
   "cell_type": "code",
   "execution_count": 94,
   "id": "ee9ffd54-3868-49a9-82d3-f6be6f246702",
   "metadata": {},
   "outputs": [
    {
     "data": {
      "text/plain": [
       "array([[[ 0,  1],\n",
       "        [ 2,  3],\n",
       "        [ 4,  5],\n",
       "        [ 6,  7],\n",
       "        [ 8,  9]],\n",
       "\n",
       "       [[10, 11],\n",
       "        [12, 13],\n",
       "        [14, 15],\n",
       "        [16, 17],\n",
       "        [18, 19]],\n",
       "\n",
       "       [[20, 21],\n",
       "        [22, 23],\n",
       "        [24, 25],\n",
       "        [26, 27],\n",
       "        [28, 29]],\n",
       "\n",
       "       [[30, 31],\n",
       "        [32, 33],\n",
       "        [34, 35],\n",
       "        [36, 37],\n",
       "        [38, 39]],\n",
       "\n",
       "       [[40, 41],\n",
       "        [42, 43],\n",
       "        [44, 45],\n",
       "        [46, 47],\n",
       "        [48, 49]],\n",
       "\n",
       "       [[50, 51],\n",
       "        [52, 53],\n",
       "        [54, 55],\n",
       "        [56, 57],\n",
       "        [58, 59]]])"
      ]
     },
     "execution_count": 94,
     "metadata": {},
     "output_type": "execute_result"
    }
   ],
   "source": [
    "arr1 = np.arange(60).reshape(-1,5,2)     # ilk dış satır otamatik iç satır 5'li, sütunlar 2'li\n",
    "arr1"
   ]
  },
  {
   "cell_type": "code",
   "execution_count": 95,
   "id": "3665ad8f-cc25-4fc6-b4c1-6849c14766a4",
   "metadata": {},
   "outputs": [
    {
     "data": {
      "text/plain": [
       "array([[[ 0,  1],\n",
       "        [ 2,  3],\n",
       "        [ 4,  5],\n",
       "        [ 6,  7],\n",
       "        [ 8,  9],\n",
       "        [10, 11]],\n",
       "\n",
       "       [[12, 13],\n",
       "        [14, 15],\n",
       "        [16, 17],\n",
       "        [18, 19],\n",
       "        [20, 21],\n",
       "        [22, 23]],\n",
       "\n",
       "       [[24, 25],\n",
       "        [26, 27],\n",
       "        [28, 29],\n",
       "        [30, 31],\n",
       "        [32, 33],\n",
       "        [34, 35]],\n",
       "\n",
       "       [[36, 37],\n",
       "        [38, 39],\n",
       "        [40, 41],\n",
       "        [42, 43],\n",
       "        [44, 45],\n",
       "        [46, 47]],\n",
       "\n",
       "       [[48, 49],\n",
       "        [50, 51],\n",
       "        [52, 53],\n",
       "        [54, 55],\n",
       "        [56, 57],\n",
       "        [58, 59]]])"
      ]
     },
     "execution_count": 95,
     "metadata": {},
     "output_type": "execute_result"
    }
   ],
   "source": [
    "arr1 = np.arange(60).reshape(5,-1,2)     # dış satır 5, iç satır otamatik, sütun 2'li\n",
    "arr1"
   ]
  },
  {
   "cell_type": "markdown",
   "id": "b9c96c01-0d42-476d-b648-7825a8ba71d5",
   "metadata": {},
   "source": [
    "## Arrayleri Düzleştirme(Flatten)"
   ]
  },
  {
   "cell_type": "code",
   "execution_count": 81,
   "id": "55e55bcb-72d4-439b-8628-35ff8e03aa6a",
   "metadata": {},
   "outputs": [],
   "source": [
    "# Düzleştirme işlemi(Flatten) çok boyutlu bir array'i 1 boyutlu hale döndürmeye denir.\n",
    "# Basitçe .reshape(-1) metoduyla yapılır.    "
   ]
  },
  {
   "cell_type": "code",
   "execution_count": 82,
   "id": "e1b804a3-ff62-4d09-b420-c9774663a26f",
   "metadata": {},
   "outputs": [
    {
     "data": {
      "text/plain": [
       "array([[ 0,  1,  2,  3,  4],\n",
       "       [ 5,  6,  7,  8,  9],\n",
       "       [10, 11, 12, 13, 14],\n",
       "       [15, 16, 17, 18, 19],\n",
       "       [20, 21, 22, 23, 24],\n",
       "       [25, 26, 27, 28, 29],\n",
       "       [30, 31, 32, 33, 34],\n",
       "       [35, 36, 37, 38, 39]])"
      ]
     },
     "execution_count": 82,
     "metadata": {},
     "output_type": "execute_result"
    }
   ],
   "source": [
    "arr2 = np.arange(40).reshape(8,5)\n",
    "arr2"
   ]
  },
  {
   "cell_type": "code",
   "execution_count": 83,
   "id": "66032c4c-79fa-4be9-af87-503129289beb",
   "metadata": {},
   "outputs": [
    {
     "data": {
      "text/plain": [
       "(8, 5)"
      ]
     },
     "execution_count": 83,
     "metadata": {},
     "output_type": "execute_result"
    }
   ],
   "source": [
    "arr2.shape"
   ]
  },
  {
   "cell_type": "code",
   "execution_count": 84,
   "id": "f17a5e80-5ec7-48f3-b53a-5c1eb4602ccb",
   "metadata": {},
   "outputs": [
    {
     "data": {
      "text/plain": [
       "array([ 0,  1,  2,  3,  4,  5,  6,  7,  8,  9, 10, 11, 12, 13, 14, 15, 16,\n",
       "       17, 18, 19, 20, 21, 22, 23, 24, 25, 26, 27, 28, 29, 30, 31, 32, 33,\n",
       "       34, 35, 36, 37, 38, 39])"
      ]
     },
     "execution_count": 84,
     "metadata": {},
     "output_type": "execute_result"
    }
   ],
   "source": [
    "arr3 = arr2.reshape(-1)\n",
    "arr3"
   ]
  },
  {
   "cell_type": "code",
   "execution_count": 89,
   "id": "c6ae4f61-a854-4b35-8be9-0729dcaeb543",
   "metadata": {},
   "outputs": [
    {
     "data": {
      "text/plain": [
       "array([[[ 0,  1,  2,  3],\n",
       "        [ 4,  5,  6,  7],\n",
       "        [ 8,  9, 10, 11],\n",
       "        [12, 13, 14, 15],\n",
       "        [16, 17, 18, 19]],\n",
       "\n",
       "       [[20, 21, 22, 23],\n",
       "        [24, 25, 26, 27],\n",
       "        [28, 29, 30, 31],\n",
       "        [32, 33, 34, 35],\n",
       "        [36, 37, 38, 39]],\n",
       "\n",
       "       [[40, 41, 42, 43],\n",
       "        [44, 45, 46, 47],\n",
       "        [48, 49, 50, 51],\n",
       "        [52, 53, 54, 55],\n",
       "        [56, 57, 58, 59]]])"
      ]
     },
     "execution_count": 89,
     "metadata": {},
     "output_type": "execute_result"
    }
   ],
   "source": [
    "arr3 = np.arange(60).reshape(-1,5,4)\n",
    "arr3"
   ]
  },
  {
   "cell_type": "code",
   "execution_count": 90,
   "id": "746e8b42-a5af-4fb3-b533-33495e46e79b",
   "metadata": {},
   "outputs": [
    {
     "data": {
      "text/plain": [
       "array([ 0,  1,  2,  3,  4,  5,  6,  7,  8,  9, 10, 11, 12, 13, 14, 15, 16,\n",
       "       17, 18, 19, 20, 21, 22, 23, 24, 25, 26, 27, 28, 29, 30, 31, 32, 33,\n",
       "       34, 35, 36, 37, 38, 39, 40, 41, 42, 43, 44, 45, 46, 47, 48, 49, 50,\n",
       "       51, 52, 53, 54, 55, 56, 57, 58, 59])"
      ]
     },
     "execution_count": 90,
     "metadata": {},
     "output_type": "execute_result"
    }
   ],
   "source": [
    "arr3.reshape(-1)"
   ]
  },
  {
   "cell_type": "markdown",
   "id": "d3e7ee19-6c8a-4036-9ff4-8914a908cee6",
   "metadata": {},
   "source": [
    "## Çok Boyutlu Arraylerde Iteration"
   ]
  },
  {
   "cell_type": "code",
   "execution_count": 96,
   "id": "ea149ce0-0649-48a2-b885-89131021b9dc",
   "metadata": {},
   "outputs": [
    {
     "data": {
      "text/plain": [
       "array([[ 0,  1,  2,  3,  4],\n",
       "       [ 5,  6,  7,  8,  9],\n",
       "       [10, 11, 12, 13, 14],\n",
       "       [15, 16, 17, 18, 19]])"
      ]
     },
     "execution_count": 96,
     "metadata": {},
     "output_type": "execute_result"
    }
   ],
   "source": [
    "arr = np.arange(20).reshape(4,5)\n",
    "arr"
   ]
  },
  {
   "cell_type": "code",
   "execution_count": 97,
   "id": "d1b07a97-24c7-4635-962e-308aaa7a7bbf",
   "metadata": {},
   "outputs": [
    {
     "name": "stdout",
     "output_type": "stream",
     "text": [
      "[0 1 2 3 4]\n",
      "[5 6 7 8 9]\n",
      "[10 11 12 13 14]\n",
      "[15 16 17 18 19]\n"
     ]
    }
   ],
   "source": [
    "for i in arr:\n",
    "    print(i)"
   ]
  },
  {
   "cell_type": "code",
   "execution_count": 98,
   "id": "a8ba2fb8-62d4-4600-b3ad-ec6ba183480b",
   "metadata": {},
   "outputs": [
    {
     "name": "stdout",
     "output_type": "stream",
     "text": [
      "0\n",
      "1\n",
      "2\n",
      "3\n",
      "4\n",
      "5\n",
      "6\n",
      "7\n",
      "8\n",
      "9\n",
      "10\n",
      "11\n",
      "12\n",
      "13\n",
      "14\n",
      "15\n",
      "16\n",
      "17\n",
      "18\n",
      "19\n"
     ]
    }
   ],
   "source": [
    "for x in arr:\n",
    "    for y in x:\n",
    "        print(y)"
   ]
  },
  {
   "cell_type": "markdown",
   "id": "43e4f2a9-09b2-4f46-acde-7317169c856b",
   "metadata": {},
   "source": [
    "## Çok Boyutlu Arraylerde nditer() Kullanımı"
   ]
  },
  {
   "cell_type": "code",
   "execution_count": 99,
   "id": "4c3a4c78-f7c4-4602-92f5-05520ab78574",
   "metadata": {},
   "outputs": [],
   "source": [
    "# For döngüsü arrayin boyutu kadar sayıda kullanılırsa ancak array'in bütün elemanlarına tek tek erişebiliriz.\n",
    "# Çok boyutlu arraylerde nditer() fonksiyonu bunun için geliştirilmiştir.\n",
    "# For döngüsüne çok daha efektif ve hızlı bir şekilde tüm elemanları dönmenizi sağlar."
   ]
  },
  {
   "cell_type": "code",
   "execution_count": 100,
   "id": "d650e705-aea1-46f7-9fdb-536312939db7",
   "metadata": {},
   "outputs": [
    {
     "data": {
      "text/plain": [
       "array([[[ 0,  1,  2,  3,  4],\n",
       "        [ 5,  6,  7,  8,  9],\n",
       "        [10, 11, 12, 13, 14]],\n",
       "\n",
       "       [[15, 16, 17, 18, 19],\n",
       "        [20, 21, 22, 23, 24],\n",
       "        [25, 26, 27, 28, 29]]])"
      ]
     },
     "execution_count": 100,
     "metadata": {},
     "output_type": "execute_result"
    }
   ],
   "source": [
    "arr2 = np.arange(30).reshape(-1,3,5)\n",
    "arr2"
   ]
  },
  {
   "cell_type": "code",
   "execution_count": 101,
   "id": "4ec7699f-fdaf-4577-8a94-e80c4743a5b4",
   "metadata": {},
   "outputs": [
    {
     "name": "stdout",
     "output_type": "stream",
     "text": [
      "0\n",
      "1\n",
      "2\n",
      "3\n",
      "4\n",
      "5\n",
      "6\n",
      "7\n",
      "8\n",
      "9\n",
      "10\n",
      "11\n",
      "12\n",
      "13\n",
      "14\n",
      "15\n",
      "16\n",
      "17\n",
      "18\n",
      "19\n",
      "20\n",
      "21\n",
      "22\n",
      "23\n",
      "24\n",
      "25\n",
      "26\n",
      "27\n",
      "28\n",
      "29\n"
     ]
    }
   ],
   "source": [
    "for x in np.nditer(arr2):\n",
    "    print(x)"
   ]
  },
  {
   "cell_type": "markdown",
   "id": "c1b4c2aa-b697-4124-9bfe-b5e89e2e3c2e",
   "metadata": {
    "tags": []
   },
   "source": [
    "## NumPy ile iki bilinmeyenli denklem çözme"
   ]
  },
  {
   "cell_type": "code",
   "execution_count": 74,
   "id": "a1fcf8ec-6b76-47fe-b4ec-7f30e912ff43",
   "metadata": {},
   "outputs": [],
   "source": [
    "# 5*x0 + x1 = 12\n",
    "# x0 + 3*x1 = 10"
   ]
  },
  {
   "cell_type": "code",
   "execution_count": 75,
   "id": "480a1e00-a9d3-4d03-a743-a862d5a0d654",
   "metadata": {},
   "outputs": [],
   "source": [
    "a = np.array([[5,1], [1,3]])     # denklemin katsayıları\n",
    "b = np.array([12,10])"
   ]
  },
  {
   "cell_type": "code",
   "execution_count": 76,
   "id": "620fc4f4-ed20-4644-87a4-0a72dc2dc976",
   "metadata": {},
   "outputs": [
    {
     "data": {
      "text/plain": [
       "array([1.85714286, 2.71428571])"
      ]
     },
     "execution_count": 76,
     "metadata": {},
     "output_type": "execute_result"
    }
   ],
   "source": [
    "x = np.linalg.solve(a, b)\n",
    "x"
   ]
  },
  {
   "cell_type": "code",
   "execution_count": null,
   "id": "9f6cb157-c11f-4956-b519-cd9571310353",
   "metadata": {},
   "outputs": [],
   "source": []
  }
 ],
 "metadata": {
  "kernelspec": {
   "display_name": "Python 3 (ipykernel)",
   "language": "python",
   "name": "python3"
  },
  "language_info": {
   "codemirror_mode": {
    "name": "ipython",
    "version": 3
   },
   "file_extension": ".py",
   "mimetype": "text/x-python",
   "name": "python",
   "nbconvert_exporter": "python",
   "pygments_lexer": "ipython3",
   "version": "3.9.13"
  }
 },
 "nbformat": 4,
 "nbformat_minor": 5
}
