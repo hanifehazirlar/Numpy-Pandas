{
 "cells": [
  {
   "cell_type": "markdown",
   "metadata": {},
   "source": [
    "# Importing Libraries"
   ]
  },
  {
   "cell_type": "markdown",
   "metadata": {},
   "source": [
    "[Numpy Source 01](https://www.educba.com/what-is-numpy-in-python/),\n",
    "[Numpy Source 02](https://www.javatpoint.com/numpy-tutorial),\n",
    "[Numpy Source 03](https://techvidvan.com/tutorials/python-numpy-tutorial/),\n",
    "[Numpy Source 04](https://medium.com/analytics-vidhya/introduction-to-numpy-16a6efaffdd7),\n",
    "[Numpy Source 05](https://data-flair.training/blogs/python-numpy-tutorial/),\n",
    "[Numpy Source 06](https://www.quora.com/In-Python-what-is-NumPy-How-is-it-used),\n",
    "[Numpy Source 07](https://fgnt.github.io/python_crashkurs_doc/include/numpy.html),\n",
    "[Numpy Source 08](https://towardsdatascience.com/a-hitchhiker-guide-to-python-numpy-arrays-9358de570121),\n",
    "[Numpy Source 09](https://scipy-lectures.org/intro/numpy/array_object.html)"
   ]
  },
  {
   "cell_type": "code",
   "execution_count": null,
   "metadata": {},
   "outputs": [],
   "source": [
    "# NumPy Python Standard Library içerisinde bulunan bir module değildir.\n",
    "# NumPy module'unu import etmek için önce ; NumPy module'unu Python pip aracı ile install etmemiz gerekiyor. \n",
    "# \"pip\" aracı bize Standard Library'de bulunmayan module'leri/package'leri dışarıdan install etmeyi sağlar.\n",
    "# Bilimsel hesaplamalar için kullanılır.\n",
    "# Arrayler/çok boyutlu arrayler ve matrisler üzerinde yüksek performanslı çalışma imkanı sağlar\n",
    "# Numpy dizileri python listelerine benzer fakat hız ve işlevsellik açısından python listelerinden daha kullanışlıdır.\n",
    "# Çünkü listeler her bir eleman için ayrı ayrı bilgi tutarken numpy array'leri elemanlarını sabitlenmiş tipe zorlar \n",
    "# bu da veri saklama açısından büyük bir kolaylık sağlar"
   ]
  },
  {
   "cell_type": "code",
   "execution_count": 1,
   "metadata": {
    "ExecuteTime": {
     "end_time": "2023-03-30T23:10:06.477628Z",
     "start_time": "2023-03-30T23:10:06.461627Z"
    }
   },
   "outputs": [],
   "source": [
    "#pip install numpy"
   ]
  },
  {
   "cell_type": "code",
   "execution_count": 1,
   "metadata": {
    "ExecuteTime": {
     "end_time": "2023-03-30T23:10:06.557626Z",
     "start_time": "2023-03-30T23:10:06.482629Z"
    }
   },
   "outputs": [],
   "source": [
    "import numpy as np"
   ]
  },
  {
   "cell_type": "code",
   "execution_count": 1,
   "metadata": {
    "ExecuteTime": {
     "end_time": "2023-03-30T23:10:06.682637Z",
     "start_time": "2023-03-30T23:10:06.561625Z"
    }
   },
   "outputs": [],
   "source": [
    "dir(np) #numpy icindeki methodlari gosterir"
   ]
  },
  {
   "cell_type": "code",
   "execution_count": 4,
   "metadata": {
    "ExecuteTime": {
     "end_time": "2023-03-30T23:10:06.762624Z",
     "start_time": "2023-03-30T23:10:06.691626Z"
    }
   },
   "outputs": [
    {
     "data": {
      "text/plain": [
       "'1.23.5'"
      ]
     },
     "execution_count": 4,
     "metadata": {},
     "output_type": "execute_result"
    }
   ],
   "source": [
    "np.__version__"
   ]
  },
  {
   "cell_type": "code",
   "execution_count": 2,
   "metadata": {
    "ExecuteTime": {
     "end_time": "2023-03-30T23:10:06.874627Z",
     "start_time": "2023-03-30T23:10:06.766626Z"
    }
   },
   "outputs": [],
   "source": [
    "# np.__doc__   # np.arange.__doc__"
   ]
  },
  {
   "cell_type": "markdown",
   "metadata": {},
   "source": [
    "# Numpy Array vs List"
   ]
  },
  {
   "cell_type": "code",
   "execution_count": null,
   "metadata": {},
   "outputs": [],
   "source": []
  },
  {
   "cell_type": "code",
   "execution_count": null,
   "metadata": {},
   "outputs": [],
   "source": []
  },
  {
   "cell_type": "markdown",
   "metadata": {},
   "source": [
    "[Numpy Array vs List Source 01](https://blog.finxter.com/what-are-advantages-of-numpy-over-regular-python-lists/),\n",
    "[Numpy Array vs List Source 02](https://numpy.org/doc/stable/user/whatisnumpy.html),\n",
    "[Numpy Array vs List Source 03](https://python.plainenglish.io/python-list-vs-numpy-array-whats-the-difference-7308cd4b52f6),\n",
    "[Numpy vs List Source 04](https://webcourses.ucf.edu/courses/1249560/pages/python-lists-vs-numpy-arrays-what-is-the-difference#:~:text=A%20numpy%20array%20is%20a,a%20tuple%20of%20nonnegative%20integers.&text=A%20list%20is%20the%20Python,contain%20elements%20of%20different%20types.),\n",
    "[Numpy Array vs List Source 05](https://dev.to/chanduthedev/python-list-vs-numpy-array-3pjp),\n",
    "[Numpy Array vs List Source 06](https://medium.com/analytics-vidhya/list-vs-numpy-comparision-35bf921588e9),\n",
    "[Numpy Array vs List Source 07](https://stackoverflow.com/questions/15944171/python-differences-between-lists-and-numpy-array-of-objects),\n",
    "[Numpy Array vs List Video Source 01](https://www.youtube.com/watch?v=mkbgEvUkSaM),\n",
    "[Numpy Array vs List Video Source 02](https://www.youtube.com/watch?v=JtW_xGNDEJ8) &\n",
    "[Numpy Array vs List Video Source 03](https://www.youtube.com/watch?v=C10KmAbCW6A)"
   ]
  },
  {
   "cell_type": "markdown",
   "metadata": {},
   "source": [
    "## Comparing list and array by computation time"
   ]
  },
  {
   "cell_type": "code",
   "execution_count": 6,
   "metadata": {
    "ExecuteTime": {
     "end_time": "2023-03-30T23:10:06.969646Z",
     "start_time": "2023-03-30T23:10:06.879625Z"
    }
   },
   "outputs": [],
   "source": [
    "import time"
   ]
  },
  {
   "cell_type": "code",
   "execution_count": null,
   "metadata": {},
   "outputs": [],
   "source": [
    "# Python'un time.time() fonksiyonu, sistem saati ile ilgili bir zaman bilgisini saniye cinsinden döndürür. \n",
    "# Bu zaman bilgisi, 1 Ocak 1970 Unix epokuna kadar geçen süre olarak hesaplanır. \n",
    "# Yani, time.time() fonksiyonu, 1 Ocak 1970'den itibaren geçen saniyelerin verir."
   ]
  },
  {
   "cell_type": "code",
   "execution_count": 7,
   "metadata": {
    "ExecuteTime": {
     "end_time": "2023-03-30T23:10:07.064625Z",
     "start_time": "2023-03-30T23:10:06.973625Z"
    }
   },
   "outputs": [
    {
     "data": {
      "text/plain": [
       "1680263112.500231"
      ]
     },
     "execution_count": 7,
     "metadata": {},
     "output_type": "execute_result"
    }
   ],
   "source": [
    "time.time() "
   ]
  },
  {
   "cell_type": "code",
   "execution_count": 8,
   "metadata": {
    "ExecuteTime": {
     "end_time": "2023-03-30T23:10:07.176626Z",
     "start_time": "2023-03-30T23:10:07.068625Z"
    }
   },
   "outputs": [
    {
     "data": {
      "text/plain": [
       "1680263115.8379645"
      ]
     },
     "execution_count": 8,
     "metadata": {},
     "output_type": "execute_result"
    }
   ],
   "source": [
    "start = time.time()  \n",
    "start"
   ]
  },
  {
   "cell_type": "code",
   "execution_count": 9,
   "metadata": {
    "ExecuteTime": {
     "end_time": "2023-03-30T23:10:07.256625Z",
     "start_time": "2023-03-30T23:10:07.180627Z"
    }
   },
   "outputs": [
    {
     "data": {
      "text/plain": [
       "2.546367645263672"
      ]
     },
     "execution_count": 9,
     "metadata": {},
     "output_type": "execute_result"
    }
   ],
   "source": [
    "time.time() - start  "
   ]
  },
  {
   "cell_type": "code",
   "execution_count": 11,
   "metadata": {
    "ExecuteTime": {
     "end_time": "2023-03-30T23:10:07.538630Z",
     "start_time": "2023-03-30T23:10:07.268626Z"
    }
   },
   "outputs": [
    {
     "name": "stdout",
     "output_type": "stream",
     "text": [
      "python list took:  0.2680187225341797\n",
      "numpy took:  0.018001556396484375\n"
     ]
    }
   ],
   "source": [
    "size = 1000000\n",
    "\n",
    "l1 = range(size)  #list deki range methodu ile icine verilen sayiya kadar bir list olusturduk\n",
    "l2 = range(size)\n",
    "\n",
    "a1 = np.arange(size) #np de arange() methodu icine verilen sayiya kadar bir array olusturduk\n",
    "a2 = np.arange(size)\n",
    "\n",
    "# a1= np.array(l1)\n",
    "# a2= np.array(l2) # array imizi bu sekilde de olusturabilirdik\n",
    "\n",
    "#python list\n",
    "start = time.time()\n",
    "result = [(x + y) for x, y in zip(l1, l2)]\n",
    "print(\"python list took: \", (time.time()-start) ) \n",
    "# burada python in list lerde calisma hizini gormek icin bir islem yaptrdik\n",
    "\n",
    "# numpy array\n",
    "start = time.time()\n",
    "result = a1 + a2\n",
    "print(\"numpy took: \", (time.time() - start) )\n",
    "# burada np in array lerde calisma hizini gormek icin ayni islemi yaptrdik\n",
    "#NOT :Bu kisimda python list ile numpy array i karsilastirdik. Sonuc olarak list array e gore daha yavas"
   ]
  },
  {
   "cell_type": "markdown",
   "metadata": {},
   "source": [
    "## Comparing list and array by size"
   ]
  },
  {
   "cell_type": "code",
   "execution_count": 11,
   "metadata": {
    "ExecuteTime": {
     "end_time": "2023-03-30T23:10:07.554625Z",
     "start_time": "2023-03-30T23:10:07.542625Z"
    }
   },
   "outputs": [],
   "source": [
    "import sys  "
   ]
  },
  {
   "cell_type": "code",
   "execution_count": 12,
   "metadata": {
    "ExecuteTime": {
     "end_time": "2023-03-30T23:10:07.697626Z",
     "start_time": "2023-03-30T23:10:07.559626Z"
    }
   },
   "outputs": [
    {
     "data": {
      "text/plain": [
       "28"
      ]
     },
     "execution_count": 12,
     "metadata": {},
     "output_type": "execute_result"
    }
   ],
   "source": [
    "sys.getsizeof(5) # sys.getsizeof(): Bir nesnenin bellekte kapladığı alanın boyutunu verir."
   ]
  },
  {
   "cell_type": "code",
   "execution_count": 13,
   "metadata": {
    "ExecuteTime": {
     "end_time": "2023-03-30T23:10:07.793025Z",
     "start_time": "2023-03-30T23:10:07.701623Z"
    },
    "scrolled": true
   },
   "outputs": [
    {
     "data": {
      "text/plain": [
       "28"
      ]
     },
     "execution_count": 13,
     "metadata": {},
     "output_type": "execute_result"
    }
   ],
   "source": [
    "sys.getsizeof(99999999)"
   ]
  },
  {
   "cell_type": "code",
   "execution_count": 14,
   "metadata": {
    "ExecuteTime": {
     "end_time": "2023-03-30T23:10:07.870538Z",
     "start_time": "2023-03-30T23:10:07.796026Z"
    }
   },
   "outputs": [
    {
     "data": {
      "text/plain": [
       "50"
      ]
     },
     "execution_count": 14,
     "metadata": {},
     "output_type": "execute_result"
    }
   ],
   "source": [
    "sys.getsizeof(\"a\")"
   ]
  },
  {
   "cell_type": "code",
   "execution_count": 15,
   "metadata": {
    "ExecuteTime": {
     "end_time": "2023-03-30T23:10:07.948611Z",
     "start_time": "2023-03-30T23:10:07.873547Z"
    }
   },
   "outputs": [
    {
     "data": {
      "text/plain": [
       "55"
      ]
     },
     "execution_count": 15,
     "metadata": {},
     "output_type": "execute_result"
    }
   ],
   "source": [
    "sys.getsizeof(\"aaaaaa\")"
   ]
  },
  {
   "cell_type": "code",
   "execution_count": 16,
   "metadata": {
    "ExecuteTime": {
     "end_time": "2023-03-30T23:10:08.089235Z",
     "start_time": "2023-03-30T23:10:07.951547Z"
    },
    "scrolled": true
   },
   "outputs": [
    {
     "name": "stdout",
     "output_type": "stream",
     "text": [
      "size of one item in list : 28\n",
      "size of all item in list : 28000\n",
      "------------------------------\n",
      "size of one item in array : 4\n",
      "size of all items in array : 4000\n"
     ]
    }
   ],
   "source": [
    "l = range(1000)\n",
    "\n",
    "print(\"size of one item in list :\", sys.getsizeof(5)) \n",
    "print(\"size of all item in list :\", sys.getsizeof(5) * len(l))\n",
    "\n",
    "print(\"---\" * 10)\n",
    "\n",
    "a = np.arange(1000)\n",
    "\n",
    "print(\"size of one item in array :\", a.itemsize)\n",
    "print(\"size of all items in array :\", a.itemsize * a.size )\n",
    "\n",
    "# array e göre listeler 7 kat fazla yer kaplamış"
   ]
  },
  {
   "cell_type": "markdown",
   "metadata": {
    "ExecuteTime": {
     "end_time": "2023-03-27T21:17:18.609032Z",
     "start_time": "2023-03-27T21:17:18.577561Z"
    }
   },
   "source": [
    "## Comparing list and array by advanced mathematical operations"
   ]
  },
  {
   "cell_type": "code",
   "execution_count": 17,
   "metadata": {
    "ExecuteTime": {
     "end_time": "2023-03-30T23:10:08.259421Z",
     "start_time": "2023-03-30T23:10:08.092245Z"
    }
   },
   "outputs": [],
   "source": [
    "a=[1,2,3,4]\n",
    "b=[4,3,2,1]\n",
    "ab=[]\n",
    "\n",
    "for i in range(0, len(a)):\n",
    "    ab.append(a[i]*b[i])\n",
    "ab"
   ]
  },
  {
   "cell_type": "code",
   "execution_count": null,
   "metadata": {},
   "outputs": [],
   "source": [
    "a = [1, 2, 3, 4]\n",
    "b = [4, 3, 2, 1]\n",
    "[i * j for i, j in zip(a, b)] # verilen iki list in elemanlarini ayni sirayla birbiri ile carptik"
   ]
  },
  {
   "cell_type": "code",
   "execution_count": 18,
   "metadata": {
    "ExecuteTime": {
     "end_time": "2023-03-30T23:10:08.448727Z",
     "start_time": "2023-03-30T23:10:08.262421Z"
    }
   },
   "outputs": [
    {
     "data": {
      "text/plain": [
       "[4, 6, 6, 4]"
      ]
     },
     "execution_count": 18,
     "metadata": {},
     "output_type": "execute_result"
    }
   ],
   "source": []
  },
  {
   "cell_type": "code",
   "execution_count": 19,
   "metadata": {
    "ExecuteTime": {
     "end_time": "2023-03-30T23:10:08.573498Z",
     "start_time": "2023-03-30T23:10:08.453706Z"
    }
   },
   "outputs": [],
   "source": [
    "a1=np.array(a)\n",
    "b1=np.array(b)"
   ]
  },
  {
   "cell_type": "code",
   "execution_count": 20,
   "metadata": {
    "ExecuteTime": {
     "end_time": "2023-03-30T23:10:08.745795Z",
     "start_time": "2023-03-30T23:10:08.577434Z"
    }
   },
   "outputs": [
    {
     "data": {
      "text/plain": [
       "array([4, 6, 6, 4])"
      ]
     },
     "execution_count": 20,
     "metadata": {},
     "output_type": "execute_result"
    }
   ],
   "source": [
    "a1 * b1"
   ]
  },
  {
   "cell_type": "code",
   "execution_count": 21,
   "metadata": {
    "ExecuteTime": {
     "end_time": "2023-03-30T23:10:08.903546Z",
     "start_time": "2023-03-30T23:10:08.748804Z"
    }
   },
   "outputs": [
    {
     "data": {
      "text/plain": [
       "array([10, 20, 30, 40])"
      ]
     },
     "execution_count": 21,
     "metadata": {},
     "output_type": "execute_result"
    }
   ],
   "source": [
    "a1 * 10"
   ]
  },
  {
   "cell_type": "code",
   "execution_count": 22,
   "metadata": {
    "ExecuteTime": {
     "end_time": "2023-03-30T23:10:09.044130Z",
     "start_time": "2023-03-30T23:10:08.907542Z"
    }
   },
   "outputs": [
    {
     "data": {
      "text/plain": [
       "array([0.1, 0.2, 0.3, 0.4])"
      ]
     },
     "execution_count": 22,
     "metadata": {},
     "output_type": "execute_result"
    }
   ],
   "source": [
    "a1 / 10"
   ]
  },
  {
   "cell_type": "code",
   "execution_count": 23,
   "metadata": {
    "ExecuteTime": {
     "end_time": "2023-03-30T23:10:09.214370Z",
     "start_time": "2023-03-30T23:10:09.047106Z"
    }
   },
   "outputs": [
    {
     "data": {
      "text/plain": [
       "array([5, 5, 5, 5])"
      ]
     },
     "execution_count": 23,
     "metadata": {},
     "output_type": "execute_result"
    }
   ],
   "source": [
    "a1 + b1"
   ]
  },
  {
   "cell_type": "code",
   "execution_count": 24,
   "metadata": {
    "ExecuteTime": {
     "end_time": "2023-03-30T23:10:09.403486Z",
     "start_time": "2023-03-30T23:10:09.219367Z"
    }
   },
   "outputs": [
    {
     "data": {
      "text/plain": [
       "array([-3, -1,  1,  3])"
      ]
     },
     "execution_count": 24,
     "metadata": {},
     "output_type": "execute_result"
    }
   ],
   "source": [
    "a1 - b1"
   ]
  },
  {
   "cell_type": "markdown",
   "metadata": {},
   "source": [
    "# Create Array Methods"
   ]
  },
  {
   "cell_type": "markdown",
   "metadata": {},
   "source": [
    "[Numpy Array Source 01](https://www.geeksforgeeks.org/python-arrays/),\n",
    "[Numpy Array Source 02](https://thispointer.com/python-numpy-create-a-ndarray-from-list-tuple-or-list-of-lists-using-numpy-array/),\n",
    "[Numpy Array Source 03](https://www.pluralsight.com/guides/different-ways-create-numpy-arrays),\n",
    "[Numpy Array Source 04](https://stackoverflow.com/questions/33983053/how-to-create-a-numpy-array-of-lists/33987165),\n",
    "[Numpy Array Source 05](https://towardsdatascience.com/the-ten-best-ways-to-create-numpy-arrays-8b1029a972a7),\n",
    "[Numpy Array Source 06](https://blog.finxter.com/how-to-convert-a-list-to-a-numpy-array/),\n",
    "[Numpy Array Video Source 01](https://youtu.be/MKOw9ATtVqE),\n",
    "[Numpy Array Video Source 02](https://youtu.be/RQ0x6OHym3k)"
   ]
  },
  {
   "cell_type": "markdown",
   "metadata": {},
   "source": [
    "## From a Python List"
   ]
  },
  {
   "cell_type": "markdown",
   "metadata": {},
   "source": [
    "### array\n",
    "\n",
    "NumPy, arrays-diziler ile çalışmak için kullanılır. NumPy’deki dizi nesnesine ndarray denir. array() işlevini kullanarak bir NumPy ndarray nesnesi oluşturabiliriz."
   ]
  },
  {
   "cell_type": "code",
   "execution_count": 25,
   "metadata": {
    "ExecuteTime": {
     "end_time": "2023-03-30T23:10:09.719315Z",
     "start_time": "2023-03-30T23:10:09.411490Z"
    }
   },
   "outputs": [
    {
     "data": {
      "text/plain": [
       "[1, 2, 3]"
      ]
     },
     "execution_count": 25,
     "metadata": {},
     "output_type": "execute_result"
    }
   ],
   "source": [
    "my_list = [1, 2, 3]\n",
    "my_list"
   ]
  },
  {
   "cell_type": "code",
   "execution_count": 26,
   "metadata": {
    "ExecuteTime": {
     "end_time": "2023-03-30T23:10:09.987319Z",
     "start_time": "2023-03-30T23:10:09.724319Z"
    }
   },
   "outputs": [
    {
     "data": {
      "text/plain": [
       "array([1, 2, 3])"
      ]
     },
     "execution_count": 26,
     "metadata": {},
     "output_type": "execute_result"
    }
   ],
   "source": [
    "np.array(my_list)"
   ]
  },
  {
   "cell_type": "code",
   "execution_count": 27,
   "metadata": {
    "ExecuteTime": {
     "end_time": "2023-03-30T23:10:10.162318Z",
     "start_time": "2023-03-30T23:10:09.992319Z"
    }
   },
   "outputs": [
    {
     "data": {
      "text/plain": [
       "array([1, 2, 3])"
      ]
     },
     "execution_count": 27,
     "metadata": {},
     "output_type": "execute_result"
    }
   ],
   "source": [
    "np.array([1, 2, 3])"
   ]
  },
  {
   "cell_type": "code",
   "execution_count": 28,
   "metadata": {
    "ExecuteTime": {
     "end_time": "2023-03-30T23:10:10.321316Z",
     "start_time": "2023-03-30T23:10:10.183321Z"
    }
   },
   "outputs": [
    {
     "data": {
      "text/plain": [
       "array([1., 2., 3.])"
      ]
     },
     "execution_count": 28,
     "metadata": {},
     "output_type": "execute_result"
    }
   ],
   "source": [
    "np.array([1, 2, 3], dtype = float)\n",
    "# dtype methodu default olarak var aslinda default hali integer dir. \n",
    "# Biz float olmasini istersek bu sekilde yazariz\n",
    "# -dtype \n",
    "# elemanlarin veri tipi demek bu. kapladigi boyut sayisiyla alakali\n",
    "# hem integer hem float olabilir listede, formatini tek bir tipe cevirip homojen olarak saklanmasini sagliyor numpy\n",
    "# hem integer hem float koyarsak, tipini float yapar\n",
    "# numpy'lar homojen, tek bir veri tipine cevirerek saklama yapiyor."
   ]
  },
  {
   "cell_type": "code",
   "execution_count": 29,
   "metadata": {
    "ExecuteTime": {
     "end_time": "2023-03-30T23:10:10.493318Z",
     "start_time": "2023-03-30T23:10:10.326322Z"
    }
   },
   "outputs": [
    {
     "data": {
      "text/plain": [
       "[[1, 2, 3], [4, 5, 6], [7, 8, 9], [10, 11, 12]]"
      ]
     },
     "execution_count": 29,
     "metadata": {},
     "output_type": "execute_result"
    }
   ],
   "source": [
    "my_list2 = [[1, 2, 3], [4, 5, 6], [7, 8, 9], [10, 11, 12]]\n",
    "my_list2"
   ]
  },
  {
   "cell_type": "code",
   "execution_count": 30,
   "metadata": {
    "ExecuteTime": {
     "end_time": "2023-03-30T23:10:10.651316Z",
     "start_time": "2023-03-30T23:10:10.497318Z"
    }
   },
   "outputs": [
    {
     "data": {
      "text/plain": [
       "array([[ 1,  2,  3],\n",
       "       [ 4,  5,  6],\n",
       "       [ 7,  8,  9],\n",
       "       [10, 11, 12]])"
      ]
     },
     "execution_count": 30,
     "metadata": {},
     "output_type": "execute_result"
    }
   ],
   "source": [
    "my_array2 = np.array(my_list2)\n",
    "my_array2"
   ]
  },
  {
   "cell_type": "code",
   "execution_count": null,
   "metadata": {},
   "outputs": [],
   "source": [
    "my"
   ]
  },
  {
   "cell_type": "markdown",
   "metadata": {},
   "source": [
    "### shape & reshape\n",
    "shape; Numpy array nesnesinin kaç satır ve sütundan oluştuğunu gösteren bir tupple nesnesi döndürür.\n",
    "\n",
    "reshape; Numpy array’i yeniden şekillendirmek istediğimizde yani satır ve sütun sayısını değiştirmek istediğimizde reshape() metodunu kullanabiliriz."
   ]
  },
  {
   "cell_type": "code",
   "execution_count": 31,
   "metadata": {
    "ExecuteTime": {
     "end_time": "2023-03-30T23:10:10.824338Z",
     "start_time": "2023-03-30T23:10:10.655319Z"
    }
   },
   "outputs": [
    {
     "data": {
      "text/plain": [
       "(4, 3)"
      ]
     },
     "execution_count": 31,
     "metadata": {},
     "output_type": "execute_result"
    }
   ],
   "source": [
    "my_array2.shape"
   ]
  },
  {
   "cell_type": "code",
   "execution_count": 32,
   "metadata": {
    "ExecuteTime": {
     "end_time": "2023-03-30T23:10:10.997318Z",
     "start_time": "2023-03-30T23:10:10.828317Z"
    }
   },
   "outputs": [
    {
     "data": {
      "text/plain": [
       "array([[ 1,  2,  3],\n",
       "       [ 4,  5,  6],\n",
       "       [ 7,  8,  9],\n",
       "       [10, 11, 12]])"
      ]
     },
     "execution_count": 32,
     "metadata": {},
     "output_type": "execute_result"
    }
   ],
   "source": [
    "my_array2.reshape(4,3)"
   ]
  },
  {
   "cell_type": "code",
   "execution_count": 33,
   "metadata": {
    "ExecuteTime": {
     "end_time": "2023-03-30T23:10:11.186339Z",
     "start_time": "2023-03-30T23:10:11.001318Z"
    }
   },
   "outputs": [
    {
     "data": {
      "text/plain": [
       "array([[ 1,  2,  3,  4,  5,  6],\n",
       "       [ 7,  8,  9, 10, 11, 12]])"
      ]
     },
     "execution_count": 33,
     "metadata": {},
     "output_type": "execute_result"
    }
   ],
   "source": [
    "my_array2.reshape(2,6)"
   ]
  },
  {
   "cell_type": "code",
   "execution_count": 34,
   "metadata": {
    "ExecuteTime": {
     "end_time": "2023-03-30T23:10:11.391317Z",
     "start_time": "2023-03-30T23:10:11.190318Z"
    }
   },
   "outputs": [
    {
     "data": {
      "text/plain": [
       "array([[ 1],\n",
       "       [ 2],\n",
       "       [ 3],\n",
       "       [ 4],\n",
       "       [ 5],\n",
       "       [ 6],\n",
       "       [ 7],\n",
       "       [ 8],\n",
       "       [ 9],\n",
       "       [10],\n",
       "       [11],\n",
       "       [12]])"
      ]
     },
     "execution_count": 34,
     "metadata": {},
     "output_type": "execute_result"
    }
   ],
   "source": [
    "my_array2.reshape(12,1)"
   ]
  },
  {
   "cell_type": "code",
   "execution_count": 35,
   "metadata": {
    "ExecuteTime": {
     "end_time": "2023-03-30T23:10:11.533318Z",
     "start_time": "2023-03-30T23:10:11.396320Z"
    }
   },
   "outputs": [
    {
     "data": {
      "text/plain": [
       "array([ 1,  2,  3,  4,  5,  6,  7,  8,  9, 10, 11, 12])"
      ]
     },
     "execution_count": 35,
     "metadata": {},
     "output_type": "execute_result"
    }
   ],
   "source": [
    "my_array2.reshape(12)"
   ]
  },
  {
   "cell_type": "code",
   "execution_count": 36,
   "metadata": {
    "ExecuteTime": {
     "end_time": "2023-03-30T23:10:11.645319Z",
     "start_time": "2023-03-30T23:10:11.537317Z"
    }
   },
   "outputs": [
    {
     "data": {
      "text/plain": [
       "array([[[ 1,  2],\n",
       "        [ 3,  4]],\n",
       "\n",
       "       [[ 5,  6],\n",
       "        [ 7,  8]],\n",
       "\n",
       "       [[ 9, 10],\n",
       "        [11, 12]]])"
      ]
     },
     "execution_count": 36,
     "metadata": {},
     "output_type": "execute_result"
    }
   ],
   "source": [
    "a= my_array2.reshape(12).reshape(3,2,2)\n",
    "a"
   ]
  },
  {
   "cell_type": "code",
   "execution_count": 37,
   "metadata": {
    "ExecuteTime": {
     "end_time": "2023-03-30T23:10:11.756319Z",
     "start_time": "2023-03-30T23:10:11.649320Z"
    }
   },
   "outputs": [
    {
     "data": {
      "text/plain": [
       "(3, 2, 2)"
      ]
     },
     "execution_count": 37,
     "metadata": {},
     "output_type": "execute_result"
    }
   ],
   "source": [
    "a.shape"
   ]
  },
  {
   "cell_type": "code",
   "execution_count": 38,
   "metadata": {
    "ExecuteTime": {
     "end_time": "2023-03-30T23:10:11.883318Z",
     "start_time": "2023-03-30T23:10:11.760320Z"
    }
   },
   "outputs": [
    {
     "data": {
      "text/plain": [
       "array([ 0,  1,  2,  3,  4,  5,  6,  7,  8,  9, 10, 11, 12, 13, 14, 15, 16,\n",
       "       17, 18, 19, 20, 21, 22, 23, 24, 25, 26, 27, 28, 29, 30, 31, 32, 33,\n",
       "       34, 35])"
      ]
     },
     "execution_count": 38,
     "metadata": {},
     "output_type": "execute_result"
    }
   ],
   "source": [
    "arr = np.arange(36)\n",
    "arr"
   ]
  },
  {
   "cell_type": "code",
   "execution_count": 39,
   "metadata": {
    "ExecuteTime": {
     "end_time": "2023-03-30T23:10:11.994314Z",
     "start_time": "2023-03-30T23:10:11.886318Z"
    }
   },
   "outputs": [
    {
     "data": {
      "text/plain": [
       "array([[ 0,  1,  2,  3,  4,  5],\n",
       "       [ 6,  7,  8,  9, 10, 11],\n",
       "       [12, 13, 14, 15, 16, 17],\n",
       "       [18, 19, 20, 21, 22, 23],\n",
       "       [24, 25, 26, 27, 28, 29],\n",
       "       [30, 31, 32, 33, 34, 35]])"
      ]
     },
     "execution_count": 39,
     "metadata": {},
     "output_type": "execute_result"
    }
   ],
   "source": [
    "arr.reshape(6,6)"
   ]
  },
  {
   "cell_type": "code",
   "execution_count": 40,
   "metadata": {
    "ExecuteTime": {
     "end_time": "2023-03-30T23:10:12.089318Z",
     "start_time": "2023-03-30T23:10:11.998319Z"
    }
   },
   "outputs": [
    {
     "data": {
      "text/plain": [
       "array([[ 0,  1,  2,  3,  4,  5,  6,  7,  8],\n",
       "       [ 9, 10, 11, 12, 13, 14, 15, 16, 17],\n",
       "       [18, 19, 20, 21, 22, 23, 24, 25, 26],\n",
       "       [27, 28, 29, 30, 31, 32, 33, 34, 35]])"
      ]
     },
     "execution_count": 40,
     "metadata": {},
     "output_type": "execute_result"
    }
   ],
   "source": [
    "arr.reshape(-1, 9)"
   ]
  },
  {
   "cell_type": "code",
   "execution_count": 41,
   "metadata": {
    "ExecuteTime": {
     "end_time": "2023-03-30T23:10:12.279320Z",
     "start_time": "2023-03-30T23:10:12.093319Z"
    }
   },
   "outputs": [
    {
     "data": {
      "text/plain": [
       "array([[ 0,  1,  2,  3,  4,  5,  6,  7,  8,  9, 10, 11],\n",
       "       [12, 13, 14, 15, 16, 17, 18, 19, 20, 21, 22, 23],\n",
       "       [24, 25, 26, 27, 28, 29, 30, 31, 32, 33, 34, 35]])"
      ]
     },
     "execution_count": 41,
     "metadata": {},
     "output_type": "execute_result"
    }
   ],
   "source": [
    "arr.reshape(3, -1)"
   ]
  },
  {
   "cell_type": "markdown",
   "metadata": {},
   "source": [
    "### ndmin \n",
    "Bir numpy array oluşturulurken boyut sayısını belirtmek için kullanılır."
   ]
  },
  {
   "cell_type": "code",
   "execution_count": 42,
   "metadata": {
    "ExecuteTime": {
     "end_time": "2023-03-30T23:10:12.422314Z",
     "start_time": "2023-03-30T23:10:12.284318Z"
    }
   },
   "outputs": [],
   "source": [
    "myList=list(range(0,48))"
   ]
  },
  {
   "cell_type": "code",
   "execution_count": 43,
   "metadata": {
    "ExecuteTime": {
     "end_time": "2023-03-30T23:10:12.533318Z",
     "start_time": "2023-03-30T23:10:12.426320Z"
    }
   },
   "outputs": [],
   "source": [
    "myArray=np.array(myList, ndmin=4)"
   ]
  },
  {
   "cell_type": "code",
   "execution_count": 44,
   "metadata": {
    "ExecuteTime": {
     "end_time": "2023-03-30T23:10:12.676320Z",
     "start_time": "2023-03-30T23:10:12.537317Z"
    }
   },
   "outputs": [
    {
     "data": {
      "text/plain": [
       "array([[[[ 0,  1,  2,  3,  4,  5,  6,  7,  8,  9, 10, 11, 12, 13, 14,\n",
       "          15, 16, 17, 18, 19, 20, 21, 22, 23, 24, 25, 26, 27, 28, 29,\n",
       "          30, 31, 32, 33, 34, 35, 36, 37, 38, 39, 40, 41, 42, 43, 44,\n",
       "          45, 46, 47]]]])"
      ]
     },
     "execution_count": 44,
     "metadata": {},
     "output_type": "execute_result"
    }
   ],
   "source": [
    "myArray"
   ]
  },
  {
   "cell_type": "code",
   "execution_count": 45,
   "metadata": {
    "ExecuteTime": {
     "end_time": "2023-03-30T23:10:12.802320Z",
     "start_time": "2023-03-30T23:10:12.680317Z"
    }
   },
   "outputs": [
    {
     "data": {
      "text/plain": [
       "(1, 1, 1, 48)"
      ]
     },
     "execution_count": 45,
     "metadata": {},
     "output_type": "execute_result"
    }
   ],
   "source": [
    "myArray.shape"
   ]
  },
  {
   "cell_type": "code",
   "execution_count": 46,
   "metadata": {
    "ExecuteTime": {
     "end_time": "2023-03-30T23:10:12.929317Z",
     "start_time": "2023-03-30T23:10:12.807318Z"
    }
   },
   "outputs": [
    {
     "data": {
      "text/plain": [
       "array([[[[ 0,  1],\n",
       "         [ 2,  3],\n",
       "         [ 4,  5],\n",
       "         [ 6,  7]],\n",
       "\n",
       "        [[ 8,  9],\n",
       "         [10, 11],\n",
       "         [12, 13],\n",
       "         [14, 15]],\n",
       "\n",
       "        [[16, 17],\n",
       "         [18, 19],\n",
       "         [20, 21],\n",
       "         [22, 23]]],\n",
       "\n",
       "\n",
       "       [[[24, 25],\n",
       "         [26, 27],\n",
       "         [28, 29],\n",
       "         [30, 31]],\n",
       "\n",
       "        [[32, 33],\n",
       "         [34, 35],\n",
       "         [36, 37],\n",
       "         [38, 39]],\n",
       "\n",
       "        [[40, 41],\n",
       "         [42, 43],\n",
       "         [44, 45],\n",
       "         [46, 47]]]])"
      ]
     },
     "execution_count": 46,
     "metadata": {},
     "output_type": "execute_result"
    }
   ],
   "source": [
    "myArray2=myArray.reshape(2,3,4,2)   # 4 satır ve 2 sütundan oluşan 3 tane 2 boyutlu , 2 tane 3 boyutlu, \n",
    "myArray2"
   ]
  },
  {
   "cell_type": "code",
   "execution_count": 47,
   "metadata": {
    "ExecuteTime": {
     "end_time": "2023-03-30T23:10:13.041339Z",
     "start_time": "2023-03-30T23:10:12.935320Z"
    }
   },
   "outputs": [
    {
     "data": {
      "text/plain": [
       "(2, 3, 4, 2)"
      ]
     },
     "execution_count": 47,
     "metadata": {},
     "output_type": "execute_result"
    }
   ],
   "source": [
    "myArray2.shape"
   ]
  },
  {
   "cell_type": "markdown",
   "metadata": {},
   "source": [
    "### dtype & astype\n",
    "dtype, bir numpy dizisinin veri tipini belirlemek  ve öğrenmek için kullanılır.\n",
    "\n",
    "astype ise, bir numpy dizisinin veri tipini dönüştürmek için kullanılır. "
   ]
  },
  {
   "cell_type": "code",
   "execution_count": 48,
   "metadata": {
    "ExecuteTime": {
     "end_time": "2023-03-30T23:10:13.103323Z",
     "start_time": "2023-03-30T23:10:13.046318Z"
    }
   },
   "outputs": [
    {
     "data": {
      "text/plain": [
       "array([1, 2, 3])"
      ]
     },
     "execution_count": 48,
     "metadata": {},
     "output_type": "execute_result"
    }
   ],
   "source": [
    "my_int = np.array([1, 2, 3])\n",
    "my_int"
   ]
  },
  {
   "cell_type": "code",
   "execution_count": 49,
   "metadata": {
    "ExecuteTime": {
     "end_time": "2023-03-30T23:10:13.231316Z",
     "start_time": "2023-03-30T23:10:13.107319Z"
    }
   },
   "outputs": [
    {
     "data": {
      "text/plain": [
       "dtype('int32')"
      ]
     },
     "execution_count": 49,
     "metadata": {},
     "output_type": "execute_result"
    }
   ],
   "source": [
    "my_int.dtype"
   ]
  },
  {
   "cell_type": "code",
   "execution_count": 50,
   "metadata": {
    "ExecuteTime": {
     "end_time": "2023-03-30T23:10:13.342318Z",
     "start_time": "2023-03-30T23:10:13.235318Z"
    }
   },
   "outputs": [
    {
     "data": {
      "text/plain": [
       "array([1. , 2. , 3. , 4.5])"
      ]
     },
     "execution_count": 50,
     "metadata": {},
     "output_type": "execute_result"
    }
   ],
   "source": [
    "my_float = np.array([1, 2, 3, 4.5])\n",
    "my_float"
   ]
  },
  {
   "cell_type": "code",
   "execution_count": 51,
   "metadata": {
    "ExecuteTime": {
     "end_time": "2023-03-30T23:10:13.422315Z",
     "start_time": "2023-03-30T23:10:13.346319Z"
    }
   },
   "outputs": [
    {
     "data": {
      "text/plain": [
       "dtype('float64')"
      ]
     },
     "execution_count": 51,
     "metadata": {},
     "output_type": "execute_result"
    }
   ],
   "source": [
    "my_float.dtype"
   ]
  },
  {
   "cell_type": "code",
   "execution_count": 52,
   "metadata": {
    "ExecuteTime": {
     "end_time": "2023-03-30T23:10:13.500316Z",
     "start_time": "2023-03-30T23:10:13.427317Z"
    }
   },
   "outputs": [
    {
     "data": {
      "text/plain": [
       "array(['1', '2', '3', '4.5', 'a'], dtype='<U32')"
      ]
     },
     "execution_count": 52,
     "metadata": {},
     "output_type": "execute_result"
    }
   ],
   "source": [
    "my_string = np.array([1, 2, 3, 4.5, \"a\"])\n",
    "my_string"
   ]
  },
  {
   "cell_type": "code",
   "execution_count": 53,
   "metadata": {
    "ExecuteTime": {
     "end_time": "2023-03-30T23:10:13.580316Z",
     "start_time": "2023-03-30T23:10:13.505320Z"
    },
    "scrolled": true
   },
   "outputs": [
    {
     "data": {
      "text/plain": [
       "dtype('<U32')"
      ]
     },
     "execution_count": 53,
     "metadata": {},
     "output_type": "execute_result"
    }
   ],
   "source": [
    "my_string.dtype"
   ]
  },
  {
   "cell_type": "code",
   "execution_count": 54,
   "metadata": {
    "ExecuteTime": {
     "end_time": "2023-03-30T23:10:13.675316Z",
     "start_time": "2023-03-30T23:10:13.585319Z"
    }
   },
   "outputs": [
    {
     "name": "stdout",
     "output_type": "stream",
     "text": [
      "[1. 2.]\n",
      "float64\n"
     ]
    }
   ],
   "source": [
    "x = np.array([1, 2], dtype=np.float64)\n",
    "print(x)        \n",
    "print(x.dtype)  "
   ]
  },
  {
   "cell_type": "code",
   "execution_count": 55,
   "metadata": {
    "ExecuteTime": {
     "end_time": "2023-03-30T23:10:13.753318Z",
     "start_time": "2023-03-30T23:10:13.681318Z"
    }
   },
   "outputs": [
    {
     "name": "stdout",
     "output_type": "stream",
     "text": [
      "[1 2]\n",
      "int32\n"
     ]
    }
   ],
   "source": [
    "newx = x.astype('i')\n",
    "\n",
    "print(newx)        \n",
    "print(newx.dtype)  "
   ]
  },
  {
   "cell_type": "code",
   "execution_count": 56,
   "metadata": {
    "ExecuteTime": {
     "end_time": "2023-03-30T23:10:13.878324Z",
     "start_time": "2023-03-30T23:10:13.756317Z"
    }
   },
   "outputs": [
    {
     "name": "stdout",
     "output_type": "stream",
     "text": [
      "[False  True  True]\n",
      "bool\n"
     ]
    }
   ],
   "source": [
    "arr = np.array([0, 1, 2])\n",
    "\n",
    "newarr = arr.astype(bool)\n",
    "\n",
    "print(newarr)        \n",
    "print(newarr.dtype) "
   ]
  }
 ],
 "metadata": {
  "hide_input": false,
  "kernelspec": {
   "display_name": "Python 3 (ipykernel)",
   "language": "python",
   "name": "python3"
  },
  "language_info": {
   "codemirror_mode": {
    "name": "ipython",
    "version": 3
   },
   "file_extension": ".py",
   "mimetype": "text/x-python",
   "name": "python",
   "nbconvert_exporter": "python",
   "pygments_lexer": "ipython3",
   "version": "3.10.9"
  },
  "nbTranslate": {
   "displayLangs": [
    "*"
   ],
   "hotkey": "alt-t",
   "langInMainMenu": true,
   "sourceLang": "en",
   "targetLang": "fr",
   "useGoogleTranslate": true
  },
  "toc": {
   "base_numbering": 1,
   "nav_menu": {},
   "number_sections": true,
   "sideBar": true,
   "skip_h1_title": false,
   "title_cell": "Table of Contents",
   "title_sidebar": "Contents",
   "toc_cell": false,
   "toc_position": {
    "height": "calc(100% - 180px)",
    "left": "10px",
    "top": "150px",
    "width": "187.76px"
   },
   "toc_section_display": true,
   "toc_window_display": true
  },
  "varInspector": {
   "cols": {
    "lenName": 16,
    "lenType": 16,
    "lenVar": 40
   },
   "kernels_config": {
    "python": {
     "delete_cmd_postfix": "",
     "delete_cmd_prefix": "del ",
     "library": "var_list.py",
     "varRefreshCmd": "print(var_dic_list())"
    },
    "r": {
     "delete_cmd_postfix": ") ",
     "delete_cmd_prefix": "rm(",
     "library": "var_list.r",
     "varRefreshCmd": "cat(var_dic_list()) "
    }
   },
   "types_to_exclude": [
    "module",
    "function",
    "builtin_function_or_method",
    "instance",
    "_Feature"
   ],
   "window_display": false
  }
 },
 "nbformat": 4,
 "nbformat_minor": 4
}
