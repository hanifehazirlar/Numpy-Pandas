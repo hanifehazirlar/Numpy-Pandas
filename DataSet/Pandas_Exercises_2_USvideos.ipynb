{
 "cells": [
  {
   "cell_type": "code",
   "execution_count": 1,
   "id": "fbcfd119-398b-4797-a12f-80c3c48285bb",
   "metadata": {},
   "outputs": [],
   "source": [
    "import pandas as pd"
   ]
  },
  {
   "cell_type": "markdown",
   "id": "a3fd62cc-5815-4beb-88f3-158670e2c0f9",
   "metadata": {},
   "source": [
    "#### Youtube Dataset'ini çağırın ve kolon isimlerini yazdırın"
   ]
  },
  {
   "cell_type": "code",
   "execution_count": 2,
   "id": "cf55d3a0-ef18-4b68-9c7b-1179fdea1525",
   "metadata": {},
   "outputs": [
    {
     "data": {
      "text/plain": [
       "Index(['video_id', 'trending_date', 'title', 'channel_title', 'category_id',\n",
       "       'publish_time', 'tags', 'views', 'likes', 'dislikes', 'comment_count',\n",
       "       'thumbnail_link', 'comments_disabled', 'ratings_disabled',\n",
       "       'video_error_or_removed', 'description'],\n",
       "      dtype='object')"
      ]
     },
     "execution_count": 2,
     "metadata": {},
     "output_type": "execute_result"
    }
   ],
   "source": [
    "df= pd.read_csv(\"USvideos.csv\")\n",
    "df.columns"
   ]
  },
  {
   "cell_type": "markdown",
   "id": "179e5f15-11e6-4239-839b-2c57fb1af695",
   "metadata": {},
   "source": [
    "#### İlk ve Son 5 Veriyi gösterin"
   ]
  },
  {
   "cell_type": "code",
   "execution_count": 3,
   "id": "73b0d170-c6ee-4888-9ef2-529209646938",
   "metadata": {},
   "outputs": [
    {
     "data": {
      "text/html": [
       "<div>\n",
       "<style scoped>\n",
       "    .dataframe tbody tr th:only-of-type {\n",
       "        vertical-align: middle;\n",
       "    }\n",
       "\n",
       "    .dataframe tbody tr th {\n",
       "        vertical-align: top;\n",
       "    }\n",
       "\n",
       "    .dataframe thead th {\n",
       "        text-align: right;\n",
       "    }\n",
       "</style>\n",
       "<table border=\"1\" class=\"dataframe\">\n",
       "  <thead>\n",
       "    <tr style=\"text-align: right;\">\n",
       "      <th></th>\n",
       "      <th>video_id</th>\n",
       "      <th>trending_date</th>\n",
       "      <th>title</th>\n",
       "      <th>channel_title</th>\n",
       "      <th>category_id</th>\n",
       "      <th>publish_time</th>\n",
       "      <th>tags</th>\n",
       "      <th>views</th>\n",
       "      <th>likes</th>\n",
       "      <th>dislikes</th>\n",
       "      <th>comment_count</th>\n",
       "      <th>thumbnail_link</th>\n",
       "      <th>comments_disabled</th>\n",
       "      <th>ratings_disabled</th>\n",
       "      <th>video_error_or_removed</th>\n",
       "      <th>description</th>\n",
       "    </tr>\n",
       "  </thead>\n",
       "  <tbody>\n",
       "    <tr>\n",
       "      <th>0</th>\n",
       "      <td>2kyS6SvSYSE</td>\n",
       "      <td>17.14.11</td>\n",
       "      <td>WE WANT TO TALK ABOUT OUR MARRIAGE</td>\n",
       "      <td>CaseyNeistat</td>\n",
       "      <td>22</td>\n",
       "      <td>2017-11-13T17:13:01.000Z</td>\n",
       "      <td>SHANtell martin</td>\n",
       "      <td>748374</td>\n",
       "      <td>57527</td>\n",
       "      <td>2966</td>\n",
       "      <td>15954</td>\n",
       "      <td>https://i.ytimg.com/vi/2kyS6SvSYSE/default.jpg</td>\n",
       "      <td>False</td>\n",
       "      <td>False</td>\n",
       "      <td>False</td>\n",
       "      <td>SHANTELL'S CHANNEL - https://www.youtube.com/s...</td>\n",
       "    </tr>\n",
       "    <tr>\n",
       "      <th>1</th>\n",
       "      <td>1ZAPwfrtAFY</td>\n",
       "      <td>17.14.11</td>\n",
       "      <td>The Trump Presidency: Last Week Tonight with J...</td>\n",
       "      <td>LastWeekTonight</td>\n",
       "      <td>24</td>\n",
       "      <td>2017-11-13T07:30:00.000Z</td>\n",
       "      <td>last week tonight trump presidency|\"last week ...</td>\n",
       "      <td>2418783</td>\n",
       "      <td>97185</td>\n",
       "      <td>6146</td>\n",
       "      <td>12703</td>\n",
       "      <td>https://i.ytimg.com/vi/1ZAPwfrtAFY/default.jpg</td>\n",
       "      <td>False</td>\n",
       "      <td>False</td>\n",
       "      <td>False</td>\n",
       "      <td>One year after the presidential election, John...</td>\n",
       "    </tr>\n",
       "    <tr>\n",
       "      <th>2</th>\n",
       "      <td>5qpjK5DgCt4</td>\n",
       "      <td>17.14.11</td>\n",
       "      <td>Racist Superman | Rudy Mancuso, King Bach &amp; Le...</td>\n",
       "      <td>Rudy Mancuso</td>\n",
       "      <td>23</td>\n",
       "      <td>2017-11-12T19:05:24.000Z</td>\n",
       "      <td>racist superman|\"rudy\"|\"mancuso\"|\"king\"|\"bach\"...</td>\n",
       "      <td>3191434</td>\n",
       "      <td>146033</td>\n",
       "      <td>5339</td>\n",
       "      <td>8181</td>\n",
       "      <td>https://i.ytimg.com/vi/5qpjK5DgCt4/default.jpg</td>\n",
       "      <td>False</td>\n",
       "      <td>False</td>\n",
       "      <td>False</td>\n",
       "      <td>WATCH MY PREVIOUS VIDEO ▶ \\n\\nSUBSCRIBE ► http...</td>\n",
       "    </tr>\n",
       "    <tr>\n",
       "      <th>3</th>\n",
       "      <td>puqaWrEC7tY</td>\n",
       "      <td>17.14.11</td>\n",
       "      <td>Nickelback Lyrics: Real or Fake?</td>\n",
       "      <td>Good Mythical Morning</td>\n",
       "      <td>24</td>\n",
       "      <td>2017-11-13T11:00:04.000Z</td>\n",
       "      <td>rhett and link|\"gmm\"|\"good mythical morning\"|\"...</td>\n",
       "      <td>343168</td>\n",
       "      <td>10172</td>\n",
       "      <td>666</td>\n",
       "      <td>2146</td>\n",
       "      <td>https://i.ytimg.com/vi/puqaWrEC7tY/default.jpg</td>\n",
       "      <td>False</td>\n",
       "      <td>False</td>\n",
       "      <td>False</td>\n",
       "      <td>Today we find out if Link is a Nickelback amat...</td>\n",
       "    </tr>\n",
       "    <tr>\n",
       "      <th>4</th>\n",
       "      <td>d380meD0W0M</td>\n",
       "      <td>17.14.11</td>\n",
       "      <td>I Dare You: GOING BALD!?</td>\n",
       "      <td>nigahiga</td>\n",
       "      <td>24</td>\n",
       "      <td>2017-11-12T18:01:41.000Z</td>\n",
       "      <td>ryan|\"higa\"|\"higatv\"|\"nigahiga\"|\"i dare you\"|\"...</td>\n",
       "      <td>2095731</td>\n",
       "      <td>132235</td>\n",
       "      <td>1989</td>\n",
       "      <td>17518</td>\n",
       "      <td>https://i.ytimg.com/vi/d380meD0W0M/default.jpg</td>\n",
       "      <td>False</td>\n",
       "      <td>False</td>\n",
       "      <td>False</td>\n",
       "      <td>I know it's been a while since we did this sho...</td>\n",
       "    </tr>\n",
       "  </tbody>\n",
       "</table>\n",
       "</div>"
      ],
      "text/plain": [
       "      video_id trending_date  \\\n",
       "0  2kyS6SvSYSE      17.14.11   \n",
       "1  1ZAPwfrtAFY      17.14.11   \n",
       "2  5qpjK5DgCt4      17.14.11   \n",
       "3  puqaWrEC7tY      17.14.11   \n",
       "4  d380meD0W0M      17.14.11   \n",
       "\n",
       "                                               title          channel_title  \\\n",
       "0                 WE WANT TO TALK ABOUT OUR MARRIAGE           CaseyNeistat   \n",
       "1  The Trump Presidency: Last Week Tonight with J...        LastWeekTonight   \n",
       "2  Racist Superman | Rudy Mancuso, King Bach & Le...           Rudy Mancuso   \n",
       "3                   Nickelback Lyrics: Real or Fake?  Good Mythical Morning   \n",
       "4                           I Dare You: GOING BALD!?               nigahiga   \n",
       "\n",
       "   category_id              publish_time  \\\n",
       "0           22  2017-11-13T17:13:01.000Z   \n",
       "1           24  2017-11-13T07:30:00.000Z   \n",
       "2           23  2017-11-12T19:05:24.000Z   \n",
       "3           24  2017-11-13T11:00:04.000Z   \n",
       "4           24  2017-11-12T18:01:41.000Z   \n",
       "\n",
       "                                                tags    views   likes  \\\n",
       "0                                    SHANtell martin   748374   57527   \n",
       "1  last week tonight trump presidency|\"last week ...  2418783   97185   \n",
       "2  racist superman|\"rudy\"|\"mancuso\"|\"king\"|\"bach\"...  3191434  146033   \n",
       "3  rhett and link|\"gmm\"|\"good mythical morning\"|\"...   343168   10172   \n",
       "4  ryan|\"higa\"|\"higatv\"|\"nigahiga\"|\"i dare you\"|\"...  2095731  132235   \n",
       "\n",
       "   dislikes  comment_count                                  thumbnail_link  \\\n",
       "0      2966          15954  https://i.ytimg.com/vi/2kyS6SvSYSE/default.jpg   \n",
       "1      6146          12703  https://i.ytimg.com/vi/1ZAPwfrtAFY/default.jpg   \n",
       "2      5339           8181  https://i.ytimg.com/vi/5qpjK5DgCt4/default.jpg   \n",
       "3       666           2146  https://i.ytimg.com/vi/puqaWrEC7tY/default.jpg   \n",
       "4      1989          17518  https://i.ytimg.com/vi/d380meD0W0M/default.jpg   \n",
       "\n",
       "   comments_disabled  ratings_disabled  video_error_or_removed  \\\n",
       "0              False             False                   False   \n",
       "1              False             False                   False   \n",
       "2              False             False                   False   \n",
       "3              False             False                   False   \n",
       "4              False             False                   False   \n",
       "\n",
       "                                         description  \n",
       "0  SHANTELL'S CHANNEL - https://www.youtube.com/s...  \n",
       "1  One year after the presidential election, John...  \n",
       "2  WATCH MY PREVIOUS VIDEO ▶ \\n\\nSUBSCRIBE ► http...  \n",
       "3  Today we find out if Link is a Nickelback amat...  \n",
       "4  I know it's been a while since we did this sho...  "
      ]
     },
     "execution_count": 3,
     "metadata": {},
     "output_type": "execute_result"
    }
   ],
   "source": [
    "df.head()"
   ]
  },
  {
   "cell_type": "code",
   "execution_count": 4,
   "id": "68d9eb7c-cc9d-4d80-8313-ad03af583544",
   "metadata": {},
   "outputs": [
    {
     "data": {
      "text/html": [
       "<div>\n",
       "<style scoped>\n",
       "    .dataframe tbody tr th:only-of-type {\n",
       "        vertical-align: middle;\n",
       "    }\n",
       "\n",
       "    .dataframe tbody tr th {\n",
       "        vertical-align: top;\n",
       "    }\n",
       "\n",
       "    .dataframe thead th {\n",
       "        text-align: right;\n",
       "    }\n",
       "</style>\n",
       "<table border=\"1\" class=\"dataframe\">\n",
       "  <thead>\n",
       "    <tr style=\"text-align: right;\">\n",
       "      <th></th>\n",
       "      <th>video_id</th>\n",
       "      <th>trending_date</th>\n",
       "      <th>title</th>\n",
       "      <th>channel_title</th>\n",
       "      <th>category_id</th>\n",
       "      <th>publish_time</th>\n",
       "      <th>tags</th>\n",
       "      <th>views</th>\n",
       "      <th>likes</th>\n",
       "      <th>dislikes</th>\n",
       "      <th>comment_count</th>\n",
       "      <th>thumbnail_link</th>\n",
       "      <th>comments_disabled</th>\n",
       "      <th>ratings_disabled</th>\n",
       "      <th>video_error_or_removed</th>\n",
       "      <th>description</th>\n",
       "    </tr>\n",
       "  </thead>\n",
       "  <tbody>\n",
       "    <tr>\n",
       "      <th>23357</th>\n",
       "      <td>pH7VfJDq7f4</td>\n",
       "      <td>18.12.03</td>\n",
       "      <td>Why Bridges Move...</td>\n",
       "      <td>Practical Engineering</td>\n",
       "      <td>27</td>\n",
       "      <td>2018-02-27T12:00:08.000Z</td>\n",
       "      <td>thermal expansion|\"expansion joint\"|\"thermal m...</td>\n",
       "      <td>456470</td>\n",
       "      <td>14826</td>\n",
       "      <td>279</td>\n",
       "      <td>820</td>\n",
       "      <td>https://i.ytimg.com/vi/pH7VfJDq7f4/default.jpg</td>\n",
       "      <td>False</td>\n",
       "      <td>False</td>\n",
       "      <td>False</td>\n",
       "      <td>...and other musings on thermal movement of la...</td>\n",
       "    </tr>\n",
       "    <tr>\n",
       "      <th>23358</th>\n",
       "      <td>hV-yHbbrKRA</td>\n",
       "      <td>18.12.03</td>\n",
       "      <td>Macaroni - A Recipe From 1784</td>\n",
       "      <td>Townsends</td>\n",
       "      <td>27</td>\n",
       "      <td>2018-02-26T21:23:39.000Z</td>\n",
       "      <td>townsends|\"jas townsend and son\"|\"reenacting\"|...</td>\n",
       "      <td>519220</td>\n",
       "      <td>13600</td>\n",
       "      <td>329</td>\n",
       "      <td>1350</td>\n",
       "      <td>https://i.ytimg.com/vi/hV-yHbbrKRA/default.jpg</td>\n",
       "      <td>False</td>\n",
       "      <td>False</td>\n",
       "      <td>False</td>\n",
       "      <td>Visit Our Website! ▶ http://www.townsends.us/ ...</td>\n",
       "    </tr>\n",
       "    <tr>\n",
       "      <th>23359</th>\n",
       "      <td>CwKp6Xhy3_4</td>\n",
       "      <td>18.12.03</td>\n",
       "      <td>Chris Young - Hangin' On</td>\n",
       "      <td>ChrisYoungVEVO</td>\n",
       "      <td>10</td>\n",
       "      <td>2018-02-26T08:00:02.000Z</td>\n",
       "      <td>Losing sleep video|\"losing sleep album\"|\"think...</td>\n",
       "      <td>1117570</td>\n",
       "      <td>7504</td>\n",
       "      <td>584</td>\n",
       "      <td>324</td>\n",
       "      <td>https://i.ytimg.com/vi/CwKp6Xhy3_4/default.jpg</td>\n",
       "      <td>False</td>\n",
       "      <td>False</td>\n",
       "      <td>False</td>\n",
       "      <td>Chris Young's Hangin' On from his #1 album Los...</td>\n",
       "    </tr>\n",
       "    <tr>\n",
       "      <th>23360</th>\n",
       "      <td>vQiiNGllGQo</td>\n",
       "      <td>18.12.03</td>\n",
       "      <td>Elderly man making sure his dog won't get wet</td>\n",
       "      <td>Rock me, Joey Santiago.</td>\n",
       "      <td>15</td>\n",
       "      <td>2018-02-26T11:09:32.000Z</td>\n",
       "      <td>dog|\"cute\"|\"adorable\"|\"doggo\"|\"doge\"|\"old\"|\"ma...</td>\n",
       "      <td>713574</td>\n",
       "      <td>12448</td>\n",
       "      <td>146</td>\n",
       "      <td>1474</td>\n",
       "      <td>https://i.ytimg.com/vi/vQiiNGllGQo/default.jpg</td>\n",
       "      <td>False</td>\n",
       "      <td>False</td>\n",
       "      <td>False</td>\n",
       "      <td>very wholesome stuff.\\n\\nThis video was taken ...</td>\n",
       "    </tr>\n",
       "    <tr>\n",
       "      <th>23361</th>\n",
       "      <td>2afSbqlp5HU</td>\n",
       "      <td>18.12.03</td>\n",
       "      <td>How to speak like Black Panther - BBC News</td>\n",
       "      <td>BBC News</td>\n",
       "      <td>1</td>\n",
       "      <td>2018-02-27T12:26:49.000Z</td>\n",
       "      <td>bbc|\"bbc news\"|\"news\"|\"black panther\"|\"black p...</td>\n",
       "      <td>422979</td>\n",
       "      <td>7408</td>\n",
       "      <td>1344</td>\n",
       "      <td>1548</td>\n",
       "      <td>https://i.ytimg.com/vi/2afSbqlp5HU/default.jpg</td>\n",
       "      <td>False</td>\n",
       "      <td>False</td>\n",
       "      <td>False</td>\n",
       "      <td>The new marvel film Black Panther is set in th...</td>\n",
       "    </tr>\n",
       "  </tbody>\n",
       "</table>\n",
       "</div>"
      ],
      "text/plain": [
       "          video_id trending_date  \\\n",
       "23357  pH7VfJDq7f4      18.12.03   \n",
       "23358  hV-yHbbrKRA      18.12.03   \n",
       "23359  CwKp6Xhy3_4      18.12.03   \n",
       "23360  vQiiNGllGQo      18.12.03   \n",
       "23361  2afSbqlp5HU      18.12.03   \n",
       "\n",
       "                                               title            channel_title  \\\n",
       "23357                            Why Bridges Move...    Practical Engineering   \n",
       "23358                  Macaroni - A Recipe From 1784                Townsends   \n",
       "23359                       Chris Young - Hangin' On           ChrisYoungVEVO   \n",
       "23360  Elderly man making sure his dog won't get wet  Rock me, Joey Santiago.   \n",
       "23361     How to speak like Black Panther - BBC News                 BBC News   \n",
       "\n",
       "       category_id              publish_time  \\\n",
       "23357           27  2018-02-27T12:00:08.000Z   \n",
       "23358           27  2018-02-26T21:23:39.000Z   \n",
       "23359           10  2018-02-26T08:00:02.000Z   \n",
       "23360           15  2018-02-26T11:09:32.000Z   \n",
       "23361            1  2018-02-27T12:26:49.000Z   \n",
       "\n",
       "                                                    tags    views  likes  \\\n",
       "23357  thermal expansion|\"expansion joint\"|\"thermal m...   456470  14826   \n",
       "23358  townsends|\"jas townsend and son\"|\"reenacting\"|...   519220  13600   \n",
       "23359  Losing sleep video|\"losing sleep album\"|\"think...  1117570   7504   \n",
       "23360  dog|\"cute\"|\"adorable\"|\"doggo\"|\"doge\"|\"old\"|\"ma...   713574  12448   \n",
       "23361  bbc|\"bbc news\"|\"news\"|\"black panther\"|\"black p...   422979   7408   \n",
       "\n",
       "       dislikes  comment_count  \\\n",
       "23357       279            820   \n",
       "23358       329           1350   \n",
       "23359       584            324   \n",
       "23360       146           1474   \n",
       "23361      1344           1548   \n",
       "\n",
       "                                       thumbnail_link  comments_disabled  \\\n",
       "23357  https://i.ytimg.com/vi/pH7VfJDq7f4/default.jpg              False   \n",
       "23358  https://i.ytimg.com/vi/hV-yHbbrKRA/default.jpg              False   \n",
       "23359  https://i.ytimg.com/vi/CwKp6Xhy3_4/default.jpg              False   \n",
       "23360  https://i.ytimg.com/vi/vQiiNGllGQo/default.jpg              False   \n",
       "23361  https://i.ytimg.com/vi/2afSbqlp5HU/default.jpg              False   \n",
       "\n",
       "       ratings_disabled  video_error_or_removed  \\\n",
       "23357             False                   False   \n",
       "23358             False                   False   \n",
       "23359             False                   False   \n",
       "23360             False                   False   \n",
       "23361             False                   False   \n",
       "\n",
       "                                             description  \n",
       "23357  ...and other musings on thermal movement of la...  \n",
       "23358  Visit Our Website! ▶ http://www.townsends.us/ ...  \n",
       "23359  Chris Young's Hangin' On from his #1 album Los...  \n",
       "23360  very wholesome stuff.\\n\\nThis video was taken ...  \n",
       "23361  The new marvel film Black Panther is set in th...  "
      ]
     },
     "execution_count": 4,
     "metadata": {},
     "output_type": "execute_result"
    }
   ],
   "source": [
    "df.tail()"
   ]
  },
  {
   "cell_type": "markdown",
   "id": "14e6c7d9-47dc-4571-8c64-727c48a9d613",
   "metadata": {},
   "source": [
    "#### Datasetini aşağıdaki sütünları silerek güncelleyin.\n",
    "\n",
    "##### thumbnail_link ,video_id,trending_date,publish_time,thumbnail_link,comments_disabled,ratings_disabled,video_error_or_removed"
   ]
  },
  {
   "cell_type": "code",
   "execution_count": 6,
   "id": "ea4073af-de58-4c5f-9cce-8073bd14b5dc",
   "metadata": {},
   "outputs": [],
   "source": [
    "df.drop([\"thumbnail_link\" ,\"video_id\",\"trending_date\",\"publish_time\",\"thumbnail_link\",\"comments_disabled\",\"ratings_disabled\",\"video_error_or_removed\"],axis = 1, inplace = True)"
   ]
  },
  {
   "cell_type": "code",
   "execution_count": 7,
   "id": "5b6f7177",
   "metadata": {},
   "outputs": [
    {
     "data": {
      "text/html": [
       "<div>\n",
       "<style scoped>\n",
       "    .dataframe tbody tr th:only-of-type {\n",
       "        vertical-align: middle;\n",
       "    }\n",
       "\n",
       "    .dataframe tbody tr th {\n",
       "        vertical-align: top;\n",
       "    }\n",
       "\n",
       "    .dataframe thead th {\n",
       "        text-align: right;\n",
       "    }\n",
       "</style>\n",
       "<table border=\"1\" class=\"dataframe\">\n",
       "  <thead>\n",
       "    <tr style=\"text-align: right;\">\n",
       "      <th></th>\n",
       "      <th>title</th>\n",
       "      <th>channel_title</th>\n",
       "      <th>category_id</th>\n",
       "      <th>tags</th>\n",
       "      <th>views</th>\n",
       "      <th>likes</th>\n",
       "      <th>dislikes</th>\n",
       "      <th>comment_count</th>\n",
       "      <th>description</th>\n",
       "    </tr>\n",
       "  </thead>\n",
       "  <tbody>\n",
       "    <tr>\n",
       "      <th>0</th>\n",
       "      <td>WE WANT TO TALK ABOUT OUR MARRIAGE</td>\n",
       "      <td>CaseyNeistat</td>\n",
       "      <td>22</td>\n",
       "      <td>SHANtell martin</td>\n",
       "      <td>748374</td>\n",
       "      <td>57527</td>\n",
       "      <td>2966</td>\n",
       "      <td>15954</td>\n",
       "      <td>SHANTELL'S CHANNEL - https://www.youtube.com/s...</td>\n",
       "    </tr>\n",
       "    <tr>\n",
       "      <th>1</th>\n",
       "      <td>The Trump Presidency: Last Week Tonight with J...</td>\n",
       "      <td>LastWeekTonight</td>\n",
       "      <td>24</td>\n",
       "      <td>last week tonight trump presidency|\"last week ...</td>\n",
       "      <td>2418783</td>\n",
       "      <td>97185</td>\n",
       "      <td>6146</td>\n",
       "      <td>12703</td>\n",
       "      <td>One year after the presidential election, John...</td>\n",
       "    </tr>\n",
       "    <tr>\n",
       "      <th>2</th>\n",
       "      <td>Racist Superman | Rudy Mancuso, King Bach &amp; Le...</td>\n",
       "      <td>Rudy Mancuso</td>\n",
       "      <td>23</td>\n",
       "      <td>racist superman|\"rudy\"|\"mancuso\"|\"king\"|\"bach\"...</td>\n",
       "      <td>3191434</td>\n",
       "      <td>146033</td>\n",
       "      <td>5339</td>\n",
       "      <td>8181</td>\n",
       "      <td>WATCH MY PREVIOUS VIDEO ▶ \\n\\nSUBSCRIBE ► http...</td>\n",
       "    </tr>\n",
       "    <tr>\n",
       "      <th>3</th>\n",
       "      <td>Nickelback Lyrics: Real or Fake?</td>\n",
       "      <td>Good Mythical Morning</td>\n",
       "      <td>24</td>\n",
       "      <td>rhett and link|\"gmm\"|\"good mythical morning\"|\"...</td>\n",
       "      <td>343168</td>\n",
       "      <td>10172</td>\n",
       "      <td>666</td>\n",
       "      <td>2146</td>\n",
       "      <td>Today we find out if Link is a Nickelback amat...</td>\n",
       "    </tr>\n",
       "    <tr>\n",
       "      <th>4</th>\n",
       "      <td>I Dare You: GOING BALD!?</td>\n",
       "      <td>nigahiga</td>\n",
       "      <td>24</td>\n",
       "      <td>ryan|\"higa\"|\"higatv\"|\"nigahiga\"|\"i dare you\"|\"...</td>\n",
       "      <td>2095731</td>\n",
       "      <td>132235</td>\n",
       "      <td>1989</td>\n",
       "      <td>17518</td>\n",
       "      <td>I know it's been a while since we did this sho...</td>\n",
       "    </tr>\n",
       "    <tr>\n",
       "      <th>...</th>\n",
       "      <td>...</td>\n",
       "      <td>...</td>\n",
       "      <td>...</td>\n",
       "      <td>...</td>\n",
       "      <td>...</td>\n",
       "      <td>...</td>\n",
       "      <td>...</td>\n",
       "      <td>...</td>\n",
       "      <td>...</td>\n",
       "    </tr>\n",
       "    <tr>\n",
       "      <th>23357</th>\n",
       "      <td>Why Bridges Move...</td>\n",
       "      <td>Practical Engineering</td>\n",
       "      <td>27</td>\n",
       "      <td>thermal expansion|\"expansion joint\"|\"thermal m...</td>\n",
       "      <td>456470</td>\n",
       "      <td>14826</td>\n",
       "      <td>279</td>\n",
       "      <td>820</td>\n",
       "      <td>...and other musings on thermal movement of la...</td>\n",
       "    </tr>\n",
       "    <tr>\n",
       "      <th>23358</th>\n",
       "      <td>Macaroni - A Recipe From 1784</td>\n",
       "      <td>Townsends</td>\n",
       "      <td>27</td>\n",
       "      <td>townsends|\"jas townsend and son\"|\"reenacting\"|...</td>\n",
       "      <td>519220</td>\n",
       "      <td>13600</td>\n",
       "      <td>329</td>\n",
       "      <td>1350</td>\n",
       "      <td>Visit Our Website! ▶ http://www.townsends.us/ ...</td>\n",
       "    </tr>\n",
       "    <tr>\n",
       "      <th>23359</th>\n",
       "      <td>Chris Young - Hangin' On</td>\n",
       "      <td>ChrisYoungVEVO</td>\n",
       "      <td>10</td>\n",
       "      <td>Losing sleep video|\"losing sleep album\"|\"think...</td>\n",
       "      <td>1117570</td>\n",
       "      <td>7504</td>\n",
       "      <td>584</td>\n",
       "      <td>324</td>\n",
       "      <td>Chris Young's Hangin' On from his #1 album Los...</td>\n",
       "    </tr>\n",
       "    <tr>\n",
       "      <th>23360</th>\n",
       "      <td>Elderly man making sure his dog won't get wet</td>\n",
       "      <td>Rock me, Joey Santiago.</td>\n",
       "      <td>15</td>\n",
       "      <td>dog|\"cute\"|\"adorable\"|\"doggo\"|\"doge\"|\"old\"|\"ma...</td>\n",
       "      <td>713574</td>\n",
       "      <td>12448</td>\n",
       "      <td>146</td>\n",
       "      <td>1474</td>\n",
       "      <td>very wholesome stuff.\\n\\nThis video was taken ...</td>\n",
       "    </tr>\n",
       "    <tr>\n",
       "      <th>23361</th>\n",
       "      <td>How to speak like Black Panther - BBC News</td>\n",
       "      <td>BBC News</td>\n",
       "      <td>1</td>\n",
       "      <td>bbc|\"bbc news\"|\"news\"|\"black panther\"|\"black p...</td>\n",
       "      <td>422979</td>\n",
       "      <td>7408</td>\n",
       "      <td>1344</td>\n",
       "      <td>1548</td>\n",
       "      <td>The new marvel film Black Panther is set in th...</td>\n",
       "    </tr>\n",
       "  </tbody>\n",
       "</table>\n",
       "<p>23362 rows × 9 columns</p>\n",
       "</div>"
      ],
      "text/plain": [
       "                                                   title  \\\n",
       "0                     WE WANT TO TALK ABOUT OUR MARRIAGE   \n",
       "1      The Trump Presidency: Last Week Tonight with J...   \n",
       "2      Racist Superman | Rudy Mancuso, King Bach & Le...   \n",
       "3                       Nickelback Lyrics: Real or Fake?   \n",
       "4                               I Dare You: GOING BALD!?   \n",
       "...                                                  ...   \n",
       "23357                                Why Bridges Move...   \n",
       "23358                      Macaroni - A Recipe From 1784   \n",
       "23359                           Chris Young - Hangin' On   \n",
       "23360      Elderly man making sure his dog won't get wet   \n",
       "23361         How to speak like Black Panther - BBC News   \n",
       "\n",
       "                 channel_title  category_id  \\\n",
       "0                 CaseyNeistat           22   \n",
       "1              LastWeekTonight           24   \n",
       "2                 Rudy Mancuso           23   \n",
       "3        Good Mythical Morning           24   \n",
       "4                     nigahiga           24   \n",
       "...                        ...          ...   \n",
       "23357    Practical Engineering           27   \n",
       "23358                Townsends           27   \n",
       "23359           ChrisYoungVEVO           10   \n",
       "23360  Rock me, Joey Santiago.           15   \n",
       "23361                 BBC News            1   \n",
       "\n",
       "                                                    tags    views   likes  \\\n",
       "0                                        SHANtell martin   748374   57527   \n",
       "1      last week tonight trump presidency|\"last week ...  2418783   97185   \n",
       "2      racist superman|\"rudy\"|\"mancuso\"|\"king\"|\"bach\"...  3191434  146033   \n",
       "3      rhett and link|\"gmm\"|\"good mythical morning\"|\"...   343168   10172   \n",
       "4      ryan|\"higa\"|\"higatv\"|\"nigahiga\"|\"i dare you\"|\"...  2095731  132235   \n",
       "...                                                  ...      ...     ...   \n",
       "23357  thermal expansion|\"expansion joint\"|\"thermal m...   456470   14826   \n",
       "23358  townsends|\"jas townsend and son\"|\"reenacting\"|...   519220   13600   \n",
       "23359  Losing sleep video|\"losing sleep album\"|\"think...  1117570    7504   \n",
       "23360  dog|\"cute\"|\"adorable\"|\"doggo\"|\"doge\"|\"old\"|\"ma...   713574   12448   \n",
       "23361  bbc|\"bbc news\"|\"news\"|\"black panther\"|\"black p...   422979    7408   \n",
       "\n",
       "       dislikes  comment_count  \\\n",
       "0          2966          15954   \n",
       "1          6146          12703   \n",
       "2          5339           8181   \n",
       "3           666           2146   \n",
       "4          1989          17518   \n",
       "...         ...            ...   \n",
       "23357       279            820   \n",
       "23358       329           1350   \n",
       "23359       584            324   \n",
       "23360       146           1474   \n",
       "23361      1344           1548   \n",
       "\n",
       "                                             description  \n",
       "0      SHANTELL'S CHANNEL - https://www.youtube.com/s...  \n",
       "1      One year after the presidential election, John...  \n",
       "2      WATCH MY PREVIOUS VIDEO ▶ \\n\\nSUBSCRIBE ► http...  \n",
       "3      Today we find out if Link is a Nickelback amat...  \n",
       "4      I know it's been a while since we did this sho...  \n",
       "...                                                  ...  \n",
       "23357  ...and other musings on thermal movement of la...  \n",
       "23358  Visit Our Website! ▶ http://www.townsends.us/ ...  \n",
       "23359  Chris Young's Hangin' On from his #1 album Los...  \n",
       "23360  very wholesome stuff.\\n\\nThis video was taken ...  \n",
       "23361  The new marvel film Black Panther is set in th...  \n",
       "\n",
       "[23362 rows x 9 columns]"
      ]
     },
     "execution_count": 7,
     "metadata": {},
     "output_type": "execute_result"
    }
   ],
   "source": [
    "df"
   ]
  },
  {
   "cell_type": "markdown",
   "id": "4695581c-2b05-4027-a516-f7cbc0590542",
   "metadata": {},
   "source": [
    "#### Kaç tane Sütün ve Satır Olduğunu Bulun, veri seti hakkında genel bilgiye erişin"
   ]
  },
  {
   "cell_type": "code",
   "execution_count": 8,
   "id": "45d5c223-ca33-4730-9ebe-05643fcca8a5",
   "metadata": {},
   "outputs": [
    {
     "data": {
      "text/plain": [
       "9"
      ]
     },
     "execution_count": 8,
     "metadata": {},
     "output_type": "execute_result"
    }
   ],
   "source": [
    "# sütun sayısı\n",
    "len(df.columns)\n",
    "   "
   ]
  },
  {
   "cell_type": "code",
   "execution_count": 9,
   "id": "6dd7e2fb-3517-405d-b3cc-55a32cb180b5",
   "metadata": {},
   "outputs": [
    {
     "data": {
      "text/plain": [
       "23362"
      ]
     },
     "execution_count": 9,
     "metadata": {},
     "output_type": "execute_result"
    }
   ],
   "source": [
    "# satır sayısı\n",
    "len(df.index)\n"
   ]
  },
  {
   "cell_type": "code",
   "execution_count": 11,
   "id": "4b2f3c5c-1a3d-44b7-aaf5-399450a53d3d",
   "metadata": {},
   "outputs": [
    {
     "data": {
      "text/plain": [
       "(23362, 9)"
      ]
     },
     "execution_count": 11,
     "metadata": {},
     "output_type": "execute_result"
    }
   ],
   "source": [
    "# satır, sütun sayısı\n",
    "df.shape\n"
   ]
  },
  {
   "cell_type": "code",
   "execution_count": 12,
   "id": "33049d9a-dc01-46ab-9472-45aa976292dc",
   "metadata": {},
   "outputs": [
    {
     "name": "stdout",
     "output_type": "stream",
     "text": [
      "<class 'pandas.core.frame.DataFrame'>\n",
      "RangeIndex: 23362 entries, 0 to 23361\n",
      "Data columns (total 9 columns):\n",
      " #   Column         Non-Null Count  Dtype \n",
      "---  ------         --------------  ----- \n",
      " 0   title          23362 non-null  object\n",
      " 1   channel_title  23362 non-null  object\n",
      " 2   category_id    23362 non-null  int64 \n",
      " 3   tags           23362 non-null  object\n",
      " 4   views          23362 non-null  int64 \n",
      " 5   likes          23362 non-null  int64 \n",
      " 6   dislikes       23362 non-null  int64 \n",
      " 7   comment_count  23362 non-null  int64 \n",
      " 8   description    22929 non-null  object\n",
      "dtypes: int64(5), object(4)\n",
      "memory usage: 1.6+ MB\n"
     ]
    }
   ],
   "source": [
    "df.info()"
   ]
  },
  {
   "cell_type": "markdown",
   "id": "df34f5e1-1917-46c9-9a12-8799d5916620",
   "metadata": {
    "tags": []
   },
   "source": [
    "#### Beğeni(likes) ve Beğenmeme(dislikes) sayılarının ortalamasını bulun"
   ]
  },
  {
   "cell_type": "code",
   "execution_count": 13,
   "id": "bbb1f863-28bf-4a82-be7b-210d5c407c9b",
   "metadata": {},
   "outputs": [
    {
     "data": {
      "text/plain": [
       "45085.35972947522"
      ]
     },
     "execution_count": 13,
     "metadata": {},
     "output_type": "execute_result"
    }
   ],
   "source": [
    "# beğeni ortalaması\n",
    "df[\"likes\"].mean()\n"
   ]
  },
  {
   "cell_type": "code",
   "execution_count": 14,
   "id": "d93d00d1-cf09-4e53-842f-df77a8624c34",
   "metadata": {},
   "outputs": [
    {
     "data": {
      "text/plain": [
       "2809.7094426847016"
      ]
     },
     "execution_count": 14,
     "metadata": {},
     "output_type": "execute_result"
    }
   ],
   "source": [
    "# beğenmeme ortalaması\n",
    "df[\"dislikes\"].mean()"
   ]
  },
  {
   "cell_type": "markdown",
   "id": "f30a8ffe-ff4c-428b-85b7-028b813f44fb",
   "metadata": {},
   "source": [
    "#### En yüksek görüntülenmeyi alan videonun başlık bilgisini bulun"
   ]
  },
  {
   "cell_type": "code",
   "execution_count": 17,
   "id": "d3bfd9cc-eaec-4dab-811d-e0afd278f882",
   "metadata": {},
   "outputs": [
    {
     "data": {
      "text/plain": [
       "'YouTube Rewind: The Shape of 2017 | #YouTubeRewind'"
      ]
     },
     "execution_count": 17,
     "metadata": {},
     "output_type": "execute_result"
    }
   ],
   "source": [
    "df[df[\"views\"] == df[\"views\"].max()][\"title\"].iloc[0]"
   ]
  },
  {
   "cell_type": "markdown",
   "id": "d1949de0-f909-490f-aae3-bb4985db1ef7",
   "metadata": {},
   "source": [
    "#### En düşük görüntülenmeyi alan videonun başlık bilgisini bulun"
   ]
  },
  {
   "cell_type": "code",
   "execution_count": 18,
   "id": "211fd121-5301-4dee-92ab-40ecebb88746",
   "metadata": {},
   "outputs": [
    {
     "data": {
      "text/plain": [
       "'1 dead, others injured after Ky. school shooting'"
      ]
     },
     "execution_count": 18,
     "metadata": {},
     "output_type": "execute_result"
    }
   ],
   "source": [
    "df[df[\"views\"] == df[\"views\"].min()][\"title\"].iloc[0]"
   ]
  },
  {
   "cell_type": "markdown",
   "id": "e431fb63-41f9-4a17-af84-fc5ee1987dad",
   "metadata": {},
   "source": [
    "#### Kategorilere Göre (category_id) Yorum Sayılarının Ortalamasını Bulun"
   ]
  },
  {
   "cell_type": "code",
   "execution_count": 19,
   "id": "7f04f445",
   "metadata": {},
   "outputs": [
    {
     "data": {
      "text/html": [
       "<div>\n",
       "<style scoped>\n",
       "    .dataframe tbody tr th:only-of-type {\n",
       "        vertical-align: middle;\n",
       "    }\n",
       "\n",
       "    .dataframe tbody tr th {\n",
       "        vertical-align: top;\n",
       "    }\n",
       "\n",
       "    .dataframe thead th {\n",
       "        text-align: right;\n",
       "    }\n",
       "</style>\n",
       "<table border=\"1\" class=\"dataframe\">\n",
       "  <thead>\n",
       "    <tr style=\"text-align: right;\">\n",
       "      <th></th>\n",
       "      <th>title</th>\n",
       "      <th>channel_title</th>\n",
       "      <th>category_id</th>\n",
       "      <th>tags</th>\n",
       "      <th>views</th>\n",
       "      <th>likes</th>\n",
       "      <th>dislikes</th>\n",
       "      <th>comment_count</th>\n",
       "      <th>description</th>\n",
       "    </tr>\n",
       "  </thead>\n",
       "  <tbody>\n",
       "    <tr>\n",
       "      <th>0</th>\n",
       "      <td>WE WANT TO TALK ABOUT OUR MARRIAGE</td>\n",
       "      <td>CaseyNeistat</td>\n",
       "      <td>22</td>\n",
       "      <td>SHANtell martin</td>\n",
       "      <td>748374</td>\n",
       "      <td>57527</td>\n",
       "      <td>2966</td>\n",
       "      <td>15954</td>\n",
       "      <td>SHANTELL'S CHANNEL - https://www.youtube.com/s...</td>\n",
       "    </tr>\n",
       "    <tr>\n",
       "      <th>1</th>\n",
       "      <td>The Trump Presidency: Last Week Tonight with J...</td>\n",
       "      <td>LastWeekTonight</td>\n",
       "      <td>24</td>\n",
       "      <td>last week tonight trump presidency|\"last week ...</td>\n",
       "      <td>2418783</td>\n",
       "      <td>97185</td>\n",
       "      <td>6146</td>\n",
       "      <td>12703</td>\n",
       "      <td>One year after the presidential election, John...</td>\n",
       "    </tr>\n",
       "    <tr>\n",
       "      <th>2</th>\n",
       "      <td>Racist Superman | Rudy Mancuso, King Bach &amp; Le...</td>\n",
       "      <td>Rudy Mancuso</td>\n",
       "      <td>23</td>\n",
       "      <td>racist superman|\"rudy\"|\"mancuso\"|\"king\"|\"bach\"...</td>\n",
       "      <td>3191434</td>\n",
       "      <td>146033</td>\n",
       "      <td>5339</td>\n",
       "      <td>8181</td>\n",
       "      <td>WATCH MY PREVIOUS VIDEO ▶ \\n\\nSUBSCRIBE ► http...</td>\n",
       "    </tr>\n",
       "    <tr>\n",
       "      <th>3</th>\n",
       "      <td>Nickelback Lyrics: Real or Fake?</td>\n",
       "      <td>Good Mythical Morning</td>\n",
       "      <td>24</td>\n",
       "      <td>rhett and link|\"gmm\"|\"good mythical morning\"|\"...</td>\n",
       "      <td>343168</td>\n",
       "      <td>10172</td>\n",
       "      <td>666</td>\n",
       "      <td>2146</td>\n",
       "      <td>Today we find out if Link is a Nickelback amat...</td>\n",
       "    </tr>\n",
       "    <tr>\n",
       "      <th>4</th>\n",
       "      <td>I Dare You: GOING BALD!?</td>\n",
       "      <td>nigahiga</td>\n",
       "      <td>24</td>\n",
       "      <td>ryan|\"higa\"|\"higatv\"|\"nigahiga\"|\"i dare you\"|\"...</td>\n",
       "      <td>2095731</td>\n",
       "      <td>132235</td>\n",
       "      <td>1989</td>\n",
       "      <td>17518</td>\n",
       "      <td>I know it's been a while since we did this sho...</td>\n",
       "    </tr>\n",
       "  </tbody>\n",
       "</table>\n",
       "</div>"
      ],
      "text/plain": [
       "                                               title          channel_title  \\\n",
       "0                 WE WANT TO TALK ABOUT OUR MARRIAGE           CaseyNeistat   \n",
       "1  The Trump Presidency: Last Week Tonight with J...        LastWeekTonight   \n",
       "2  Racist Superman | Rudy Mancuso, King Bach & Le...           Rudy Mancuso   \n",
       "3                   Nickelback Lyrics: Real or Fake?  Good Mythical Morning   \n",
       "4                           I Dare You: GOING BALD!?               nigahiga   \n",
       "\n",
       "   category_id                                               tags    views  \\\n",
       "0           22                                    SHANtell martin   748374   \n",
       "1           24  last week tonight trump presidency|\"last week ...  2418783   \n",
       "2           23  racist superman|\"rudy\"|\"mancuso\"|\"king\"|\"bach\"...  3191434   \n",
       "3           24  rhett and link|\"gmm\"|\"good mythical morning\"|\"...   343168   \n",
       "4           24  ryan|\"higa\"|\"higatv\"|\"nigahiga\"|\"i dare you\"|\"...  2095731   \n",
       "\n",
       "    likes  dislikes  comment_count  \\\n",
       "0   57527      2966          15954   \n",
       "1   97185      6146          12703   \n",
       "2  146033      5339           8181   \n",
       "3   10172       666           2146   \n",
       "4  132235      1989          17518   \n",
       "\n",
       "                                         description  \n",
       "0  SHANTELL'S CHANNEL - https://www.youtube.com/s...  \n",
       "1  One year after the presidential election, John...  \n",
       "2  WATCH MY PREVIOUS VIDEO ▶ \\n\\nSUBSCRIBE ► http...  \n",
       "3  Today we find out if Link is a Nickelback amat...  \n",
       "4  I know it's been a while since we did this sho...  "
      ]
     },
     "execution_count": 19,
     "metadata": {},
     "output_type": "execute_result"
    }
   ],
   "source": [
    "df.head()"
   ]
  },
  {
   "cell_type": "code",
   "execution_count": 31,
   "id": "961445c7-3b6b-4d25-af05-83d8a8ea86d6",
   "metadata": {},
   "outputs": [
    {
     "data": {
      "text/html": [
       "<div>\n",
       "<style scoped>\n",
       "    .dataframe tbody tr th:only-of-type {\n",
       "        vertical-align: middle;\n",
       "    }\n",
       "\n",
       "    .dataframe tbody tr th {\n",
       "        vertical-align: top;\n",
       "    }\n",
       "\n",
       "    .dataframe thead th {\n",
       "        text-align: right;\n",
       "    }\n",
       "</style>\n",
       "<table border=\"1\" class=\"dataframe\">\n",
       "  <thead>\n",
       "    <tr style=\"text-align: right;\">\n",
       "      <th></th>\n",
       "      <th>comment_count</th>\n",
       "    </tr>\n",
       "    <tr>\n",
       "      <th>category_id</th>\n",
       "      <th></th>\n",
       "    </tr>\n",
       "  </thead>\n",
       "  <tbody>\n",
       "    <tr>\n",
       "      <th>1</th>\n",
       "      <td>6003.651813</td>\n",
       "    </tr>\n",
       "    <tr>\n",
       "      <th>2</th>\n",
       "      <td>1730.438235</td>\n",
       "    </tr>\n",
       "    <tr>\n",
       "      <th>10</th>\n",
       "      <td>10383.559418</td>\n",
       "    </tr>\n",
       "    <tr>\n",
       "      <th>15</th>\n",
       "      <td>2474.376054</td>\n",
       "    </tr>\n",
       "    <tr>\n",
       "      <th>17</th>\n",
       "      <td>3256.199515</td>\n",
       "    </tr>\n",
       "    <tr>\n",
       "      <th>19</th>\n",
       "      <td>1833.011450</td>\n",
       "    </tr>\n",
       "    <tr>\n",
       "      <th>20</th>\n",
       "      <td>7578.383607</td>\n",
       "    </tr>\n",
       "    <tr>\n",
       "      <th>22</th>\n",
       "      <td>4491.865854</td>\n",
       "    </tr>\n",
       "    <tr>\n",
       "      <th>23</th>\n",
       "      <td>5432.868554</td>\n",
       "    </tr>\n",
       "    <tr>\n",
       "      <th>24</th>\n",
       "      <td>7178.388176</td>\n",
       "    </tr>\n",
       "    <tr>\n",
       "      <th>25</th>\n",
       "      <td>1523.749869</td>\n",
       "    </tr>\n",
       "    <tr>\n",
       "      <th>26</th>\n",
       "      <td>4992.165997</td>\n",
       "    </tr>\n",
       "    <tr>\n",
       "      <th>27</th>\n",
       "      <td>2143.574850</td>\n",
       "    </tr>\n",
       "    <tr>\n",
       "      <th>28</th>\n",
       "      <td>3350.945159</td>\n",
       "    </tr>\n",
       "    <tr>\n",
       "      <th>29</th>\n",
       "      <td>100071.562500</td>\n",
       "    </tr>\n",
       "    <tr>\n",
       "      <th>43</th>\n",
       "      <td>1340.375000</td>\n",
       "    </tr>\n",
       "  </tbody>\n",
       "</table>\n",
       "</div>"
      ],
      "text/plain": [
       "             comment_count\n",
       "category_id               \n",
       "1              6003.651813\n",
       "2              1730.438235\n",
       "10            10383.559418\n",
       "15             2474.376054\n",
       "17             3256.199515\n",
       "19             1833.011450\n",
       "20             7578.383607\n",
       "22             4491.865854\n",
       "23             5432.868554\n",
       "24             7178.388176\n",
       "25             1523.749869\n",
       "26             4992.165997\n",
       "27             2143.574850\n",
       "28             3350.945159\n",
       "29           100071.562500\n",
       "43             1340.375000"
      ]
     },
     "execution_count": 31,
     "metadata": {},
     "output_type": "execute_result"
    }
   ],
   "source": [
    "df.groupby(\"category_id\")[[\"comment_count\"]].mean()"
   ]
  },
  {
   "cell_type": "markdown",
   "id": "948993e2-9804-4e2c-a608-99bf8f93af5b",
   "metadata": {},
   "source": [
    "#### Kategorilerde Kaç Adet Videonun Olduğunu Hesaplayın"
   ]
  },
  {
   "cell_type": "code",
   "execution_count": 26,
   "id": "fd7a4420-c901-4e28-9112-3d1c5f21ba20",
   "metadata": {},
   "outputs": [
    {
     "data": {
      "text/html": [
       "<div>\n",
       "<style scoped>\n",
       "    .dataframe tbody tr th:only-of-type {\n",
       "        vertical-align: middle;\n",
       "    }\n",
       "\n",
       "    .dataframe tbody tr th {\n",
       "        vertical-align: top;\n",
       "    }\n",
       "\n",
       "    .dataframe thead th {\n",
       "        text-align: right;\n",
       "    }\n",
       "</style>\n",
       "<table border=\"1\" class=\"dataframe\">\n",
       "  <thead>\n",
       "    <tr style=\"text-align: right;\">\n",
       "      <th></th>\n",
       "      <th>category_id</th>\n",
       "    </tr>\n",
       "  </thead>\n",
       "  <tbody>\n",
       "    <tr>\n",
       "      <th>24</th>\n",
       "      <td>5379</td>\n",
       "    </tr>\n",
       "    <tr>\n",
       "      <th>10</th>\n",
       "      <td>3366</td>\n",
       "    </tr>\n",
       "    <tr>\n",
       "      <th>26</th>\n",
       "      <td>2241</td>\n",
       "    </tr>\n",
       "    <tr>\n",
       "      <th>23</th>\n",
       "      <td>1978</td>\n",
       "    </tr>\n",
       "    <tr>\n",
       "      <th>25</th>\n",
       "      <td>1907</td>\n",
       "    </tr>\n",
       "    <tr>\n",
       "      <th>22</th>\n",
       "      <td>1886</td>\n",
       "    </tr>\n",
       "    <tr>\n",
       "      <th>28</th>\n",
       "      <td>1477</td>\n",
       "    </tr>\n",
       "    <tr>\n",
       "      <th>1</th>\n",
       "      <td>1324</td>\n",
       "    </tr>\n",
       "    <tr>\n",
       "      <th>17</th>\n",
       "      <td>1238</td>\n",
       "    </tr>\n",
       "    <tr>\n",
       "      <th>27</th>\n",
       "      <td>1002</td>\n",
       "    </tr>\n",
       "    <tr>\n",
       "      <th>15</th>\n",
       "      <td>593</td>\n",
       "    </tr>\n",
       "    <tr>\n",
       "      <th>2</th>\n",
       "      <td>340</td>\n",
       "    </tr>\n",
       "    <tr>\n",
       "      <th>20</th>\n",
       "      <td>305</td>\n",
       "    </tr>\n",
       "    <tr>\n",
       "      <th>19</th>\n",
       "      <td>262</td>\n",
       "    </tr>\n",
       "    <tr>\n",
       "      <th>29</th>\n",
       "      <td>48</td>\n",
       "    </tr>\n",
       "    <tr>\n",
       "      <th>43</th>\n",
       "      <td>16</td>\n",
       "    </tr>\n",
       "  </tbody>\n",
       "</table>\n",
       "</div>"
      ],
      "text/plain": [
       "    category_id\n",
       "24         5379\n",
       "10         3366\n",
       "26         2241\n",
       "23         1978\n",
       "25         1907\n",
       "22         1886\n",
       "28         1477\n",
       "1          1324\n",
       "17         1238\n",
       "27         1002\n",
       "15          593\n",
       "2           340\n",
       "20          305\n",
       "19          262\n",
       "29           48\n",
       "43           16"
      ]
     },
     "execution_count": 26,
     "metadata": {},
     "output_type": "execute_result"
    }
   ],
   "source": [
    "pd.DataFrame(df[\"category_id\"].value_counts())\n",
    "#value_counts() "
   ]
  },
  {
   "cell_type": "code",
   "execution_count": 27,
   "id": "f265d6f9",
   "metadata": {},
   "outputs": [
    {
     "data": {
      "text/html": [
       "<div>\n",
       "<style scoped>\n",
       "    .dataframe tbody tr th:only-of-type {\n",
       "        vertical-align: middle;\n",
       "    }\n",
       "\n",
       "    .dataframe tbody tr th {\n",
       "        vertical-align: top;\n",
       "    }\n",
       "\n",
       "    .dataframe thead th {\n",
       "        text-align: right;\n",
       "    }\n",
       "</style>\n",
       "<table border=\"1\" class=\"dataframe\">\n",
       "  <thead>\n",
       "    <tr style=\"text-align: right;\">\n",
       "      <th></th>\n",
       "      <th>category_id</th>\n",
       "    </tr>\n",
       "  </thead>\n",
       "  <tbody>\n",
       "    <tr>\n",
       "      <th>24</th>\n",
       "      <td>23.024570</td>\n",
       "    </tr>\n",
       "    <tr>\n",
       "      <th>10</th>\n",
       "      <td>14.408013</td>\n",
       "    </tr>\n",
       "    <tr>\n",
       "      <th>26</th>\n",
       "      <td>9.592501</td>\n",
       "    </tr>\n",
       "    <tr>\n",
       "      <th>23</th>\n",
       "      <td>8.466741</td>\n",
       "    </tr>\n",
       "    <tr>\n",
       "      <th>25</th>\n",
       "      <td>8.162829</td>\n",
       "    </tr>\n",
       "    <tr>\n",
       "      <th>22</th>\n",
       "      <td>8.072939</td>\n",
       "    </tr>\n",
       "    <tr>\n",
       "      <th>28</th>\n",
       "      <td>6.322233</td>\n",
       "    </tr>\n",
       "    <tr>\n",
       "      <th>1</th>\n",
       "      <td>5.667323</td>\n",
       "    </tr>\n",
       "    <tr>\n",
       "      <th>17</th>\n",
       "      <td>5.299204</td>\n",
       "    </tr>\n",
       "    <tr>\n",
       "      <th>27</th>\n",
       "      <td>4.289016</td>\n",
       "    </tr>\n",
       "    <tr>\n",
       "      <th>15</th>\n",
       "      <td>2.538310</td>\n",
       "    </tr>\n",
       "    <tr>\n",
       "      <th>2</th>\n",
       "      <td>1.455355</td>\n",
       "    </tr>\n",
       "    <tr>\n",
       "      <th>20</th>\n",
       "      <td>1.305539</td>\n",
       "    </tr>\n",
       "    <tr>\n",
       "      <th>19</th>\n",
       "      <td>1.121479</td>\n",
       "    </tr>\n",
       "    <tr>\n",
       "      <th>29</th>\n",
       "      <td>0.205462</td>\n",
       "    </tr>\n",
       "    <tr>\n",
       "      <th>43</th>\n",
       "      <td>0.068487</td>\n",
       "    </tr>\n",
       "  </tbody>\n",
       "</table>\n",
       "</div>"
      ],
      "text/plain": [
       "    category_id\n",
       "24    23.024570\n",
       "10    14.408013\n",
       "26     9.592501\n",
       "23     8.466741\n",
       "25     8.162829\n",
       "22     8.072939\n",
       "28     6.322233\n",
       "1      5.667323\n",
       "17     5.299204\n",
       "27     4.289016\n",
       "15     2.538310\n",
       "2      1.455355\n",
       "20     1.305539\n",
       "19     1.121479\n",
       "29     0.205462\n",
       "43     0.068487"
      ]
     },
     "execution_count": 27,
     "metadata": {},
     "output_type": "execute_result"
    }
   ],
   "source": [
    "pd.DataFrame(df[\"category_id\"].value_counts(normalize =True)*100)\n",
    "#normalize=True oranları getirir, 100 ile carparsam yuzdeligini vermis olur"
   ]
  },
  {
   "cell_type": "markdown",
   "id": "cee9a387-82f9-4575-bba6-55a843b72d20",
   "metadata": {},
   "source": [
    "#### Her Videonun Başlık Uzunluğunu içeren yeni bir sütün(title_length) ekleyin."
   ]
  },
  {
   "cell_type": "code",
   "execution_count": 28,
   "id": "7331685b-206f-4c66-807a-b7aa1562fef9",
   "metadata": {},
   "outputs": [],
   "source": [
    "df[\"title_length\"]=df[\"title\"].str.len()"
   ]
  },
  {
   "cell_type": "code",
   "execution_count": null,
   "id": "1343dacd",
   "metadata": {},
   "outputs": [],
   "source": [
    "# 2.yol\n",
    "df[\"title\"].transform(len)"
   ]
  },
  {
   "cell_type": "code",
   "execution_count": null,
   "id": "090b58a1",
   "metadata": {},
   "outputs": [],
   "source": [
    "# 3.yol\n",
    "df[\"title\"].apply(lambda x : len(x))"
   ]
  },
  {
   "cell_type": "code",
   "execution_count": 30,
   "id": "c382ccf9-08ba-473a-a0f9-1a571bea2e4d",
   "metadata": {},
   "outputs": [
    {
     "data": {
      "text/html": [
       "<div>\n",
       "<style scoped>\n",
       "    .dataframe tbody tr th:only-of-type {\n",
       "        vertical-align: middle;\n",
       "    }\n",
       "\n",
       "    .dataframe tbody tr th {\n",
       "        vertical-align: top;\n",
       "    }\n",
       "\n",
       "    .dataframe thead th {\n",
       "        text-align: right;\n",
       "    }\n",
       "</style>\n",
       "<table border=\"1\" class=\"dataframe\">\n",
       "  <thead>\n",
       "    <tr style=\"text-align: right;\">\n",
       "      <th></th>\n",
       "      <th>title</th>\n",
       "      <th>channel_title</th>\n",
       "      <th>category_id</th>\n",
       "      <th>tags</th>\n",
       "      <th>views</th>\n",
       "      <th>likes</th>\n",
       "      <th>dislikes</th>\n",
       "      <th>comment_count</th>\n",
       "      <th>description</th>\n",
       "      <th>title_length</th>\n",
       "    </tr>\n",
       "  </thead>\n",
       "  <tbody>\n",
       "    <tr>\n",
       "      <th>0</th>\n",
       "      <td>WE WANT TO TALK ABOUT OUR MARRIAGE</td>\n",
       "      <td>CaseyNeistat</td>\n",
       "      <td>22</td>\n",
       "      <td>SHANtell martin</td>\n",
       "      <td>748374</td>\n",
       "      <td>57527</td>\n",
       "      <td>2966</td>\n",
       "      <td>15954</td>\n",
       "      <td>SHANTELL'S CHANNEL - https://www.youtube.com/s...</td>\n",
       "      <td>34</td>\n",
       "    </tr>\n",
       "    <tr>\n",
       "      <th>1</th>\n",
       "      <td>The Trump Presidency: Last Week Tonight with J...</td>\n",
       "      <td>LastWeekTonight</td>\n",
       "      <td>24</td>\n",
       "      <td>last week tonight trump presidency|\"last week ...</td>\n",
       "      <td>2418783</td>\n",
       "      <td>97185</td>\n",
       "      <td>6146</td>\n",
       "      <td>12703</td>\n",
       "      <td>One year after the presidential election, John...</td>\n",
       "      <td>62</td>\n",
       "    </tr>\n",
       "    <tr>\n",
       "      <th>2</th>\n",
       "      <td>Racist Superman | Rudy Mancuso, King Bach &amp; Le...</td>\n",
       "      <td>Rudy Mancuso</td>\n",
       "      <td>23</td>\n",
       "      <td>racist superman|\"rudy\"|\"mancuso\"|\"king\"|\"bach\"...</td>\n",
       "      <td>3191434</td>\n",
       "      <td>146033</td>\n",
       "      <td>5339</td>\n",
       "      <td>8181</td>\n",
       "      <td>WATCH MY PREVIOUS VIDEO ▶ \\n\\nSUBSCRIBE ► http...</td>\n",
       "      <td>53</td>\n",
       "    </tr>\n",
       "    <tr>\n",
       "      <th>3</th>\n",
       "      <td>Nickelback Lyrics: Real or Fake?</td>\n",
       "      <td>Good Mythical Morning</td>\n",
       "      <td>24</td>\n",
       "      <td>rhett and link|\"gmm\"|\"good mythical morning\"|\"...</td>\n",
       "      <td>343168</td>\n",
       "      <td>10172</td>\n",
       "      <td>666</td>\n",
       "      <td>2146</td>\n",
       "      <td>Today we find out if Link is a Nickelback amat...</td>\n",
       "      <td>32</td>\n",
       "    </tr>\n",
       "    <tr>\n",
       "      <th>4</th>\n",
       "      <td>I Dare You: GOING BALD!?</td>\n",
       "      <td>nigahiga</td>\n",
       "      <td>24</td>\n",
       "      <td>ryan|\"higa\"|\"higatv\"|\"nigahiga\"|\"i dare you\"|\"...</td>\n",
       "      <td>2095731</td>\n",
       "      <td>132235</td>\n",
       "      <td>1989</td>\n",
       "      <td>17518</td>\n",
       "      <td>I know it's been a while since we did this sho...</td>\n",
       "      <td>24</td>\n",
       "    </tr>\n",
       "  </tbody>\n",
       "</table>\n",
       "</div>"
      ],
      "text/plain": [
       "                                               title          channel_title  \\\n",
       "0                 WE WANT TO TALK ABOUT OUR MARRIAGE           CaseyNeistat   \n",
       "1  The Trump Presidency: Last Week Tonight with J...        LastWeekTonight   \n",
       "2  Racist Superman | Rudy Mancuso, King Bach & Le...           Rudy Mancuso   \n",
       "3                   Nickelback Lyrics: Real or Fake?  Good Mythical Morning   \n",
       "4                           I Dare You: GOING BALD!?               nigahiga   \n",
       "\n",
       "   category_id                                               tags    views  \\\n",
       "0           22                                    SHANtell martin   748374   \n",
       "1           24  last week tonight trump presidency|\"last week ...  2418783   \n",
       "2           23  racist superman|\"rudy\"|\"mancuso\"|\"king\"|\"bach\"...  3191434   \n",
       "3           24  rhett and link|\"gmm\"|\"good mythical morning\"|\"...   343168   \n",
       "4           24  ryan|\"higa\"|\"higatv\"|\"nigahiga\"|\"i dare you\"|\"...  2095731   \n",
       "\n",
       "    likes  dislikes  comment_count  \\\n",
       "0   57527      2966          15954   \n",
       "1   97185      6146          12703   \n",
       "2  146033      5339           8181   \n",
       "3   10172       666           2146   \n",
       "4  132235      1989          17518   \n",
       "\n",
       "                                         description  title_length  \n",
       "0  SHANTELL'S CHANNEL - https://www.youtube.com/s...            34  \n",
       "1  One year after the presidential election, John...            62  \n",
       "2  WATCH MY PREVIOUS VIDEO ▶ \\n\\nSUBSCRIBE ► http...            53  \n",
       "3  Today we find out if Link is a Nickelback amat...            32  \n",
       "4  I know it's been a while since we did this sho...            24  "
      ]
     },
     "execution_count": 30,
     "metadata": {},
     "output_type": "execute_result"
    }
   ],
   "source": [
    "df.head()"
   ]
  },
  {
   "cell_type": "markdown",
   "id": "73eedf7d-7cb6-4b58-80a1-ca639ce8acc5",
   "metadata": {},
   "source": [
    "#### Her bir videoda kullanılan etiket sayısını hesaplayarak, oluşan değerleri yeni bir sütun(tag_count) olarak ekleyin ve max etiket sayısını bulun\n",
    "\n",
    "Not: Her bir etiket \"|\" işaretiyle ayrılmaktadır."
   ]
  },
  {
   "cell_type": "code",
   "execution_count": 32,
   "id": "be823030-31d9-4999-be4a-d41d71d3b02b",
   "metadata": {},
   "outputs": [
    {
     "data": {
      "text/plain": [
       "0                                        [SHANtell martin]\n",
       "1        [last week tonight trump presidency, \"last wee...\n",
       "2        [racist superman, \"rudy\", \"mancuso\", \"king\", \"...\n",
       "3        [rhett and link, \"gmm\", \"good mythical morning...\n",
       "4        [ryan, \"higa\", \"higatv\", \"nigahiga\", \"i dare y...\n",
       "                               ...                        \n",
       "23357    [thermal expansion, \"expansion joint\", \"therma...\n",
       "23358    [townsends, \"jas townsend and son\", \"reenactin...\n",
       "23359    [Losing sleep video, \"losing sleep album\", \"th...\n",
       "23360    [dog, \"cute\", \"adorable\", \"doggo\", \"doge\", \"ol...\n",
       "23361    [bbc, \"bbc news\", \"news\", \"black panther\", \"bl...\n",
       "Name: tags, Length: 23362, dtype: object"
      ]
     },
     "execution_count": 32,
     "metadata": {},
     "output_type": "execute_result"
    }
   ],
   "source": [
    "liste = df[\"tags\"].str.split(\"|\")\n",
    "liste"
   ]
  },
  {
   "cell_type": "code",
   "execution_count": 33,
   "id": "3639f0f2",
   "metadata": {},
   "outputs": [],
   "source": [
    "def tag(col):\n",
    "    liste = col.split(\"|\")\n",
    "    return len(liste)\n",
    "# yukarida tag adinda bir fonksiyon olusturduk.Bu fonk.bir sutundaki verileri | (or) bu isaretten ayirir ve bir list olrak dondurur\n",
    "df[\"tag_count\"] = df[\"tags\"].apply(tag) # burada istedigimiz sutuna olusturdugumuz fonksiyonu apply ile uyguladik"
   ]
  },
  {
   "cell_type": "code",
   "execution_count": null,
   "id": "a7429483",
   "metadata": {},
   "outputs": [],
   "source": [
    "# 2.yol\n",
    "df[\"tag_count\"] = df[\"tags\"].str.split(\"|\").str.len()\n",
    "df.head(2)"
   ]
  },
  {
   "cell_type": "code",
   "execution_count": 34,
   "id": "f4a36e3b-1fe2-4bb6-86c5-0b8e1b965afb",
   "metadata": {},
   "outputs": [
    {
     "data": {
      "text/html": [
       "<div>\n",
       "<style scoped>\n",
       "    .dataframe tbody tr th:only-of-type {\n",
       "        vertical-align: middle;\n",
       "    }\n",
       "\n",
       "    .dataframe tbody tr th {\n",
       "        vertical-align: top;\n",
       "    }\n",
       "\n",
       "    .dataframe thead th {\n",
       "        text-align: right;\n",
       "    }\n",
       "</style>\n",
       "<table border=\"1\" class=\"dataframe\">\n",
       "  <thead>\n",
       "    <tr style=\"text-align: right;\">\n",
       "      <th></th>\n",
       "      <th>title</th>\n",
       "      <th>channel_title</th>\n",
       "      <th>category_id</th>\n",
       "      <th>tags</th>\n",
       "      <th>views</th>\n",
       "      <th>likes</th>\n",
       "      <th>dislikes</th>\n",
       "      <th>comment_count</th>\n",
       "      <th>description</th>\n",
       "      <th>title_length</th>\n",
       "      <th>tag_count</th>\n",
       "    </tr>\n",
       "  </thead>\n",
       "  <tbody>\n",
       "    <tr>\n",
       "      <th>0</th>\n",
       "      <td>WE WANT TO TALK ABOUT OUR MARRIAGE</td>\n",
       "      <td>CaseyNeistat</td>\n",
       "      <td>22</td>\n",
       "      <td>SHANtell martin</td>\n",
       "      <td>748374</td>\n",
       "      <td>57527</td>\n",
       "      <td>2966</td>\n",
       "      <td>15954</td>\n",
       "      <td>SHANTELL'S CHANNEL - https://www.youtube.com/s...</td>\n",
       "      <td>34</td>\n",
       "      <td>1</td>\n",
       "    </tr>\n",
       "    <tr>\n",
       "      <th>1</th>\n",
       "      <td>The Trump Presidency: Last Week Tonight with J...</td>\n",
       "      <td>LastWeekTonight</td>\n",
       "      <td>24</td>\n",
       "      <td>last week tonight trump presidency|\"last week ...</td>\n",
       "      <td>2418783</td>\n",
       "      <td>97185</td>\n",
       "      <td>6146</td>\n",
       "      <td>12703</td>\n",
       "      <td>One year after the presidential election, John...</td>\n",
       "      <td>62</td>\n",
       "      <td>4</td>\n",
       "    </tr>\n",
       "    <tr>\n",
       "      <th>2</th>\n",
       "      <td>Racist Superman | Rudy Mancuso, King Bach &amp; Le...</td>\n",
       "      <td>Rudy Mancuso</td>\n",
       "      <td>23</td>\n",
       "      <td>racist superman|\"rudy\"|\"mancuso\"|\"king\"|\"bach\"...</td>\n",
       "      <td>3191434</td>\n",
       "      <td>146033</td>\n",
       "      <td>5339</td>\n",
       "      <td>8181</td>\n",
       "      <td>WATCH MY PREVIOUS VIDEO ▶ \\n\\nSUBSCRIBE ► http...</td>\n",
       "      <td>53</td>\n",
       "      <td>23</td>\n",
       "    </tr>\n",
       "    <tr>\n",
       "      <th>3</th>\n",
       "      <td>Nickelback Lyrics: Real or Fake?</td>\n",
       "      <td>Good Mythical Morning</td>\n",
       "      <td>24</td>\n",
       "      <td>rhett and link|\"gmm\"|\"good mythical morning\"|\"...</td>\n",
       "      <td>343168</td>\n",
       "      <td>10172</td>\n",
       "      <td>666</td>\n",
       "      <td>2146</td>\n",
       "      <td>Today we find out if Link is a Nickelback amat...</td>\n",
       "      <td>32</td>\n",
       "      <td>27</td>\n",
       "    </tr>\n",
       "    <tr>\n",
       "      <th>4</th>\n",
       "      <td>I Dare You: GOING BALD!?</td>\n",
       "      <td>nigahiga</td>\n",
       "      <td>24</td>\n",
       "      <td>ryan|\"higa\"|\"higatv\"|\"nigahiga\"|\"i dare you\"|\"...</td>\n",
       "      <td>2095731</td>\n",
       "      <td>132235</td>\n",
       "      <td>1989</td>\n",
       "      <td>17518</td>\n",
       "      <td>I know it's been a while since we did this sho...</td>\n",
       "      <td>24</td>\n",
       "      <td>14</td>\n",
       "    </tr>\n",
       "  </tbody>\n",
       "</table>\n",
       "</div>"
      ],
      "text/plain": [
       "                                               title          channel_title  \\\n",
       "0                 WE WANT TO TALK ABOUT OUR MARRIAGE           CaseyNeistat   \n",
       "1  The Trump Presidency: Last Week Tonight with J...        LastWeekTonight   \n",
       "2  Racist Superman | Rudy Mancuso, King Bach & Le...           Rudy Mancuso   \n",
       "3                   Nickelback Lyrics: Real or Fake?  Good Mythical Morning   \n",
       "4                           I Dare You: GOING BALD!?               nigahiga   \n",
       "\n",
       "   category_id                                               tags    views  \\\n",
       "0           22                                    SHANtell martin   748374   \n",
       "1           24  last week tonight trump presidency|\"last week ...  2418783   \n",
       "2           23  racist superman|\"rudy\"|\"mancuso\"|\"king\"|\"bach\"...  3191434   \n",
       "3           24  rhett and link|\"gmm\"|\"good mythical morning\"|\"...   343168   \n",
       "4           24  ryan|\"higa\"|\"higatv\"|\"nigahiga\"|\"i dare you\"|\"...  2095731   \n",
       "\n",
       "    likes  dislikes  comment_count  \\\n",
       "0   57527      2966          15954   \n",
       "1   97185      6146          12703   \n",
       "2  146033      5339           8181   \n",
       "3   10172       666           2146   \n",
       "4  132235      1989          17518   \n",
       "\n",
       "                                         description  title_length  tag_count  \n",
       "0  SHANTELL'S CHANNEL - https://www.youtube.com/s...            34          1  \n",
       "1  One year after the presidential election, John...            62          4  \n",
       "2  WATCH MY PREVIOUS VIDEO ▶ \\n\\nSUBSCRIBE ► http...            53         23  \n",
       "3  Today we find out if Link is a Nickelback amat...            32         27  \n",
       "4  I know it's been a while since we did this sho...            24         14  "
      ]
     },
     "execution_count": 34,
     "metadata": {},
     "output_type": "execute_result"
    }
   ],
   "source": [
    "df.head()"
   ]
  },
  {
   "cell_type": "code",
   "execution_count": 39,
   "id": "5e5ca882-d9e2-4131-92f9-fc9eff05caab",
   "metadata": {},
   "outputs": [
    {
     "data": {
      "text/plain": [
       "69"
      ]
     },
     "execution_count": 39,
     "metadata": {},
     "output_type": "execute_result"
    }
   ],
   "source": [
    "# en fazla kaç etiket var\n",
    "df[\"tag_count\"].max()"
   ]
  },
  {
   "cell_type": "code",
   "execution_count": 40,
   "id": "8ffcb9a8-b83e-4c88-a9de-09638d4cb165",
   "metadata": {},
   "outputs": [
    {
     "data": {
      "text/plain": [
       "4"
      ]
     },
     "execution_count": 40,
     "metadata": {},
     "output_type": "execute_result"
    }
   ],
   "source": [
    "# kaç tane max etikete sahip satır var\n",
    "len(df[df[\"tag_count\"]==df[\"tag_count\"].max()])"
   ]
  },
  {
   "cell_type": "code",
   "execution_count": 42,
   "id": "7657a145-b118-498c-8d3a-b1cbca5cfdef",
   "metadata": {
    "tags": []
   },
   "outputs": [
    {
     "data": {
      "text/plain": [
       "'Marco Reps'"
      ]
     },
     "execution_count": 42,
     "metadata": {},
     "output_type": "execute_result"
    }
   ],
   "source": [
    "# max etikete sahip olan kanal ismi \n",
    "df[df[\"tag_count\"]==df[\"tag_count\"].max()][\"channel_title\"].iloc[0]"
   ]
  },
  {
   "cell_type": "markdown",
   "id": "f95ffa7a-a07b-4dd2-8f68-38faddf56ad9",
   "metadata": {},
   "source": [
    "#### category_id sütunu incele"
   ]
  },
  {
   "cell_type": "code",
   "execution_count": 44,
   "id": "c944ca42-0c83-4c6f-ae42-bf9b3cc5a1c1",
   "metadata": {},
   "outputs": [
    {
     "data": {
      "text/plain": [
       "24"
      ]
     },
     "execution_count": 44,
     "metadata": {},
     "output_type": "execute_result"
    }
   ],
   "source": [
    "# en çok tekrar eden kategori\n",
    "df[\"category_id\"].mode().iloc[0]"
   ]
  },
  {
   "cell_type": "code",
   "execution_count": 50,
   "id": "71d99488-e4b7-4913-87b3-523e9bddf368",
   "metadata": {},
   "outputs": [
    {
     "data": {
      "text/plain": [
       "24    23.024570\n",
       "10    14.408013\n",
       "26     9.592501\n",
       "23     8.466741\n",
       "25     8.162829\n",
       "22     8.072939\n",
       "28     6.322233\n",
       "1      5.667323\n",
       "17     5.299204\n",
       "27     4.289016\n",
       "15     2.538310\n",
       "2      1.455355\n",
       "20     1.305539\n",
       "19     1.121479\n",
       "29     0.205462\n",
       "43     0.068487\n",
       "Name: category_id, dtype: float64"
      ]
     },
     "execution_count": 50,
     "metadata": {},
     "output_type": "execute_result"
    }
   ],
   "source": [
    "# category_id unique değereri\n",
    "df[\"category_id\"].value_counts(normalize=True)*100"
   ]
  },
  {
   "cell_type": "code",
   "execution_count": 51,
   "id": "d2d948eb-1b83-449a-b766-09dc20dbcca2",
   "metadata": {},
   "outputs": [
    {
     "data": {
      "text/plain": [
       "<Axes: >"
      ]
     },
     "execution_count": 51,
     "metadata": {},
     "output_type": "execute_result"
    },
    {
     "data": {
      "image/png": "[encoded data removed]",
      "text/plain": [
       "<Figure size 640x480 with 1 Axes>"
      ]
     },
     "metadata": {},
     "output_type": "display_data"
    }
   ],
   "source": [
    "# category_id grafiksel gösterim\n",
    "df[\"category_id\"].value_counts().plot(kind=\"bar\")\n",
    "# bu grafik sagdan carpik bir grafik"
   ]
  },
  {
   "cell_type": "code",
   "execution_count": 52,
   "id": "46349f87",
   "metadata": {},
   "outputs": [
    {
     "data": {
      "text/plain": [
       "<Axes: ylabel='category_id'>"
      ]
     },
     "execution_count": 52,
     "metadata": {},
     "output_type": "execute_result"
    },
    {
     "data": {
      "image/png": "[encoded data removed]",
      "text/plain": [
       "<Figure size 640x480 with 1 Axes>"
      ]
     },
     "metadata": {},
     "output_type": "display_data"
    }
   ],
   "source": [
    "df[\"category_id\"].value_counts().plot(kind=\"pie\")"
   ]
  },
  {
   "cell_type": "markdown",
   "id": "a0be48fb-b626-4995-afa0-8398b7ee6798",
   "metadata": {},
   "source": [
    "#### Videoları Beğeni Oranı en yüksek olandan en düşüğe doğru sıralayınız ve beğeni oranını yeni sütun(likes_dislikes) olarak ekleyin (Dikkat Zor!!!!)"
   ]
  },
  {
   "cell_type": "code",
   "execution_count": 53,
   "id": "0ac78039-aa57-416a-84c2-a3cfeeaabeee",
   "metadata": {},
   "outputs": [
    {
     "data": {
      "text/html": [
       "<div>\n",
       "<style scoped>\n",
       "    .dataframe tbody tr th:only-of-type {\n",
       "        vertical-align: middle;\n",
       "    }\n",
       "\n",
       "    .dataframe tbody tr th {\n",
       "        vertical-align: top;\n",
       "    }\n",
       "\n",
       "    .dataframe thead th {\n",
       "        text-align: right;\n",
       "    }\n",
       "</style>\n",
       "<table border=\"1\" class=\"dataframe\">\n",
       "  <thead>\n",
       "    <tr style=\"text-align: right;\">\n",
       "      <th></th>\n",
       "      <th>title</th>\n",
       "      <th>channel_title</th>\n",
       "      <th>category_id</th>\n",
       "      <th>tags</th>\n",
       "      <th>views</th>\n",
       "      <th>likes</th>\n",
       "      <th>dislikes</th>\n",
       "      <th>comment_count</th>\n",
       "      <th>description</th>\n",
       "      <th>title_length</th>\n",
       "      <th>tag_count</th>\n",
       "    </tr>\n",
       "  </thead>\n",
       "  <tbody>\n",
       "    <tr>\n",
       "      <th>0</th>\n",
       "      <td>WE WANT TO TALK ABOUT OUR MARRIAGE</td>\n",
       "      <td>CaseyNeistat</td>\n",
       "      <td>22</td>\n",
       "      <td>SHANtell martin</td>\n",
       "      <td>748374</td>\n",
       "      <td>57527</td>\n",
       "      <td>2966</td>\n",
       "      <td>15954</td>\n",
       "      <td>SHANTELL'S CHANNEL - https://www.youtube.com/s...</td>\n",
       "      <td>34</td>\n",
       "      <td>1</td>\n",
       "    </tr>\n",
       "    <tr>\n",
       "      <th>1</th>\n",
       "      <td>The Trump Presidency: Last Week Tonight with J...</td>\n",
       "      <td>LastWeekTonight</td>\n",
       "      <td>24</td>\n",
       "      <td>last week tonight trump presidency|\"last week ...</td>\n",
       "      <td>2418783</td>\n",
       "      <td>97185</td>\n",
       "      <td>6146</td>\n",
       "      <td>12703</td>\n",
       "      <td>One year after the presidential election, John...</td>\n",
       "      <td>62</td>\n",
       "      <td>4</td>\n",
       "    </tr>\n",
       "  </tbody>\n",
       "</table>\n",
       "</div>"
      ],
      "text/plain": [
       "                                               title    channel_title  \\\n",
       "0                 WE WANT TO TALK ABOUT OUR MARRIAGE     CaseyNeistat   \n",
       "1  The Trump Presidency: Last Week Tonight with J...  LastWeekTonight   \n",
       "\n",
       "   category_id                                               tags    views  \\\n",
       "0           22                                    SHANtell martin   748374   \n",
       "1           24  last week tonight trump presidency|\"last week ...  2418783   \n",
       "\n",
       "   likes  dislikes  comment_count  \\\n",
       "0  57527      2966          15954   \n",
       "1  97185      6146          12703   \n",
       "\n",
       "                                         description  title_length  tag_count  \n",
       "0  SHANTELL'S CHANNEL - https://www.youtube.com/s...            34          1  \n",
       "1  One year after the presidential election, John...            62          4  "
      ]
     },
     "execution_count": 53,
     "metadata": {},
     "output_type": "execute_result"
    }
   ],
   "source": [
    "df.head(2)"
   ]
  },
  {
   "cell_type": "code",
   "execution_count": 54,
   "id": "17fdf554",
   "metadata": {},
   "outputs": [],
   "source": [
    "def oran(likes,dislikes):\n",
    "    liste_1 = df[\"likes\"].values.tolist()\n",
    "    liste_2 = df[\"dislikes\"].values.tolist()\n",
    "    like_ratio =[]\n",
    "    for i, j in zip(liste_1,liste_2):\n",
    "        if i+j ==0 :#burada toplam 0 olursa payda 0 olacagindan listemize 0 eklettik\n",
    "            like_ratio.append(0)\n",
    "        else :\n",
    "            like_ratio.append(i/(i+j))\n",
    "    return like_ratio\n",
    "df[\"likes_ratio\"] = oran(df[\"likes\"],df[\"dislikes\"])\n",
    "#likes sutunundaki valueslari aliyor, istedigimiz listeye(liste_1) liste formatinda atiyor\n",
    "#liste_1 ve liste_2'yi birlestirmek icin zip diyorum cagirirken\n",
    "#bolum islemi yapacagimiz icin 0'li olanlari ayri degerlendiriyorum\n",
    "#likes_ratio olarak bos bir liste tanimlayip, oranlari ona atiyorum\n",
    "#sonra hesaplattigim bu orani, df sutunu haline getiriyorum"
   ]
  },
  {
   "cell_type": "code",
   "execution_count": 55,
   "id": "f4098823",
   "metadata": {},
   "outputs": [
    {
     "data": {
      "text/html": [
       "<div>\n",
       "<style scoped>\n",
       "    .dataframe tbody tr th:only-of-type {\n",
       "        vertical-align: middle;\n",
       "    }\n",
       "\n",
       "    .dataframe tbody tr th {\n",
       "        vertical-align: top;\n",
       "    }\n",
       "\n",
       "    .dataframe thead th {\n",
       "        text-align: right;\n",
       "    }\n",
       "</style>\n",
       "<table border=\"1\" class=\"dataframe\">\n",
       "  <thead>\n",
       "    <tr style=\"text-align: right;\">\n",
       "      <th></th>\n",
       "      <th>title</th>\n",
       "      <th>channel_title</th>\n",
       "      <th>category_id</th>\n",
       "      <th>tags</th>\n",
       "      <th>views</th>\n",
       "      <th>likes</th>\n",
       "      <th>dislikes</th>\n",
       "      <th>comment_count</th>\n",
       "      <th>description</th>\n",
       "      <th>title_length</th>\n",
       "      <th>tag_count</th>\n",
       "      <th>likes_ratio</th>\n",
       "    </tr>\n",
       "  </thead>\n",
       "  <tbody>\n",
       "    <tr>\n",
       "      <th>0</th>\n",
       "      <td>WE WANT TO TALK ABOUT OUR MARRIAGE</td>\n",
       "      <td>CaseyNeistat</td>\n",
       "      <td>22</td>\n",
       "      <td>SHANtell martin</td>\n",
       "      <td>748374</td>\n",
       "      <td>57527</td>\n",
       "      <td>2966</td>\n",
       "      <td>15954</td>\n",
       "      <td>SHANTELL'S CHANNEL - https://www.youtube.com/s...</td>\n",
       "      <td>34</td>\n",
       "      <td>1</td>\n",
       "      <td>0.950970</td>\n",
       "    </tr>\n",
       "    <tr>\n",
       "      <th>1</th>\n",
       "      <td>The Trump Presidency: Last Week Tonight with J...</td>\n",
       "      <td>LastWeekTonight</td>\n",
       "      <td>24</td>\n",
       "      <td>last week tonight trump presidency|\"last week ...</td>\n",
       "      <td>2418783</td>\n",
       "      <td>97185</td>\n",
       "      <td>6146</td>\n",
       "      <td>12703</td>\n",
       "      <td>One year after the presidential election, John...</td>\n",
       "      <td>62</td>\n",
       "      <td>4</td>\n",
       "      <td>0.940521</td>\n",
       "    </tr>\n",
       "  </tbody>\n",
       "</table>\n",
       "</div>"
      ],
      "text/plain": [
       "                                               title    channel_title  \\\n",
       "0                 WE WANT TO TALK ABOUT OUR MARRIAGE     CaseyNeistat   \n",
       "1  The Trump Presidency: Last Week Tonight with J...  LastWeekTonight   \n",
       "\n",
       "   category_id                                               tags    views  \\\n",
       "0           22                                    SHANtell martin   748374   \n",
       "1           24  last week tonight trump presidency|\"last week ...  2418783   \n",
       "\n",
       "   likes  dislikes  comment_count  \\\n",
       "0  57527      2966          15954   \n",
       "1  97185      6146          12703   \n",
       "\n",
       "                                         description  title_length  tag_count  \\\n",
       "0  SHANTELL'S CHANNEL - https://www.youtube.com/s...            34          1   \n",
       "1  One year after the presidential election, John...            62          4   \n",
       "\n",
       "   likes_ratio  \n",
       "0     0.950970  \n",
       "1     0.940521  "
      ]
     },
     "execution_count": 55,
     "metadata": {},
     "output_type": "execute_result"
    }
   ],
   "source": [
    "df.head(2)"
   ]
  },
  {
   "cell_type": "code",
   "execution_count": 57,
   "id": "143cd636",
   "metadata": {},
   "outputs": [
    {
     "data": {
      "text/plain": [
       "8694     1.0\n",
       "16100    1.0\n",
       "921      1.0\n",
       "16369    1.0\n",
       "147      1.0\n",
       "        ... \n",
       "15575    0.0\n",
       "4752     0.0\n",
       "16590    0.0\n",
       "15510    0.0\n",
       "22020    0.0\n",
       "Name: likes_ratio, Length: 23362, dtype: float64"
      ]
     },
     "execution_count": 57,
     "metadata": {},
     "output_type": "execute_result"
    }
   ],
   "source": [
    "df[\"likes_ratio\"].sort_values(ascending=False)"
   ]
  },
  {
   "cell_type": "code",
   "execution_count": 91,
   "id": "f9886ce5-06ab-4fb9-8ead-d5f198e78861",
   "metadata": {},
   "outputs": [],
   "source": [
    "# likes.iteritems() yerine .values.tolist() kullanımı daha pratik amaç sütundaki veriyi listeye çekmekti\n",
    "\n",
    "'''\n",
    "def likesAnddislikes(likes,dislikes):\n",
    "    \n",
    "    likesList1 = youtube['likes'].values.tolist() ---------> likes.iteritems() yerine soldaki yöntemde kullanılabilir\n",
    "                                                             .values.tolist() ile daha pratik\n",
    "    dislikesList1 = youtube['dislikes'].values.tolist()\n",
    "    \n",
    "    \n",
    "    likeanddislikeratio = []\n",
    "    for like,dislike in zip(likesList1,dislikesList1): \n",
    "        if like + dislike == 0:                 # 0 olan satırlar vardı onlar direk oran olarak sıfır atandı\n",
    "            likeanddislikeratio.append(0)\n",
    "        else:\n",
    "            likeanddislikeratio.append(like/(like + dislike))\n",
    "    return likeanddislikeratio\n",
    "        \n",
    "youtube[\"likes_dislikes\"] = likesAnddislikes(youtube[\"likes\"],youtube[\"dislikes\"])\n",
    "\n",
    "'''"
   ]
  },
  {
   "cell_type": "code",
   "execution_count": null,
   "id": "d0a28c5c",
   "metadata": {},
   "outputs": [],
   "source": [
    "# dikkat edilmesi gereken nokta oran üzerinden sıralama!!!!!\n",
    "def likesAnddislikes(likes,dislikes):\n",
    "    likesList = []\n",
    "    dislikesList = []\n",
    "    \n",
    "    for key,value in likes.iteritems():        # likes.iteritems() = Iterate over (column name, Series) pairs.\n",
    "        likesList.append(value)                # likes sayıları likesList'e atanmış oldu\n",
    "    \n",
    "    for key,value in dislikes.iteritems():\n",
    "        dislikesList.append(value)\n",
    "    \n",
    "    likeanddislikeratio = []\n",
    "    for like,dislike in zip(likesList,dislikesList): \n",
    "        if like + dislike == 0:                 # 0 olan satırlar vardı onlar direk oran olarak sıfır atandı\n",
    "            likeanddislikeratio.append(0)\n",
    "        else:\n",
    "            likeanddislikeratio.append(like/(like + dislike))\n",
    "    return likeanddislikeratio\n",
    "        \n",
    "youtube[\"likes_dislikes\"] = likesAnddislikes(youtube[\"likes\"],youtube[\"dislikes\"])"
   ]
  }
 ],
 "metadata": {
  "celltoolbar": "Raw Cell Format",
  "hide_input": false,
  "kernelspec": {
   "display_name": "Python 3 (ipykernel)",
   "language": "python",
   "name": "python3"
  },
  "language_info": {
   "codemirror_mode": {
    "name": "ipython",
    "version": 3
   },
   "file_extension": ".py",
   "mimetype": "text/x-python",
   "name": "python",
   "nbconvert_exporter": "python",
   "pygments_lexer": "ipython3",
   "version": "3.10.9"
  },
  "nbTranslate": {
   "displayLangs": [
    "*"
   ],
   "hotkey": "alt-t",
   "langInMainMenu": true,
   "sourceLang": "en",
   "targetLang": "fr",
   "useGoogleTranslate": true
  },
  "toc": {
   "base_numbering": 1,
   "nav_menu": {},
   "number_sections": true,
   "sideBar": true,
   "skip_h1_title": false,
   "title_cell": "Table of Contents",
   "title_sidebar": "Contents",
   "toc_cell": false,
   "toc_position": {},
   "toc_section_display": true,
   "toc_window_display": false
  },
  "varInspector": {
   "cols": {
    "lenName": 16,
    "lenType": 16,
    "lenVar": 40
   },
   "kernels_config": {
    "python": {
     "delete_cmd_postfix": "",
     "delete_cmd_prefix": "del ",
     "library": "var_list.py",
     "varRefreshCmd": "print(var_dic_list())"
    },
    "r": {
     "delete_cmd_postfix": ") ",
     "delete_cmd_prefix": "rm(",
     "library": "var_list.r",
     "varRefreshCmd": "cat(var_dic_list()) "
    }
   },
   "types_to_exclude": [
    "module",
    "function",
    "builtin_function_or_method",
    "instance",
    "_Feature"
   ],
   "window_display": false
  }
 },
 "nbformat": 4,
 "nbformat_minor": 5
}
