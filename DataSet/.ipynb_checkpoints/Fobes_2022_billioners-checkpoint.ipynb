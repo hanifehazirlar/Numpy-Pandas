{
 "cells": [
  {
   "cell_type": "markdown",
   "id": "3d8802d9",
   "metadata": {},
   "source": [
    "# Fobes_2022_billioners\n"
   ]
  },
  {
   "cell_type": "code",
   "execution_count": 1,
   "id": "4c8cc789-c213-4bbc-8e80-6e472f5e4f38",
   "metadata": {
    "ExecuteTime": {
     "end_time": "2023-05-01T22:11:31.900958Z",
     "start_time": "2023-05-01T22:11:29.034631Z"
    }
   },
   "outputs": [],
   "source": [
    "import seaborn as sns\n",
    "import matplotlib.pyplot as plt\n",
    "import pandas as pd\n",
    "import numpy as np\n",
    "\n",
    "#import warnings;\n",
    "#warnings.filterwarnings(\"ignore\")"
   ]
  },
  {
   "cell_type": "code",
   "execution_count": 3,
   "id": "641cdd10-e962-4841-b186-771fe97e8755",
   "metadata": {
    "ExecuteTime": {
     "end_time": "2023-05-01T22:12:11.913296Z",
     "start_time": "2023-05-01T22:12:11.847702Z"
    }
   },
   "outputs": [
    {
     "data": {
      "text/html": [
       "<div>\n",
       "<style scoped>\n",
       "    .dataframe tbody tr th:only-of-type {\n",
       "        vertical-align: middle;\n",
       "    }\n",
       "\n",
       "    .dataframe tbody tr th {\n",
       "        vertical-align: top;\n",
       "    }\n",
       "\n",
       "    .dataframe thead th {\n",
       "        text-align: right;\n",
       "    }\n",
       "</style>\n",
       "<table border=\"1\" class=\"dataframe\">\n",
       "  <thead>\n",
       "    <tr style=\"text-align: right;\">\n",
       "      <th></th>\n",
       "      <th>rank</th>\n",
       "      <th>personName</th>\n",
       "      <th>age</th>\n",
       "      <th>finalWorth</th>\n",
       "      <th>year</th>\n",
       "      <th>month</th>\n",
       "      <th>category</th>\n",
       "      <th>source</th>\n",
       "      <th>country</th>\n",
       "      <th>state</th>\n",
       "      <th>...</th>\n",
       "      <th>organization</th>\n",
       "      <th>selfMade</th>\n",
       "      <th>gender</th>\n",
       "      <th>birthDate</th>\n",
       "      <th>title</th>\n",
       "      <th>philanthropyScore</th>\n",
       "      <th>residenceMsa</th>\n",
       "      <th>numberOfSiblings</th>\n",
       "      <th>bio</th>\n",
       "      <th>about</th>\n",
       "    </tr>\n",
       "  </thead>\n",
       "  <tbody>\n",
       "    <tr>\n",
       "      <th>0</th>\n",
       "      <td>1</td>\n",
       "      <td>Elon Musk</td>\n",
       "      <td>50.0</td>\n",
       "      <td>219000.0</td>\n",
       "      <td>2022</td>\n",
       "      <td>4</td>\n",
       "      <td>Automotive</td>\n",
       "      <td>Tesla, SpaceX</td>\n",
       "      <td>United States</td>\n",
       "      <td>Texas</td>\n",
       "      <td>...</td>\n",
       "      <td>Tesla</td>\n",
       "      <td>True</td>\n",
       "      <td>M</td>\n",
       "      <td>1971-06-28</td>\n",
       "      <td>CEO</td>\n",
       "      <td>1.0</td>\n",
       "      <td>NaN</td>\n",
       "      <td>NaN</td>\n",
       "      <td>Elon Musk is working to revolutionize transpor...</td>\n",
       "      <td>Musk was accepted to a graduate program at Sta...</td>\n",
       "    </tr>\n",
       "    <tr>\n",
       "      <th>1</th>\n",
       "      <td>2</td>\n",
       "      <td>Jeff Bezos</td>\n",
       "      <td>58.0</td>\n",
       "      <td>171000.0</td>\n",
       "      <td>2022</td>\n",
       "      <td>4</td>\n",
       "      <td>Technology</td>\n",
       "      <td>Amazon</td>\n",
       "      <td>United States</td>\n",
       "      <td>Washington</td>\n",
       "      <td>...</td>\n",
       "      <td>Amazon</td>\n",
       "      <td>True</td>\n",
       "      <td>M</td>\n",
       "      <td>1964-01-12</td>\n",
       "      <td>Entrepreneur</td>\n",
       "      <td>1.0</td>\n",
       "      <td>Seattle-Tacoma-Bellevue, WA</td>\n",
       "      <td>NaN</td>\n",
       "      <td>Jeff Bezos founded e-commerce giant Amazon in ...</td>\n",
       "      <td>Growing up, Jeff Bezos worked summers on his g...</td>\n",
       "    </tr>\n",
       "    <tr>\n",
       "      <th>2</th>\n",
       "      <td>3</td>\n",
       "      <td>Bernard Arnault &amp; family</td>\n",
       "      <td>73.0</td>\n",
       "      <td>158000.0</td>\n",
       "      <td>2022</td>\n",
       "      <td>4</td>\n",
       "      <td>Fashion &amp; Retail</td>\n",
       "      <td>LVMH</td>\n",
       "      <td>France</td>\n",
       "      <td>NaN</td>\n",
       "      <td>...</td>\n",
       "      <td>LVMH Moët Hennessy Louis Vuitton</td>\n",
       "      <td>False</td>\n",
       "      <td>M</td>\n",
       "      <td>1949-03-05</td>\n",
       "      <td>Chairman and CEO</td>\n",
       "      <td>NaN</td>\n",
       "      <td>NaN</td>\n",
       "      <td>NaN</td>\n",
       "      <td>Bernard Arnault oversees the LVMH empire of so...</td>\n",
       "      <td>Arnault apparently wooed his wife, Helene Merc...</td>\n",
       "    </tr>\n",
       "    <tr>\n",
       "      <th>3</th>\n",
       "      <td>4</td>\n",
       "      <td>Bill Gates</td>\n",
       "      <td>66.0</td>\n",
       "      <td>129000.0</td>\n",
       "      <td>2022</td>\n",
       "      <td>4</td>\n",
       "      <td>Technology</td>\n",
       "      <td>Microsoft</td>\n",
       "      <td>United States</td>\n",
       "      <td>Washington</td>\n",
       "      <td>...</td>\n",
       "      <td>Bill &amp; Melinda Gates Foundation</td>\n",
       "      <td>True</td>\n",
       "      <td>M</td>\n",
       "      <td>1955-10-28</td>\n",
       "      <td>Cofounder</td>\n",
       "      <td>4.0</td>\n",
       "      <td>Seattle-Tacoma-Bellevue, WA</td>\n",
       "      <td>NaN</td>\n",
       "      <td>Bill Gates turned his fortune from software fi...</td>\n",
       "      <td>When Gates was a kid, he spent so much time re...</td>\n",
       "    </tr>\n",
       "    <tr>\n",
       "      <th>4</th>\n",
       "      <td>5</td>\n",
       "      <td>Warren Buffett</td>\n",
       "      <td>91.0</td>\n",
       "      <td>118000.0</td>\n",
       "      <td>2022</td>\n",
       "      <td>4</td>\n",
       "      <td>Finance &amp; Investments</td>\n",
       "      <td>Berkshire Hathaway</td>\n",
       "      <td>United States</td>\n",
       "      <td>Nebraska</td>\n",
       "      <td>...</td>\n",
       "      <td>Berkshire Hathaway</td>\n",
       "      <td>True</td>\n",
       "      <td>M</td>\n",
       "      <td>1930-08-30</td>\n",
       "      <td>CEO</td>\n",
       "      <td>5.0</td>\n",
       "      <td>Omaha, NE</td>\n",
       "      <td>NaN</td>\n",
       "      <td>Known as the \"Oracle of Omaha,\" Warren Buffett...</td>\n",
       "      <td>Buffett still lives in the same Omaha, Nebrask...</td>\n",
       "    </tr>\n",
       "  </tbody>\n",
       "</table>\n",
       "<p>5 rows × 22 columns</p>\n",
       "</div>"
      ],
      "text/plain": [
       "   rank                personName   age  finalWorth  year  month  \\\n",
       "0     1                 Elon Musk  50.0    219000.0  2022      4   \n",
       "1     2                Jeff Bezos  58.0    171000.0  2022      4   \n",
       "2     3  Bernard Arnault & family  73.0    158000.0  2022      4   \n",
       "3     4                Bill Gates  66.0    129000.0  2022      4   \n",
       "4     5            Warren Buffett  91.0    118000.0  2022      4   \n",
       "\n",
       "                category              source        country       state  ...  \\\n",
       "0             Automotive       Tesla, SpaceX  United States       Texas  ...   \n",
       "1             Technology              Amazon  United States  Washington  ...   \n",
       "2       Fashion & Retail                LVMH         France         NaN  ...   \n",
       "3             Technology           Microsoft  United States  Washington  ...   \n",
       "4  Finance & Investments  Berkshire Hathaway  United States    Nebraska  ...   \n",
       "\n",
       "                       organization selfMade gender   birthDate  \\\n",
       "0                             Tesla     True      M  1971-06-28   \n",
       "1                            Amazon     True      M  1964-01-12   \n",
       "2  LVMH Moët Hennessy Louis Vuitton    False      M  1949-03-05   \n",
       "3   Bill & Melinda Gates Foundation     True      M  1955-10-28   \n",
       "4                Berkshire Hathaway     True      M  1930-08-30   \n",
       "\n",
       "              title philanthropyScore                 residenceMsa  \\\n",
       "0               CEO               1.0                          NaN   \n",
       "1      Entrepreneur               1.0  Seattle-Tacoma-Bellevue, WA   \n",
       "2  Chairman and CEO               NaN                          NaN   \n",
       "3         Cofounder               4.0  Seattle-Tacoma-Bellevue, WA   \n",
       "4               CEO               5.0                    Omaha, NE   \n",
       "\n",
       "   numberOfSiblings                                                bio  \\\n",
       "0               NaN  Elon Musk is working to revolutionize transpor...   \n",
       "1               NaN  Jeff Bezos founded e-commerce giant Amazon in ...   \n",
       "2               NaN  Bernard Arnault oversees the LVMH empire of so...   \n",
       "3               NaN  Bill Gates turned his fortune from software fi...   \n",
       "4               NaN  Known as the \"Oracle of Omaha,\" Warren Buffett...   \n",
       "\n",
       "                                               about  \n",
       "0  Musk was accepted to a graduate program at Sta...  \n",
       "1  Growing up, Jeff Bezos worked summers on his g...  \n",
       "2  Arnault apparently wooed his wife, Helene Merc...  \n",
       "3  When Gates was a kid, he spent so much time re...  \n",
       "4  Buffett still lives in the same Omaha, Nebrask...  \n",
       "\n",
       "[5 rows x 22 columns]"
      ]
     },
     "execution_count": 3,
     "metadata": {},
     "output_type": "execute_result"
    }
   ],
   "source": [
    "df = pd.read_csv(\"forbes_2022_billionaires.csv\")\n",
    "df.head()"
   ]
  },
  {
   "cell_type": "code",
   "execution_count": 4,
   "id": "8a906f41-54dc-4f05-9db5-bbb1d9b04218",
   "metadata": {
    "ExecuteTime": {
     "end_time": "2023-05-01T22:12:17.189462Z",
     "start_time": "2023-05-01T22:12:17.157840Z"
    }
   },
   "outputs": [
    {
     "name": "stdout",
     "output_type": "stream",
     "text": [
      "<class 'pandas.core.frame.DataFrame'>\n",
      "RangeIndex: 2668 entries, 0 to 2667\n",
      "Data columns (total 22 columns):\n",
      " #   Column                Non-Null Count  Dtype  \n",
      "---  ------                --------------  -----  \n",
      " 0   rank                  2668 non-null   int64  \n",
      " 1   personName            2668 non-null   object \n",
      " 2   age                   2582 non-null   float64\n",
      " 3   finalWorth            2668 non-null   float64\n",
      " 4   year                  2668 non-null   int64  \n",
      " 5   month                 2668 non-null   int64  \n",
      " 6   category              2668 non-null   object \n",
      " 7   source                2668 non-null   object \n",
      " 8   country               2655 non-null   object \n",
      " 9   state                 748 non-null    object \n",
      " 10  city                  2624 non-null   object \n",
      " 11  countryOfCitizenship  2668 non-null   object \n",
      " 12  organization          352 non-null    object \n",
      " 13  selfMade              2668 non-null   bool   \n",
      " 14  gender                2652 non-null   object \n",
      " 15  birthDate             2569 non-null   object \n",
      " 16  title                 401 non-null    object \n",
      " 17  philanthropyScore     396 non-null    float64\n",
      " 18  residenceMsa          639 non-null    object \n",
      " 19  numberOfSiblings      127 non-null    float64\n",
      " 20  bio                   2668 non-null   object \n",
      " 21  about                 1562 non-null   object \n",
      "dtypes: bool(1), float64(4), int64(3), object(14)\n",
      "memory usage: 440.4+ KB\n"
     ]
    }
   ],
   "source": [
    "df.info()"
   ]
  },
  {
   "cell_type": "code",
   "execution_count": 6,
   "id": "0cdb7db1",
   "metadata": {
    "ExecuteTime": {
     "end_time": "2023-05-01T22:14:07.013765Z",
     "start_time": "2023-05-01T22:14:07.007763Z"
    }
   },
   "outputs": [
    {
     "data": {
      "text/plain": [
       "(2668, 22)"
      ]
     },
     "execution_count": 6,
     "metadata": {},
     "output_type": "execute_result"
    }
   ],
   "source": [
    "df.shape"
   ]
  },
  {
   "cell_type": "code",
   "execution_count": null,
   "id": "13f0b08b",
   "metadata": {},
   "outputs": [],
   "source": []
  },
  {
   "cell_type": "code",
   "execution_count": 5,
   "id": "5fcab2eb-dfa9-4979-ae42-d5eada0bbfd2",
   "metadata": {
    "ExecuteTime": {
     "end_time": "2023-05-01T22:12:22.110410Z",
     "start_time": "2023-05-01T22:12:22.102721Z"
    }
   },
   "outputs": [
    {
     "data": {
      "text/plain": [
       "Index(['rank', 'personName', 'age', 'finalWorth', 'year', 'month', 'category',\n",
       "       'source', 'country', 'state', 'city', 'countryOfCitizenship',\n",
       "       'organization', 'selfMade', 'gender', 'birthDate', 'title',\n",
       "       'philanthropyScore', 'residenceMsa', 'numberOfSiblings', 'bio',\n",
       "       'about'],\n",
       "      dtype='object')"
      ]
     },
     "execution_count": 5,
     "metadata": {},
     "output_type": "execute_result"
    }
   ],
   "source": [
    "df.columns"
   ]
  },
  {
   "cell_type": "code",
   "execution_count": 7,
   "id": "31a1ce8a-49ac-47e7-a92c-63d24f9a4a27",
   "metadata": {
    "ExecuteTime": {
     "end_time": "2023-05-01T22:14:50.945983Z",
     "start_time": "2023-05-01T22:14:50.931789Z"
    }
   },
   "outputs": [
    {
     "data": {
      "text/html": [
       "<div>\n",
       "<style scoped>\n",
       "    .dataframe tbody tr th:only-of-type {\n",
       "        vertical-align: middle;\n",
       "    }\n",
       "\n",
       "    .dataframe tbody tr th {\n",
       "        vertical-align: top;\n",
       "    }\n",
       "\n",
       "    .dataframe thead th {\n",
       "        text-align: right;\n",
       "    }\n",
       "</style>\n",
       "<table border=\"1\" class=\"dataframe\">\n",
       "  <thead>\n",
       "    <tr style=\"text-align: right;\">\n",
       "      <th></th>\n",
       "      <th>rank</th>\n",
       "      <th>personName</th>\n",
       "      <th>age</th>\n",
       "      <th>finalWorth</th>\n",
       "      <th>category</th>\n",
       "      <th>country</th>\n",
       "      <th>gender</th>\n",
       "      <th>title</th>\n",
       "    </tr>\n",
       "  </thead>\n",
       "  <tbody>\n",
       "    <tr>\n",
       "      <th>0</th>\n",
       "      <td>1</td>\n",
       "      <td>Elon Musk</td>\n",
       "      <td>50.0</td>\n",
       "      <td>219000.0</td>\n",
       "      <td>Automotive</td>\n",
       "      <td>United States</td>\n",
       "      <td>M</td>\n",
       "      <td>CEO</td>\n",
       "    </tr>\n",
       "    <tr>\n",
       "      <th>1</th>\n",
       "      <td>2</td>\n",
       "      <td>Jeff Bezos</td>\n",
       "      <td>58.0</td>\n",
       "      <td>171000.0</td>\n",
       "      <td>Technology</td>\n",
       "      <td>United States</td>\n",
       "      <td>M</td>\n",
       "      <td>Entrepreneur</td>\n",
       "    </tr>\n",
       "    <tr>\n",
       "      <th>2</th>\n",
       "      <td>3</td>\n",
       "      <td>Bernard Arnault &amp; family</td>\n",
       "      <td>73.0</td>\n",
       "      <td>158000.0</td>\n",
       "      <td>Fashion &amp; Retail</td>\n",
       "      <td>France</td>\n",
       "      <td>M</td>\n",
       "      <td>Chairman and CEO</td>\n",
       "    </tr>\n",
       "    <tr>\n",
       "      <th>3</th>\n",
       "      <td>4</td>\n",
       "      <td>Bill Gates</td>\n",
       "      <td>66.0</td>\n",
       "      <td>129000.0</td>\n",
       "      <td>Technology</td>\n",
       "      <td>United States</td>\n",
       "      <td>M</td>\n",
       "      <td>Cofounder</td>\n",
       "    </tr>\n",
       "    <tr>\n",
       "      <th>4</th>\n",
       "      <td>5</td>\n",
       "      <td>Warren Buffett</td>\n",
       "      <td>91.0</td>\n",
       "      <td>118000.0</td>\n",
       "      <td>Finance &amp; Investments</td>\n",
       "      <td>United States</td>\n",
       "      <td>M</td>\n",
       "      <td>CEO</td>\n",
       "    </tr>\n",
       "  </tbody>\n",
       "</table>\n",
       "</div>"
      ],
      "text/plain": [
       "   rank                personName   age  finalWorth               category  \\\n",
       "0     1                 Elon Musk  50.0    219000.0             Automotive   \n",
       "1     2                Jeff Bezos  58.0    171000.0             Technology   \n",
       "2     3  Bernard Arnault & family  73.0    158000.0       Fashion & Retail   \n",
       "3     4                Bill Gates  66.0    129000.0             Technology   \n",
       "4     5            Warren Buffett  91.0    118000.0  Finance & Investments   \n",
       "\n",
       "         country gender             title  \n",
       "0  United States      M               CEO  \n",
       "1  United States      M      Entrepreneur  \n",
       "2         France      M  Chairman and CEO  \n",
       "3  United States      M         Cofounder  \n",
       "4  United States      M               CEO  "
      ]
     },
     "execution_count": 7,
     "metadata": {},
     "output_type": "execute_result"
    }
   ],
   "source": [
    "df = df.loc[:,[\"rank\",\"personName\", \"age\", \"finalWorth\", \"category\", \"country\", \"gender\", \"title\"]]\n",
    "df.head()"
   ]
  },
  {
   "cell_type": "code",
   "execution_count": 92,
   "id": "684a0e7d",
   "metadata": {
    "ExecuteTime": {
     "end_time": "2023-05-01T23:13:48.480673Z",
     "start_time": "2023-05-01T23:13:48.464080Z"
    }
   },
   "outputs": [
    {
     "data": {
      "text/html": [
       "<div>\n",
       "<style scoped>\n",
       "    .dataframe tbody tr th:only-of-type {\n",
       "        vertical-align: middle;\n",
       "    }\n",
       "\n",
       "    .dataframe tbody tr th {\n",
       "        vertical-align: top;\n",
       "    }\n",
       "\n",
       "    .dataframe thead th {\n",
       "        text-align: right;\n",
       "    }\n",
       "</style>\n",
       "<table border=\"1\" class=\"dataframe\">\n",
       "  <thead>\n",
       "    <tr style=\"text-align: right;\">\n",
       "      <th></th>\n",
       "      <th>isim</th>\n",
       "      <th>yas</th>\n",
       "      <th>servet</th>\n",
       "      <th>kategori,</th>\n",
       "      <th>ulke</th>\n",
       "      <th>cinsiyet</th>\n",
       "      <th>unvan</th>\n",
       "      <th>yas_aralığı</th>\n",
       "    </tr>\n",
       "    <tr>\n",
       "      <th>sira</th>\n",
       "      <th></th>\n",
       "      <th></th>\n",
       "      <th></th>\n",
       "      <th></th>\n",
       "      <th></th>\n",
       "      <th></th>\n",
       "      <th></th>\n",
       "      <th></th>\n",
       "    </tr>\n",
       "  </thead>\n",
       "  <tbody>\n",
       "    <tr>\n",
       "      <th>1</th>\n",
       "      <td>Elon Musk</td>\n",
       "      <td>50.0</td>\n",
       "      <td>219000.0</td>\n",
       "      <td>Automotive</td>\n",
       "      <td>United States</td>\n",
       "      <td>M</td>\n",
       "      <td>CEO</td>\n",
       "      <td>30-50</td>\n",
       "    </tr>\n",
       "    <tr>\n",
       "      <th>2</th>\n",
       "      <td>Jeff Bezos</td>\n",
       "      <td>58.0</td>\n",
       "      <td>171000.0</td>\n",
       "      <td>Technology</td>\n",
       "      <td>United States</td>\n",
       "      <td>M</td>\n",
       "      <td>Entrepreneur</td>\n",
       "      <td>50-70</td>\n",
       "    </tr>\n",
       "    <tr>\n",
       "      <th>3</th>\n",
       "      <td>Bernard Arnault &amp; family</td>\n",
       "      <td>73.0</td>\n",
       "      <td>158000.0</td>\n",
       "      <td>Fashion &amp; Retail</td>\n",
       "      <td>France</td>\n",
       "      <td>M</td>\n",
       "      <td>Chairman and CEO</td>\n",
       "      <td>70+</td>\n",
       "    </tr>\n",
       "    <tr>\n",
       "      <th>4</th>\n",
       "      <td>Bill Gates</td>\n",
       "      <td>66.0</td>\n",
       "      <td>129000.0</td>\n",
       "      <td>Technology</td>\n",
       "      <td>United States</td>\n",
       "      <td>M</td>\n",
       "      <td>Cofounder</td>\n",
       "      <td>50-70</td>\n",
       "    </tr>\n",
       "    <tr>\n",
       "      <th>5</th>\n",
       "      <td>Warren Buffett</td>\n",
       "      <td>91.0</td>\n",
       "      <td>118000.0</td>\n",
       "      <td>Finance &amp; Investments</td>\n",
       "      <td>United States</td>\n",
       "      <td>M</td>\n",
       "      <td>CEO</td>\n",
       "      <td>70+</td>\n",
       "    </tr>\n",
       "  </tbody>\n",
       "</table>\n",
       "</div>"
      ],
      "text/plain": [
       "                          isim   yas    servet              kategori,  \\\n",
       "sira                                                                    \n",
       "1                    Elon Musk  50.0  219000.0             Automotive   \n",
       "2                   Jeff Bezos  58.0  171000.0             Technology   \n",
       "3     Bernard Arnault & family  73.0  158000.0       Fashion & Retail   \n",
       "4                   Bill Gates  66.0  129000.0             Technology   \n",
       "5               Warren Buffett  91.0  118000.0  Finance & Investments   \n",
       "\n",
       "               ulke cinsiyet             unvan yas_aralığı  \n",
       "sira                                                        \n",
       "1     United States        M               CEO       30-50  \n",
       "2     United States        M      Entrepreneur       50-70  \n",
       "3            France        M  Chairman and CEO         70+  \n",
       "4     United States        M         Cofounder       50-70  \n",
       "5     United States        M               CEO         70+  "
      ]
     },
     "execution_count": 92,
     "metadata": {},
     "output_type": "execute_result"
    }
   ],
   "source": [
    "df = df.rename(columns = {\"rank\":\"sira\", \"personName\":\"isim\", \"age\":\"yas\", \"finalWorth\":\"servet\", \"category\":\"kategori\", \"country\":\"ulke\",\"gender\":\"cinsiyet\", \"title\":\"unvan\"})\n",
    "df.head()"
   ]
  },
  {
   "cell_type": "code",
   "execution_count": 88,
   "id": "ff9c1141-e807-4365-bb02-a7f9138ef6e5",
   "metadata": {
    "ExecuteTime": {
     "end_time": "2023-05-01T23:13:04.283107Z",
     "start_time": "2023-05-01T23:13:04.266582Z"
    }
   },
   "outputs": [
    {
     "ename": "KeyError",
     "evalue": "\"None of ['sira'] are in the columns\"",
     "output_type": "error",
     "traceback": [
      "\u001b[1;31m---------------------------------------------------------------------------\u001b[0m",
      "\u001b[1;31mKeyError\u001b[0m                                  Traceback (most recent call last)",
      "\u001b[1;32m~\\AppData\\Local\\Temp\\ipykernel_52752\\4176783314.py\u001b[0m in \u001b[0;36m<module>\u001b[1;34m\u001b[0m\n\u001b[1;32m----> 1\u001b[1;33m \u001b[0mdf\u001b[0m \u001b[1;33m=\u001b[0m \u001b[0mdf\u001b[0m\u001b[1;33m.\u001b[0m\u001b[0mset_index\u001b[0m\u001b[1;33m(\u001b[0m\u001b[1;34m\"sira\"\u001b[0m\u001b[1;33m)\u001b[0m\u001b[1;33m\u001b[0m\u001b[1;33m\u001b[0m\u001b[0m\n\u001b[0m\u001b[0;32m      2\u001b[0m \u001b[0mdf\u001b[0m\u001b[1;33m\u001b[0m\u001b[1;33m\u001b[0m\u001b[0m\n",
      "\u001b[1;32m~\\anaconda3\\lib\\site-packages\\pandas\\util\\_decorators.py\u001b[0m in \u001b[0;36mwrapper\u001b[1;34m(*args, **kwargs)\u001b[0m\n\u001b[0;32m    309\u001b[0m                     \u001b[0mstacklevel\u001b[0m\u001b[1;33m=\u001b[0m\u001b[0mstacklevel\u001b[0m\u001b[1;33m,\u001b[0m\u001b[1;33m\u001b[0m\u001b[1;33m\u001b[0m\u001b[0m\n\u001b[0;32m    310\u001b[0m                 )\n\u001b[1;32m--> 311\u001b[1;33m             \u001b[1;32mreturn\u001b[0m \u001b[0mfunc\u001b[0m\u001b[1;33m(\u001b[0m\u001b[1;33m*\u001b[0m\u001b[0margs\u001b[0m\u001b[1;33m,\u001b[0m \u001b[1;33m**\u001b[0m\u001b[0mkwargs\u001b[0m\u001b[1;33m)\u001b[0m\u001b[1;33m\u001b[0m\u001b[1;33m\u001b[0m\u001b[0m\n\u001b[0m\u001b[0;32m    312\u001b[0m \u001b[1;33m\u001b[0m\u001b[0m\n\u001b[0;32m    313\u001b[0m         \u001b[1;32mreturn\u001b[0m \u001b[0mwrapper\u001b[0m\u001b[1;33m\u001b[0m\u001b[1;33m\u001b[0m\u001b[0m\n",
      "\u001b[1;32m~\\anaconda3\\lib\\site-packages\\pandas\\core\\frame.py\u001b[0m in \u001b[0;36mset_index\u001b[1;34m(self, keys, drop, append, inplace, verify_integrity)\u001b[0m\n\u001b[0;32m   5501\u001b[0m \u001b[1;33m\u001b[0m\u001b[0m\n\u001b[0;32m   5502\u001b[0m         \u001b[1;32mif\u001b[0m \u001b[0mmissing\u001b[0m\u001b[1;33m:\u001b[0m\u001b[1;33m\u001b[0m\u001b[1;33m\u001b[0m\u001b[0m\n\u001b[1;32m-> 5503\u001b[1;33m             \u001b[1;32mraise\u001b[0m \u001b[0mKeyError\u001b[0m\u001b[1;33m(\u001b[0m\u001b[1;34mf\"None of {missing} are in the columns\"\u001b[0m\u001b[1;33m)\u001b[0m\u001b[1;33m\u001b[0m\u001b[1;33m\u001b[0m\u001b[0m\n\u001b[0m\u001b[0;32m   5504\u001b[0m \u001b[1;33m\u001b[0m\u001b[0m\n\u001b[0;32m   5505\u001b[0m         \u001b[1;32mif\u001b[0m \u001b[0minplace\u001b[0m\u001b[1;33m:\u001b[0m\u001b[1;33m\u001b[0m\u001b[1;33m\u001b[0m\u001b[0m\n",
      "\u001b[1;31mKeyError\u001b[0m: \"None of ['sira'] are in the columns\""
     ]
    }
   ],
   "source": [
    "df = df.set_index(\"sira\")\n",
    "df"
   ]
  },
  {
   "cell_type": "code",
   "execution_count": 10,
   "id": "6b9a3965-75ae-4e98-a8ab-7360482f61cb",
   "metadata": {
    "ExecuteTime": {
     "end_time": "2023-05-01T22:16:53.401874Z",
     "start_time": "2023-05-01T22:16:53.391191Z"
    }
   },
   "outputs": [
    {
     "data": {
      "text/plain": [
       "isim            0\n",
       "yas            86\n",
       "servet          0\n",
       "kategori,       0\n",
       "ulke           13\n",
       "cinsiyet       16\n",
       "unvan        2267\n",
       "dtype: int64"
      ]
     },
     "execution_count": 10,
     "metadata": {},
     "output_type": "execute_result"
    }
   ],
   "source": [
    "df.isnull().sum()"
   ]
  },
  {
   "cell_type": "code",
   "execution_count": 11,
   "id": "d24828b7-9a54-4d9d-ba66-2feb102ddf44",
   "metadata": {
    "ExecuteTime": {
     "end_time": "2023-05-01T22:17:12.968294Z",
     "start_time": "2023-05-01T22:17:12.588815Z"
    }
   },
   "outputs": [
    {
     "data": {
      "text/plain": [
       "<AxesSubplot:ylabel='sira'>"
      ]
     },
     "execution_count": 11,
     "metadata": {},
     "output_type": "execute_result"
    },
    {
     "data": {
      "image/png": "[encoded data removed]",
      "text/plain": [
       "<Figure size 640x480 with 1 Axes>"
      ]
     },
     "metadata": {},
     "output_type": "display_data"
    }
   ],
   "source": [
    "sns.heatmap(df.isnull(),     # Nan degerlerin dagilimina bakiyoruz, en fazla unvan da ve yas da var. \n",
    "            yticklabels=False,\n",
    "            cbar=False,\n",
    "            cmap='magma')"
   ]
  },
  {
   "cell_type": "code",
   "execution_count": 12,
   "id": "a5ca83bc-f6c2-49f5-a16d-8a261afe95d0",
   "metadata": {
    "ExecuteTime": {
     "end_time": "2023-05-01T22:19:31.561091Z",
     "start_time": "2023-05-01T22:19:31.546725Z"
    }
   },
   "outputs": [],
   "source": [
    "# df icinde ki butun satir ve sutunlari dolasip toplam nan,null degerleri her bir satir icin getirir. \n",
    "\n",
    "def missing_values_table(dataframe, na_name=False):\n",
    "    na_columns = [col for col in dataframe.columns if dataframe[col].isnull().sum() > 0]\n",
    "\n",
    "    n_miss = dataframe[na_columns].isnull().sum().sort_values(ascending=False)\n",
    "    ratio = (dataframe[na_columns].isnull().sum() / dataframe.shape[0] * 100).sort_values(ascending=False)\n",
    "    missing_df = pd.concat([n_miss, np.round(ratio, 2)], axis=1, keys=['n_miss', 'ratio'])\n",
    "    print(missing_df)\n",
    "\n",
    "    if na_name:\n",
    "        return na_columns    "
   ]
  },
  {
   "cell_type": "code",
   "execution_count": 13,
   "id": "6607764d-a364-4b62-8a4c-ca1bab1315a8",
   "metadata": {
    "ExecuteTime": {
     "end_time": "2023-05-01T22:19:53.679384Z",
     "start_time": "2023-05-01T22:19:53.650231Z"
    }
   },
   "outputs": [
    {
     "name": "stdout",
     "output_type": "stream",
     "text": [
      "          n_miss  ratio\n",
      "unvan       2267  84.97\n",
      "yas           86   3.22\n",
      "cinsiyet      16   0.60\n",
      "ulke          13   0.49\n"
     ]
    }
   ],
   "source": [
    "missing_values_table(df) # unvanin %85 missing_values dir..."
   ]
  },
  {
   "cell_type": "code",
   "execution_count": 14,
   "id": "1371b9b7-71ea-4f8a-9991-81ad71e57227",
   "metadata": {
    "ExecuteTime": {
     "end_time": "2023-05-01T22:22:01.532244Z",
     "start_time": "2023-05-01T22:22:01.521833Z"
    }
   },
   "outputs": [],
   "source": [
    "df.unvan.fillna(\"Billionair\", inplace=True) # unvan sutununda bos olan yerlere \"billionair dondurduk\""
   ]
  },
  {
   "cell_type": "code",
   "execution_count": 16,
   "id": "449d1240-ca38-42c5-be38-4ac08e309604",
   "metadata": {
    "ExecuteTime": {
     "end_time": "2023-05-01T22:22:52.591083Z",
     "start_time": "2023-05-01T22:22:52.564163Z"
    }
   },
   "outputs": [
    {
     "name": "stdout",
     "output_type": "stream",
     "text": [
      "          n_miss  ratio\n",
      "yas           86   3.22\n",
      "cinsiyet      16   0.60\n",
      "ulke          13   0.49\n"
     ]
    }
   ],
   "source": [
    "missing_values_table(df)"
   ]
  },
  {
   "cell_type": "code",
   "execution_count": 17,
   "id": "20019a13-9558-4122-8804-4a6231bacbbb",
   "metadata": {
    "ExecuteTime": {
     "end_time": "2023-05-01T22:23:05.522745Z",
     "start_time": "2023-05-01T22:23:05.513722Z"
    }
   },
   "outputs": [],
   "source": [
    "df.dropna(inplace = True) # kalan nan degerleride attik dropna ile. "
   ]
  },
  {
   "cell_type": "code",
   "execution_count": 19,
   "id": "8099a3b3-f70d-498c-bdb0-1a684a414dd7",
   "metadata": {
    "ExecuteTime": {
     "end_time": "2023-05-01T22:23:41.303726Z",
     "start_time": "2023-05-01T22:23:41.285568Z"
    }
   },
   "outputs": [
    {
     "name": "stdout",
     "output_type": "stream",
     "text": [
      "Empty DataFrame\n",
      "Columns: [n_miss, ratio]\n",
      "Index: []\n"
     ]
    }
   ],
   "source": [
    "missing_values_table(df)"
   ]
  },
  {
   "cell_type": "code",
   "execution_count": 21,
   "id": "c0cb004f",
   "metadata": {
    "ExecuteTime": {
     "end_time": "2023-05-01T22:24:11.465455Z",
     "start_time": "2023-05-01T22:24:11.444010Z"
    }
   },
   "outputs": [
    {
     "data": {
      "text/plain": [
       "isim         0\n",
       "yas          0\n",
       "servet       0\n",
       "kategori,    0\n",
       "ulke         0\n",
       "cinsiyet     0\n",
       "unvan        0\n",
       "dtype: int64"
      ]
     },
     "execution_count": 21,
     "metadata": {},
     "output_type": "execute_result"
    }
   ],
   "source": [
    "df.isnull().sum()"
   ]
  },
  {
   "cell_type": "markdown",
   "id": "e2b63918",
   "metadata": {},
   "source": [
    "## Cinsiyet dagilimina bakalim"
   ]
  },
  {
   "cell_type": "code",
   "execution_count": 22,
   "id": "d80711f0-c62f-491f-9f7e-b474451263ed",
   "metadata": {
    "ExecuteTime": {
     "end_time": "2023-05-01T22:24:21.691966Z",
     "start_time": "2023-05-01T22:24:21.682965Z"
    }
   },
   "outputs": [
    {
     "data": {
      "text/plain": [
       "M    88.862928\n",
       "F    11.137072\n",
       "Name: cinsiyet, dtype: float64"
      ]
     },
     "execution_count": 22,
     "metadata": {},
     "output_type": "execute_result"
    }
   ],
   "source": [
    "df[\"cinsiyet\"].value_counts(normalize=True)*100 # %89 man, %11 vrouw"
   ]
  },
  {
   "cell_type": "code",
   "execution_count": 46,
   "id": "1305148c",
   "metadata": {
    "ExecuteTime": {
     "end_time": "2023-05-01T09:44:55.144693Z",
     "start_time": "2023-05-01T09:44:55.135680Z"
    }
   },
   "outputs": [
    {
     "data": {
      "text/plain": [
       "M    2282\n",
       "F     286\n",
       "Name: cinsiyet, dtype: int64"
      ]
     },
     "execution_count": 46,
     "metadata": {},
     "output_type": "execute_result"
    }
   ],
   "source": [
    "df[\"cinsiyet\"].value_counts() # de aantalen man en vrouw"
   ]
  },
  {
   "cell_type": "code",
   "execution_count": 26,
   "id": "f1138a7b",
   "metadata": {
    "ExecuteTime": {
     "end_time": "2023-05-01T22:27:23.830807Z",
     "start_time": "2023-05-01T22:27:23.811488Z"
    }
   },
   "outputs": [
    {
     "data": {
      "text/plain": [
       "Index(['M', 'F'], dtype='object')"
      ]
     },
     "execution_count": 26,
     "metadata": {},
     "output_type": "execute_result"
    }
   ],
   "source": [
    "x = df[\"cinsiyet\"].value_counts().index\n",
    "x"
   ]
  },
  {
   "cell_type": "code",
   "execution_count": 47,
   "id": "4de6c656",
   "metadata": {
    "ExecuteTime": {
     "end_time": "2023-05-01T09:44:55.643432Z",
     "start_time": "2023-05-01T09:44:55.631257Z"
    }
   },
   "outputs": [],
   "source": [
    "#import warnings;\n",
    "#warnings.filterwarnings(\"ignore\")"
   ]
  },
  {
   "cell_type": "code",
   "execution_count": 27,
   "id": "1f268173-a6f3-4fc2-bbc9-296e1caf3a82",
   "metadata": {
    "ExecuteTime": {
     "end_time": "2023-05-01T22:28:17.075596Z",
     "start_time": "2023-05-01T22:28:16.972237Z"
    }
   },
   "outputs": [
    {
     "data": {
      "image/png": "[encoded data removed]",
      "text/plain": [
       "<Figure size 640x480 with 1 Axes>"
      ]
     },
     "metadata": {},
     "output_type": "display_data"
    }
   ],
   "source": [
    "sns.barplot(x= df[\"cinsiyet\"].value_counts().index,y= df[\"cinsiyet\"].value_counts()) # x= ve y= yeni versionda konulmus\n",
    "plt.title(\"Cinsiyet Dagilimi\");\n"
   ]
  },
  {
   "cell_type": "code",
   "execution_count": 28,
   "id": "bda2951d-282b-4d51-985e-a6e6bd0750b4",
   "metadata": {
    "ExecuteTime": {
     "end_time": "2023-05-01T22:28:28.829358Z",
     "start_time": "2023-05-01T22:28:28.818356Z"
    }
   },
   "outputs": [
    {
     "data": {
      "text/plain": [
       "'0.11.2'"
      ]
     },
     "execution_count": 28,
     "metadata": {},
     "output_type": "execute_result"
    }
   ],
   "source": [
    "sns.__version__"
   ]
  },
  {
   "cell_type": "code",
   "execution_count": 29,
   "id": "4ee95360",
   "metadata": {
    "ExecuteTime": {
     "end_time": "2023-05-01T22:28:47.348952Z",
     "start_time": "2023-05-01T22:28:47.328350Z"
    }
   },
   "outputs": [
    {
     "data": {
      "text/html": [
       "<div>\n",
       "<style scoped>\n",
       "    .dataframe tbody tr th:only-of-type {\n",
       "        vertical-align: middle;\n",
       "    }\n",
       "\n",
       "    .dataframe tbody tr th {\n",
       "        vertical-align: top;\n",
       "    }\n",
       "\n",
       "    .dataframe thead th {\n",
       "        text-align: right;\n",
       "    }\n",
       "</style>\n",
       "<table border=\"1\" class=\"dataframe\">\n",
       "  <thead>\n",
       "    <tr style=\"text-align: right;\">\n",
       "      <th></th>\n",
       "      <th>isim</th>\n",
       "      <th>yas</th>\n",
       "      <th>servet</th>\n",
       "      <th>kategori,</th>\n",
       "      <th>ulke</th>\n",
       "      <th>cinsiyet</th>\n",
       "      <th>unvan</th>\n",
       "    </tr>\n",
       "    <tr>\n",
       "      <th>sira</th>\n",
       "      <th></th>\n",
       "      <th></th>\n",
       "      <th></th>\n",
       "      <th></th>\n",
       "      <th></th>\n",
       "      <th></th>\n",
       "      <th></th>\n",
       "    </tr>\n",
       "  </thead>\n",
       "  <tbody>\n",
       "    <tr>\n",
       "      <th>1</th>\n",
       "      <td>Elon Musk</td>\n",
       "      <td>50.0</td>\n",
       "      <td>219000.0</td>\n",
       "      <td>Automotive</td>\n",
       "      <td>United States</td>\n",
       "      <td>M</td>\n",
       "      <td>CEO</td>\n",
       "    </tr>\n",
       "    <tr>\n",
       "      <th>2</th>\n",
       "      <td>Jeff Bezos</td>\n",
       "      <td>58.0</td>\n",
       "      <td>171000.0</td>\n",
       "      <td>Technology</td>\n",
       "      <td>United States</td>\n",
       "      <td>M</td>\n",
       "      <td>Entrepreneur</td>\n",
       "    </tr>\n",
       "    <tr>\n",
       "      <th>3</th>\n",
       "      <td>Bernard Arnault &amp; family</td>\n",
       "      <td>73.0</td>\n",
       "      <td>158000.0</td>\n",
       "      <td>Fashion &amp; Retail</td>\n",
       "      <td>France</td>\n",
       "      <td>M</td>\n",
       "      <td>Chairman and CEO</td>\n",
       "    </tr>\n",
       "    <tr>\n",
       "      <th>4</th>\n",
       "      <td>Bill Gates</td>\n",
       "      <td>66.0</td>\n",
       "      <td>129000.0</td>\n",
       "      <td>Technology</td>\n",
       "      <td>United States</td>\n",
       "      <td>M</td>\n",
       "      <td>Cofounder</td>\n",
       "    </tr>\n",
       "    <tr>\n",
       "      <th>5</th>\n",
       "      <td>Warren Buffett</td>\n",
       "      <td>91.0</td>\n",
       "      <td>118000.0</td>\n",
       "      <td>Finance &amp; Investments</td>\n",
       "      <td>United States</td>\n",
       "      <td>M</td>\n",
       "      <td>CEO</td>\n",
       "    </tr>\n",
       "  </tbody>\n",
       "</table>\n",
       "</div>"
      ],
      "text/plain": [
       "                          isim   yas    servet              kategori,  \\\n",
       "sira                                                                    \n",
       "1                    Elon Musk  50.0  219000.0             Automotive   \n",
       "2                   Jeff Bezos  58.0  171000.0             Technology   \n",
       "3     Bernard Arnault & family  73.0  158000.0       Fashion & Retail   \n",
       "4                   Bill Gates  66.0  129000.0             Technology   \n",
       "5               Warren Buffett  91.0  118000.0  Finance & Investments   \n",
       "\n",
       "               ulke cinsiyet             unvan  \n",
       "sira                                            \n",
       "1     United States        M               CEO  \n",
       "2     United States        M      Entrepreneur  \n",
       "3            France        M  Chairman and CEO  \n",
       "4     United States        M         Cofounder  \n",
       "5     United States        M               CEO  "
      ]
     },
     "execution_count": 29,
     "metadata": {},
     "output_type": "execute_result"
    }
   ],
   "source": [
    "df.head()"
   ]
  },
  {
   "cell_type": "code",
   "execution_count": 31,
   "id": "a45fca70",
   "metadata": {
    "ExecuteTime": {
     "end_time": "2023-05-01T22:29:50.780346Z",
     "start_time": "2023-05-01T22:29:50.759838Z"
    }
   },
   "outputs": [
    {
     "data": {
      "text/plain": [
       "23"
      ]
     },
     "execution_count": 31,
     "metadata": {},
     "output_type": "execute_result"
    }
   ],
   "source": [
    "len(df[df[\"ulke\"] == \"Turkey\"])"
   ]
  },
  {
   "cell_type": "code",
   "execution_count": 37,
   "id": "6ded7046",
   "metadata": {
    "ExecuteTime": {
     "end_time": "2023-05-01T22:32:27.245794Z",
     "start_time": "2023-05-01T22:32:27.235653Z"
    }
   },
   "outputs": [
    {
     "data": {
      "text/plain": [
       "M    88.862928\n",
       "F    11.137072\n",
       "Name: cinsiyet, dtype: float64"
      ]
     },
     "execution_count": 37,
     "metadata": {},
     "output_type": "execute_result"
    }
   ],
   "source": [
    "df[\"cinsiyet\"].value_counts(normalize= True)* 100"
   ]
  },
  {
   "cell_type": "code",
   "execution_count": 36,
   "id": "386e0a7c",
   "metadata": {
    "ExecuteTime": {
     "end_time": "2023-05-01T22:32:06.997018Z",
     "start_time": "2023-05-01T22:32:06.987626Z"
    }
   },
   "outputs": [
    {
     "data": {
      "text/plain": [
       "M    0.826087\n",
       "F    0.173913\n",
       "Name: cinsiyet, dtype: float64"
      ]
     },
     "execution_count": 36,
     "metadata": {},
     "output_type": "execute_result"
    }
   ],
   "source": [
    "df[df[\"ulke\"] == \"Turkey\"].cinsiyet.value_counts(normalize=True)"
   ]
  },
  {
   "cell_type": "code",
   "execution_count": 40,
   "id": "c3f4aff3",
   "metadata": {
    "ExecuteTime": {
     "end_time": "2023-05-01T22:34:30.251920Z",
     "start_time": "2023-05-01T22:34:30.237715Z"
    }
   },
   "outputs": [
    {
     "data": {
      "text/plain": [
       "array(['United States', 'France', 'India', 'Mexico', 'China', 'Singapore',\n",
       "       'Spain', 'Canada', 'Germany', 'Switzerland', 'Belgium',\n",
       "       'Hong Kong', 'United Kingdom', 'Australia', 'Austria', 'Italy',\n",
       "       'Japan', 'Bahamas', 'Indonesia', 'Chile', 'Russia', 'Sweden',\n",
       "       'Czechia', 'Monaco', 'United Arab Emirates', 'Nigeria', 'Denmark',\n",
       "       'Thailand', 'Malaysia', 'Brazil', 'Colombia', 'New Zealand',\n",
       "       'South Korea', 'South Africa', 'Philippines', 'Egypt', 'Taiwan',\n",
       "       'Israel', 'Vietnam', 'Poland', 'Norway', 'Cayman Islands',\n",
       "       'Netherlands', 'Eswatini (Swaziland)', 'Peru', 'Algeria',\n",
       "       'Kazakhstan', 'Georgia', 'Portugal', 'British Virgin Islands',\n",
       "       'Turkey', 'Finland', 'Ukraine', 'Ireland', 'Bermuda', 'Lebanon',\n",
       "       'Argentina', 'Cambodia', 'Oman', 'Guernsey', 'Liechtenstein',\n",
       "       'Turks and Caicos Islands', 'Qatar', 'Morocco', 'Uruguay',\n",
       "       'Slovakia', 'Romania', 'Nepal', 'Tanzania', 'Bahrain', 'Greece',\n",
       "       'Hungary', 'Andorra'], dtype=object)"
      ]
     },
     "execution_count": 40,
     "metadata": {},
     "output_type": "execute_result"
    }
   ],
   "source": [
    "df[\"ulke\"].unique()"
   ]
  },
  {
   "cell_type": "code",
   "execution_count": 39,
   "id": "b6f6ae3b",
   "metadata": {
    "ExecuteTime": {
     "end_time": "2023-05-01T22:34:09.425612Z",
     "start_time": "2023-05-01T22:34:09.404966Z"
    },
    "run_control": {
     "marked": true
    }
   },
   "outputs": [
    {
     "data": {
      "text/plain": [
       "73"
      ]
     },
     "execution_count": 39,
     "metadata": {},
     "output_type": "execute_result"
    }
   ],
   "source": [
    "len(df[\"ulke\"].unique())"
   ]
  },
  {
   "cell_type": "code",
   "execution_count": null,
   "id": "4c331e57",
   "metadata": {},
   "outputs": [],
   "source": []
  },
  {
   "cell_type": "code",
   "execution_count": 41,
   "id": "92a0c114",
   "metadata": {
    "ExecuteTime": {
     "end_time": "2023-05-01T22:35:08.319925Z",
     "start_time": "2023-05-01T22:35:08.308335Z"
    }
   },
   "outputs": [
    {
     "data": {
      "text/plain": [
       "M    95.238095\n",
       "F     4.761905\n",
       "Name: cinsiyet, dtype: float64"
      ]
     },
     "execution_count": 41,
     "metadata": {},
     "output_type": "execute_result"
    }
   ],
   "source": [
    "df[df[\"ulke\"] == \"Canada\"].cinsiyet.value_counts(normalize=True)*100"
   ]
  },
  {
   "cell_type": "code",
   "execution_count": 43,
   "id": "7d0bb09d",
   "metadata": {
    "ExecuteTime": {
     "end_time": "2023-05-01T22:36:41.760564Z",
     "start_time": "2023-05-01T22:36:41.645270Z"
    }
   },
   "outputs": [
    {
     "data": {
      "image/png": "[encoded data removed]",
      "text/plain": [
       "<Figure size 640x480 with 1 Axes>"
      ]
     },
     "metadata": {},
     "output_type": "display_data"
    }
   ],
   "source": [
    "sns.barplot(x = df[df[\"ulke\"] == \"Turkey\"].cinsiyet.value_counts().index, y = df[df[\"ulke\"] == \"Turkey\"].cinsiyet.value_counts())\n",
    "plt.title(\"Türkiye Cinsiyet Dağılımı\") \n",
    "plt.show()"
   ]
  },
  {
   "cell_type": "code",
   "execution_count": 46,
   "id": "b1ca47a4",
   "metadata": {
    "ExecuteTime": {
     "end_time": "2023-05-01T22:40:26.584173Z",
     "start_time": "2023-05-01T22:40:26.353552Z"
    }
   },
   "outputs": [
    {
     "data": {
      "image/png": "[encoded data removed]",
      "text/plain": [
       "<Figure size 1200x600 with 2 Axes>"
      ]
     },
     "metadata": {},
     "output_type": "display_data"
    }
   ],
   "source": [
    "plt.figure(figsize = (12,6))\n",
    "plt.subplot(1, 2, 1)           #(121)de yazabiliyoruz\n",
    "sns.barplot(x = df[\"cinsiyet\"].value_counts().index, y = df[\"cinsiyet\"].value_counts())\n",
    "plt.title(\"Global Cinsiyet Dağılımı\", fontsize = 15)\n",
    "plt.ylabel(\"Cinsiyet\", fontsize = 12)\n",
    "plt.xticks(fontsize=12) # M ve F i buyutmek icin kullandik!\n",
    "\n",
    "plt.subplot(1, 2, 2)\n",
    "sns.barplot(x = df[df[\"ulke\"] == \"Turkey\"].cinsiyet.value_counts().index, y = df[df[\"ulke\"] == \"Turkey\"].cinsiyet.value_counts())\n",
    "plt.title(\"Türkiye Cinsiyet Dağılımı\", fontsize = 15)\n",
    "plt.ylabel(\"Cinsiyet\", fontsize = 12)\n",
    "plt.xticks(fontsize=12)\n",
    " \n",
    "plt.tight_layout(); \n",
    "plt.show()"
   ]
  },
  {
   "cell_type": "code",
   "execution_count": 49,
   "id": "29669619",
   "metadata": {
    "ExecuteTime": {
     "end_time": "2023-05-01T22:40:59.033707Z",
     "start_time": "2023-05-01T22:40:59.008960Z"
    }
   },
   "outputs": [
    {
     "data": {
      "text/html": [
       "<div>\n",
       "<style scoped>\n",
       "    .dataframe tbody tr th:only-of-type {\n",
       "        vertical-align: middle;\n",
       "    }\n",
       "\n",
       "    .dataframe tbody tr th {\n",
       "        vertical-align: top;\n",
       "    }\n",
       "\n",
       "    .dataframe thead th {\n",
       "        text-align: right;\n",
       "    }\n",
       "</style>\n",
       "<table border=\"1\" class=\"dataframe\">\n",
       "  <thead>\n",
       "    <tr style=\"text-align: right;\">\n",
       "      <th></th>\n",
       "      <th>isim</th>\n",
       "      <th>yas</th>\n",
       "      <th>servet</th>\n",
       "      <th>kategori,</th>\n",
       "      <th>ulke</th>\n",
       "      <th>cinsiyet</th>\n",
       "      <th>unvan</th>\n",
       "    </tr>\n",
       "    <tr>\n",
       "      <th>sira</th>\n",
       "      <th></th>\n",
       "      <th></th>\n",
       "      <th></th>\n",
       "      <th></th>\n",
       "      <th></th>\n",
       "      <th></th>\n",
       "      <th></th>\n",
       "    </tr>\n",
       "  </thead>\n",
       "  <tbody>\n",
       "    <tr>\n",
       "      <th>1</th>\n",
       "      <td>Elon Musk</td>\n",
       "      <td>50.0</td>\n",
       "      <td>219000.0</td>\n",
       "      <td>Automotive</td>\n",
       "      <td>United States</td>\n",
       "      <td>M</td>\n",
       "      <td>CEO</td>\n",
       "    </tr>\n",
       "    <tr>\n",
       "      <th>2</th>\n",
       "      <td>Jeff Bezos</td>\n",
       "      <td>58.0</td>\n",
       "      <td>171000.0</td>\n",
       "      <td>Technology</td>\n",
       "      <td>United States</td>\n",
       "      <td>M</td>\n",
       "      <td>Entrepreneur</td>\n",
       "    </tr>\n",
       "    <tr>\n",
       "      <th>3</th>\n",
       "      <td>Bernard Arnault &amp; family</td>\n",
       "      <td>73.0</td>\n",
       "      <td>158000.0</td>\n",
       "      <td>Fashion &amp; Retail</td>\n",
       "      <td>France</td>\n",
       "      <td>M</td>\n",
       "      <td>Chairman and CEO</td>\n",
       "    </tr>\n",
       "    <tr>\n",
       "      <th>4</th>\n",
       "      <td>Bill Gates</td>\n",
       "      <td>66.0</td>\n",
       "      <td>129000.0</td>\n",
       "      <td>Technology</td>\n",
       "      <td>United States</td>\n",
       "      <td>M</td>\n",
       "      <td>Cofounder</td>\n",
       "    </tr>\n",
       "    <tr>\n",
       "      <th>5</th>\n",
       "      <td>Warren Buffett</td>\n",
       "      <td>91.0</td>\n",
       "      <td>118000.0</td>\n",
       "      <td>Finance &amp; Investments</td>\n",
       "      <td>United States</td>\n",
       "      <td>M</td>\n",
       "      <td>CEO</td>\n",
       "    </tr>\n",
       "  </tbody>\n",
       "</table>\n",
       "</div>"
      ],
      "text/plain": [
       "                          isim   yas    servet              kategori,  \\\n",
       "sira                                                                    \n",
       "1                    Elon Musk  50.0  219000.0             Automotive   \n",
       "2                   Jeff Bezos  58.0  171000.0             Technology   \n",
       "3     Bernard Arnault & family  73.0  158000.0       Fashion & Retail   \n",
       "4                   Bill Gates  66.0  129000.0             Technology   \n",
       "5               Warren Buffett  91.0  118000.0  Finance & Investments   \n",
       "\n",
       "               ulke cinsiyet             unvan  \n",
       "sira                                            \n",
       "1     United States        M               CEO  \n",
       "2     United States        M      Entrepreneur  \n",
       "3            France        M  Chairman and CEO  \n",
       "4     United States        M         Cofounder  \n",
       "5     United States        M               CEO  "
      ]
     },
     "execution_count": 49,
     "metadata": {},
     "output_type": "execute_result"
    }
   ],
   "source": [
    "df.head()"
   ]
  },
  {
   "cell_type": "code",
   "execution_count": 51,
   "id": "9abae509",
   "metadata": {
    "ExecuteTime": {
     "end_time": "2023-05-01T22:41:44.354806Z",
     "start_time": "2023-05-01T22:41:44.341789Z"
    }
   },
   "outputs": [
    {
     "data": {
      "text/plain": [
       "25.0"
      ]
     },
     "execution_count": 51,
     "metadata": {},
     "output_type": "execute_result"
    }
   ],
   "source": [
    "df[\"yas\"].min()"
   ]
  },
  {
   "cell_type": "code",
   "execution_count": 52,
   "id": "3f05b173",
   "metadata": {
    "ExecuteTime": {
     "end_time": "2023-05-01T22:42:29.827495Z",
     "start_time": "2023-05-01T22:42:29.797156Z"
    }
   },
   "outputs": [
    {
     "data": {
      "text/plain": [
       "sira\n",
       "1929    25.0\n",
       "1929    25.0\n",
       "2190    25.0\n",
       "1929    26.0\n",
       "2190    26.0\n",
       "Name: yas, dtype: float64"
      ]
     },
     "execution_count": 52,
     "metadata": {},
     "output_type": "execute_result"
    }
   ],
   "source": [
    "df[\"yas\"].nsmallest(5)"
   ]
  },
  {
   "cell_type": "code",
   "execution_count": 53,
   "id": "3313f652",
   "metadata": {
    "ExecuteTime": {
     "end_time": "2023-05-01T22:43:02.768336Z",
     "start_time": "2023-05-01T22:43:02.750358Z"
    }
   },
   "outputs": [
    {
     "data": {
      "text/html": [
       "<div>\n",
       "<style scoped>\n",
       "    .dataframe tbody tr th:only-of-type {\n",
       "        vertical-align: middle;\n",
       "    }\n",
       "\n",
       "    .dataframe tbody tr th {\n",
       "        vertical-align: top;\n",
       "    }\n",
       "\n",
       "    .dataframe thead th {\n",
       "        text-align: right;\n",
       "    }\n",
       "</style>\n",
       "<table border=\"1\" class=\"dataframe\">\n",
       "  <thead>\n",
       "    <tr style=\"text-align: right;\">\n",
       "      <th></th>\n",
       "      <th>isim</th>\n",
       "      <th>yas</th>\n",
       "      <th>servet</th>\n",
       "      <th>kategori,</th>\n",
       "      <th>ulke</th>\n",
       "      <th>cinsiyet</th>\n",
       "      <th>unvan</th>\n",
       "    </tr>\n",
       "    <tr>\n",
       "      <th>sira</th>\n",
       "      <th></th>\n",
       "      <th></th>\n",
       "      <th></th>\n",
       "      <th></th>\n",
       "      <th></th>\n",
       "      <th></th>\n",
       "      <th></th>\n",
       "    </tr>\n",
       "  </thead>\n",
       "  <tbody>\n",
       "    <tr>\n",
       "      <th>1929</th>\n",
       "      <td>Pedro Franceschi</td>\n",
       "      <td>25.0</td>\n",
       "      <td>1500.0</td>\n",
       "      <td>Finance &amp; Investments</td>\n",
       "      <td>United States</td>\n",
       "      <td>M</td>\n",
       "      <td>Cofounder</td>\n",
       "    </tr>\n",
       "    <tr>\n",
       "      <th>1929</th>\n",
       "      <td>Wang Zelong</td>\n",
       "      <td>25.0</td>\n",
       "      <td>1500.0</td>\n",
       "      <td>Metals &amp; Mining</td>\n",
       "      <td>China</td>\n",
       "      <td>M</td>\n",
       "      <td>Billionair</td>\n",
       "    </tr>\n",
       "    <tr>\n",
       "      <th>2190</th>\n",
       "      <td>Alexandra Andresen</td>\n",
       "      <td>25.0</td>\n",
       "      <td>1300.0</td>\n",
       "      <td>Diversified</td>\n",
       "      <td>Norway</td>\n",
       "      <td>F</td>\n",
       "      <td>Billionair</td>\n",
       "    </tr>\n",
       "  </tbody>\n",
       "</table>\n",
       "</div>"
      ],
      "text/plain": [
       "                    isim   yas  servet              kategori,           ulke  \\\n",
       "sira                                                                           \n",
       "1929    Pedro Franceschi  25.0  1500.0  Finance & Investments  United States   \n",
       "1929         Wang Zelong  25.0  1500.0        Metals & Mining          China   \n",
       "2190  Alexandra Andresen  25.0  1300.0            Diversified         Norway   \n",
       "\n",
       "     cinsiyet       unvan  \n",
       "sira                       \n",
       "1929        M   Cofounder  \n",
       "1929        M  Billionair  \n",
       "2190        F  Billionair  "
      ]
     },
     "execution_count": 53,
     "metadata": {},
     "output_type": "execute_result"
    }
   ],
   "source": [
    "df[df[\"yas\"]==df[\"yas\"].min()]"
   ]
  },
  {
   "cell_type": "code",
   "execution_count": 54,
   "id": "b8eef248",
   "metadata": {
    "ExecuteTime": {
     "end_time": "2023-05-01T22:43:43.468746Z",
     "start_time": "2023-05-01T22:43:43.447890Z"
    },
    "scrolled": true
   },
   "outputs": [
    {
     "name": "stdout",
     "output_type": "stream",
     "text": [
      "<class 'pandas.core.frame.DataFrame'>\n",
      "Int64Index: 2568 entries, 1 to 2578\n",
      "Data columns (total 7 columns):\n",
      " #   Column     Non-Null Count  Dtype  \n",
      "---  ------     --------------  -----  \n",
      " 0   isim       2568 non-null   object \n",
      " 1   yas        2568 non-null   float64\n",
      " 2   servet     2568 non-null   float64\n",
      " 3   kategori,  2568 non-null   object \n",
      " 4   ulke       2568 non-null   object \n",
      " 5   cinsiyet   2568 non-null   object \n",
      " 6   unvan      2568 non-null   object \n",
      "dtypes: float64(2), object(5)\n",
      "memory usage: 225.0+ KB\n"
     ]
    }
   ],
   "source": [
    "df.info()"
   ]
  },
  {
   "cell_type": "code",
   "execution_count": 55,
   "id": "e0a44ee0",
   "metadata": {
    "ExecuteTime": {
     "end_time": "2023-05-01T22:44:15.840866Z",
     "start_time": "2023-05-01T22:44:15.811092Z"
    }
   },
   "outputs": [
    {
     "data": {
      "text/html": [
       "<div>\n",
       "<style scoped>\n",
       "    .dataframe tbody tr th:only-of-type {\n",
       "        vertical-align: middle;\n",
       "    }\n",
       "\n",
       "    .dataframe tbody tr th {\n",
       "        vertical-align: top;\n",
       "    }\n",
       "\n",
       "    .dataframe thead th {\n",
       "        text-align: right;\n",
       "    }\n",
       "</style>\n",
       "<table border=\"1\" class=\"dataframe\">\n",
       "  <thead>\n",
       "    <tr style=\"text-align: right;\">\n",
       "      <th></th>\n",
       "      <th>count</th>\n",
       "      <th>mean</th>\n",
       "      <th>std</th>\n",
       "      <th>min</th>\n",
       "      <th>25%</th>\n",
       "      <th>50%</th>\n",
       "      <th>75%</th>\n",
       "      <th>max</th>\n",
       "    </tr>\n",
       "  </thead>\n",
       "  <tbody>\n",
       "    <tr>\n",
       "      <th>yas</th>\n",
       "      <td>2568.0</td>\n",
       "      <td>64.245327</td>\n",
       "      <td>13.358522</td>\n",
       "      <td>25.0</td>\n",
       "      <td>55.0</td>\n",
       "      <td>64.0</td>\n",
       "      <td>74.0</td>\n",
       "      <td>100.0</td>\n",
       "    </tr>\n",
       "    <tr>\n",
       "      <th>servet</th>\n",
       "      <td>2568.0</td>\n",
       "      <td>4796.475857</td>\n",
       "      <td>10696.722292</td>\n",
       "      <td>1000.0</td>\n",
       "      <td>1500.0</td>\n",
       "      <td>2400.0</td>\n",
       "      <td>4400.0</td>\n",
       "      <td>219000.0</td>\n",
       "    </tr>\n",
       "  </tbody>\n",
       "</table>\n",
       "</div>"
      ],
      "text/plain": [
       "         count         mean           std     min     25%     50%     75%  \\\n",
       "yas     2568.0    64.245327     13.358522    25.0    55.0    64.0    74.0   \n",
       "servet  2568.0  4796.475857  10696.722292  1000.0  1500.0  2400.0  4400.0   \n",
       "\n",
       "             max  \n",
       "yas        100.0  \n",
       "servet  219000.0  "
      ]
     },
     "execution_count": 55,
     "metadata": {},
     "output_type": "execute_result"
    }
   ],
   "source": [
    "df.describe().T"
   ]
  },
  {
   "cell_type": "code",
   "execution_count": 56,
   "id": "aec0897e",
   "metadata": {
    "ExecuteTime": {
     "end_time": "2023-05-01T22:44:37.229830Z",
     "start_time": "2023-05-01T22:44:37.215805Z"
    }
   },
   "outputs": [
    {
     "data": {
      "text/html": [
       "<div>\n",
       "<style scoped>\n",
       "    .dataframe tbody tr th:only-of-type {\n",
       "        vertical-align: middle;\n",
       "    }\n",
       "\n",
       "    .dataframe tbody tr th {\n",
       "        vertical-align: top;\n",
       "    }\n",
       "\n",
       "    .dataframe thead th {\n",
       "        text-align: right;\n",
       "    }\n",
       "</style>\n",
       "<table border=\"1\" class=\"dataframe\">\n",
       "  <thead>\n",
       "    <tr style=\"text-align: right;\">\n",
       "      <th></th>\n",
       "      <th>isim</th>\n",
       "      <th>yas</th>\n",
       "      <th>servet</th>\n",
       "      <th>kategori,</th>\n",
       "      <th>ulke</th>\n",
       "      <th>cinsiyet</th>\n",
       "      <th>unvan</th>\n",
       "    </tr>\n",
       "    <tr>\n",
       "      <th>sira</th>\n",
       "      <th></th>\n",
       "      <th></th>\n",
       "      <th></th>\n",
       "      <th></th>\n",
       "      <th></th>\n",
       "      <th></th>\n",
       "      <th></th>\n",
       "    </tr>\n",
       "  </thead>\n",
       "  <tbody>\n",
       "  </tbody>\n",
       "</table>\n",
       "</div>"
      ],
      "text/plain": [
       "Empty DataFrame\n",
       "Columns: [isim, yas, servet, kategori,, ulke, cinsiyet, unvan]\n",
       "Index: []"
      ]
     },
     "execution_count": 56,
     "metadata": {},
     "output_type": "execute_result"
    }
   ],
   "source": [
    "df[(df[\"yas\"]==df[\"yas\"].min()) & (df[\"ulke\"] == \"Turkey\")] # bos, cunku en kucuk yasdaki billionars turkiyede degil. "
   ]
  },
  {
   "cell_type": "code",
   "execution_count": 59,
   "id": "76dba3f9",
   "metadata": {
    "ExecuteTime": {
     "end_time": "2023-05-01T22:49:49.707962Z",
     "start_time": "2023-05-01T22:49:49.697521Z"
    }
   },
   "outputs": [
    {
     "data": {
      "text/plain": [
       "isim                        Ahmet Calik\n",
       "yas                                37.0\n",
       "servet                           1000.0\n",
       "kategori,    Construction & Engineering\n",
       "ulke                             Turkey\n",
       "cinsiyet                              F\n",
       "unvan                        Billionair\n",
       "dtype: object"
      ]
     },
     "execution_count": 59,
     "metadata": {},
     "output_type": "execute_result"
    }
   ],
   "source": [
    "df_turkey = df[df[\"ulke\"] == \"Turkey\"]\n",
    "df_turkey.min()"
   ]
  },
  {
   "cell_type": "code",
   "execution_count": null,
   "id": "2f1e69bb",
   "metadata": {},
   "outputs": [],
   "source": [
    "#na=False \n",
    "#plt.pie(values, labels=labels, autopct='%.2f') "
   ]
  },
  {
   "cell_type": "code",
   "execution_count": 61,
   "id": "0d32f456",
   "metadata": {
    "ExecuteTime": {
     "end_time": "2023-05-01T22:51:35.170384Z",
     "start_time": "2023-05-01T22:51:35.152171Z"
    }
   },
   "outputs": [
    {
     "data": {
      "text/html": [
       "<div>\n",
       "<style scoped>\n",
       "    .dataframe tbody tr th:only-of-type {\n",
       "        vertical-align: middle;\n",
       "    }\n",
       "\n",
       "    .dataframe tbody tr th {\n",
       "        vertical-align: top;\n",
       "    }\n",
       "\n",
       "    .dataframe thead th {\n",
       "        text-align: right;\n",
       "    }\n",
       "</style>\n",
       "<table border=\"1\" class=\"dataframe\">\n",
       "  <thead>\n",
       "    <tr style=\"text-align: right;\">\n",
       "      <th></th>\n",
       "      <th>isim</th>\n",
       "      <th>yas</th>\n",
       "      <th>servet</th>\n",
       "      <th>kategori,</th>\n",
       "      <th>ulke</th>\n",
       "      <th>cinsiyet</th>\n",
       "      <th>unvan</th>\n",
       "      <th>yas_aralığı</th>\n",
       "    </tr>\n",
       "    <tr>\n",
       "      <th>sira</th>\n",
       "      <th></th>\n",
       "      <th></th>\n",
       "      <th></th>\n",
       "      <th></th>\n",
       "      <th></th>\n",
       "      <th></th>\n",
       "      <th></th>\n",
       "      <th></th>\n",
       "    </tr>\n",
       "  </thead>\n",
       "  <tbody>\n",
       "    <tr>\n",
       "      <th>1</th>\n",
       "      <td>Elon Musk</td>\n",
       "      <td>50.0</td>\n",
       "      <td>219000.0</td>\n",
       "      <td>Automotive</td>\n",
       "      <td>United States</td>\n",
       "      <td>M</td>\n",
       "      <td>CEO</td>\n",
       "      <td>30-50</td>\n",
       "    </tr>\n",
       "    <tr>\n",
       "      <th>2</th>\n",
       "      <td>Jeff Bezos</td>\n",
       "      <td>58.0</td>\n",
       "      <td>171000.0</td>\n",
       "      <td>Technology</td>\n",
       "      <td>United States</td>\n",
       "      <td>M</td>\n",
       "      <td>Entrepreneur</td>\n",
       "      <td>50-70</td>\n",
       "    </tr>\n",
       "    <tr>\n",
       "      <th>3</th>\n",
       "      <td>Bernard Arnault &amp; family</td>\n",
       "      <td>73.0</td>\n",
       "      <td>158000.0</td>\n",
       "      <td>Fashion &amp; Retail</td>\n",
       "      <td>France</td>\n",
       "      <td>M</td>\n",
       "      <td>Chairman and CEO</td>\n",
       "      <td>70+</td>\n",
       "    </tr>\n",
       "    <tr>\n",
       "      <th>4</th>\n",
       "      <td>Bill Gates</td>\n",
       "      <td>66.0</td>\n",
       "      <td>129000.0</td>\n",
       "      <td>Technology</td>\n",
       "      <td>United States</td>\n",
       "      <td>M</td>\n",
       "      <td>Cofounder</td>\n",
       "      <td>50-70</td>\n",
       "    </tr>\n",
       "    <tr>\n",
       "      <th>5</th>\n",
       "      <td>Warren Buffett</td>\n",
       "      <td>91.0</td>\n",
       "      <td>118000.0</td>\n",
       "      <td>Finance &amp; Investments</td>\n",
       "      <td>United States</td>\n",
       "      <td>M</td>\n",
       "      <td>CEO</td>\n",
       "      <td>70+</td>\n",
       "    </tr>\n",
       "  </tbody>\n",
       "</table>\n",
       "</div>"
      ],
      "text/plain": [
       "                          isim   yas    servet              kategori,  \\\n",
       "sira                                                                    \n",
       "1                    Elon Musk  50.0  219000.0             Automotive   \n",
       "2                   Jeff Bezos  58.0  171000.0             Technology   \n",
       "3     Bernard Arnault & family  73.0  158000.0       Fashion & Retail   \n",
       "4                   Bill Gates  66.0  129000.0             Technology   \n",
       "5               Warren Buffett  91.0  118000.0  Finance & Investments   \n",
       "\n",
       "               ulke cinsiyet             unvan yas_aralığı  \n",
       "sira                                                        \n",
       "1     United States        M               CEO       30-50  \n",
       "2     United States        M      Entrepreneur       50-70  \n",
       "3            France        M  Chairman and CEO         70+  \n",
       "4     United States        M         Cofounder       50-70  \n",
       "5     United States        M               CEO         70+  "
      ]
     },
     "execution_count": 61,
     "metadata": {},
     "output_type": "execute_result"
    }
   ],
   "source": [
    "df[\"yas_aralığı\"] = pd.cut(df[\"yas\"], bins = [18,30,50,70,100], labels = [\"18-30\",\"30-50\",\"50-70\",\"70+\"])\n",
    "df.head()"
   ]
  },
  {
   "cell_type": "code",
   "execution_count": 63,
   "id": "77c3a9a7",
   "metadata": {
    "ExecuteTime": {
     "end_time": "2023-05-01T22:53:09.446701Z",
     "start_time": "2023-05-01T22:53:09.433299Z"
    }
   },
   "outputs": [
    {
     "data": {
      "text/plain": [
       "50-70    1353\n",
       "70+       850\n",
       "30-50     351\n",
       "18-30      14\n",
       "Name: yas_aralığı, dtype: int64"
      ]
     },
     "execution_count": 63,
     "metadata": {},
     "output_type": "execute_result"
    }
   ],
   "source": [
    "df[\"yas_aralığı\"].value_counts() "
   ]
  },
  {
   "cell_type": "code",
   "execution_count": 65,
   "id": "df81603d",
   "metadata": {
    "ExecuteTime": {
     "end_time": "2023-05-01T22:54:25.388905Z",
     "start_time": "2023-05-01T22:54:25.251504Z"
    }
   },
   "outputs": [
    {
     "data": {
      "image/png": "[encoded data removed]",
      "text/plain": [
       "<Figure size 640x480 with 1 Axes>"
      ]
     },
     "metadata": {},
     "output_type": "display_data"
    }
   ],
   "source": [
    "sns.barplot(x = df[\"yas_aralığı\"].value_counts().index, y = df[\"yas_aralığı\"].value_counts())\n",
    "plt.title(\"4 Farklı Yaş Aralığı Dağılımı\")\n",
    "plt.show()"
   ]
  },
  {
   "cell_type": "code",
   "execution_count": 74,
   "id": "d203170b",
   "metadata": {
    "ExecuteTime": {
     "end_time": "2023-05-01T23:03:45.170377Z",
     "start_time": "2023-05-01T23:03:45.050785Z"
    }
   },
   "outputs": [
    {
     "data": {
      "image/png": "[encoded data removed]",
      "text/plain": [
       "<Figure size 600x600 with 1 Axes>"
      ]
     },
     "metadata": {},
     "output_type": "display_data"
    }
   ],
   "source": [
    "df[\"yas_aralığı\"].value_counts().plot(kind = \"pie\", figsize = (6,6));"
   ]
  },
  {
   "cell_type": "code",
   "execution_count": 72,
   "id": "c2776191",
   "metadata": {
    "ExecuteTime": {
     "end_time": "2023-05-01T23:00:42.127960Z",
     "start_time": "2023-05-01T23:00:41.887202Z"
    }
   },
   "outputs": [
    {
     "data": {
      "image/png": "[encoded data removed]",
      "text/plain": [
       "<Figure size 1000x800 with 1 Axes>"
      ]
     },
     "metadata": {},
     "output_type": "display_data"
    }
   ],
   "source": [
    "plt.figure(figsize=(10, 8))\n",
    "\n",
    "color_list = [\"gold\", \"yellowgreen\", \"lightcoral\", \"lightskyblue\"]\n",
    "explode_list = [0.1, 0.1, 0.2, 0.3]\n",
    "mylabels = [\"18-30\",\"30-50\",\"50-70\",\"70+\"]\n",
    "\n",
    "y =df[\"yas_aralığı\"].value_counts() \n",
    "\n",
    "plt.pie(y, labels = mylabels, labeldistance = 0.3, autopct=\"%.1f\", startangle = 90, shadow = True, pctdistance=0.7, \n",
    "        colors=color_list, explode = explode_list)\n",
    "\n",
    "plt.legend(loc=(0))\n",
    "plt.show()"
   ]
  },
  {
   "cell_type": "code",
   "execution_count": 77,
   "id": "e4cda571",
   "metadata": {
    "ExecuteTime": {
     "end_time": "2023-05-01T23:05:59.310598Z",
     "start_time": "2023-05-01T23:05:59.078442Z"
    }
   },
   "outputs": [
    {
     "data": {
      "image/png": "[encoded data removed]",
      "text/plain": [
       "<Figure size 1000x1000 with 2 Axes>"
      ]
     },
     "metadata": {},
     "output_type": "display_data"
    }
   ],
   "source": [
    "plt.figure(figsize = (10,8))\n",
    "\n",
    "plt.subplot(121)\n",
    "sns.barplot(x = df[\"yas_aralığı\"].value_counts().index, y = df[\"yas_aralığı\"].value_counts())\n",
    "plt.title(\"4 Farklı Yaş Aralığı Dağılımı\")\n",
    "\n",
    "plt.subplot(122)\n",
    "df[\"yas_aralığı\"].value_counts().plot(kind = \"pie\", figsize = (10,10))\n",
    "\n",
    "plt.tight_layout();\n",
    "plt.show()"
   ]
  },
  {
   "cell_type": "code",
   "execution_count": 80,
   "id": "c6e039e7",
   "metadata": {
    "ExecuteTime": {
     "end_time": "2023-05-01T23:07:56.265818Z",
     "start_time": "2023-05-01T23:07:56.252897Z"
    }
   },
   "outputs": [
    {
     "data": {
      "text/plain": [
       "Billionair                        2173\n",
       "Entrepreneur                        72\n",
       "Investor                            43\n",
       "Founder                             33\n",
       "CEO                                 29\n",
       "Cofounder                           27\n",
       "Chairman                            27\n",
       "Chairman and CEO                    24\n",
       "Owner                                6\n",
       "President                            6\n",
       "Chief Executive Officer              5\n",
       "Founder and Chairman                 5\n",
       "Philanthropist                       5\n",
       "Director                             5\n",
       "Founder and CEO                      4\n",
       "Investor, Philanthropist             4\n",
       "Entrepreneur, Investor               3\n",
       "Co-Chairman                          3\n",
       "Cofounder and CEO                    3\n",
       "Founder and Executive Chairman       3\n",
       "Name: unvan, dtype: int64"
      ]
     },
     "execution_count": 80,
     "metadata": {},
     "output_type": "execute_result"
    }
   ],
   "source": [
    "df[\"unvan\"].value_counts().nlargest(20)"
   ]
  },
  {
   "cell_type": "code",
   "execution_count": 83,
   "id": "403900c8",
   "metadata": {
    "ExecuteTime": {
     "end_time": "2023-05-01T23:09:51.884243Z",
     "start_time": "2023-05-01T23:09:51.865558Z"
    }
   },
   "outputs": [
    {
     "data": {
      "text/html": [
       "<div>\n",
       "<style scoped>\n",
       "    .dataframe tbody tr th:only-of-type {\n",
       "        vertical-align: middle;\n",
       "    }\n",
       "\n",
       "    .dataframe tbody tr th {\n",
       "        vertical-align: top;\n",
       "    }\n",
       "\n",
       "    .dataframe thead th {\n",
       "        text-align: right;\n",
       "    }\n",
       "</style>\n",
       "<table border=\"1\" class=\"dataframe\">\n",
       "  <thead>\n",
       "    <tr style=\"text-align: right;\">\n",
       "      <th></th>\n",
       "      <th>isim</th>\n",
       "      <th>yas</th>\n",
       "      <th>servet</th>\n",
       "      <th>kategori,</th>\n",
       "      <th>ulke</th>\n",
       "      <th>cinsiyet</th>\n",
       "      <th>unvan</th>\n",
       "      <th>yas_aralığı</th>\n",
       "    </tr>\n",
       "    <tr>\n",
       "      <th>sira</th>\n",
       "      <th></th>\n",
       "      <th></th>\n",
       "      <th></th>\n",
       "      <th></th>\n",
       "      <th></th>\n",
       "      <th></th>\n",
       "      <th></th>\n",
       "      <th></th>\n",
       "    </tr>\n",
       "  </thead>\n",
       "  <tbody>\n",
       "    <tr>\n",
       "      <th>1</th>\n",
       "      <td>Elon Musk</td>\n",
       "      <td>50.0</td>\n",
       "      <td>219000.0</td>\n",
       "      <td>Automotive</td>\n",
       "      <td>United States</td>\n",
       "      <td>M</td>\n",
       "      <td>CEO</td>\n",
       "      <td>30-50</td>\n",
       "    </tr>\n",
       "    <tr>\n",
       "      <th>3</th>\n",
       "      <td>Bernard Arnault &amp; family</td>\n",
       "      <td>73.0</td>\n",
       "      <td>158000.0</td>\n",
       "      <td>Fashion &amp; Retail</td>\n",
       "      <td>France</td>\n",
       "      <td>M</td>\n",
       "      <td>Chairman and CEO</td>\n",
       "      <td>70+</td>\n",
       "    </tr>\n",
       "    <tr>\n",
       "      <th>5</th>\n",
       "      <td>Warren Buffett</td>\n",
       "      <td>91.0</td>\n",
       "      <td>118000.0</td>\n",
       "      <td>Finance &amp; Investments</td>\n",
       "      <td>United States</td>\n",
       "      <td>M</td>\n",
       "      <td>CEO</td>\n",
       "      <td>70+</td>\n",
       "    </tr>\n",
       "    <tr>\n",
       "      <th>12</th>\n",
       "      <td>Michael Bloomberg</td>\n",
       "      <td>80.0</td>\n",
       "      <td>82000.0</td>\n",
       "      <td>Media &amp; Entertainment</td>\n",
       "      <td>United States</td>\n",
       "      <td>M</td>\n",
       "      <td>CEO</td>\n",
       "      <td>70+</td>\n",
       "    </tr>\n",
       "    <tr>\n",
       "      <th>16</th>\n",
       "      <td>Jim Walton</td>\n",
       "      <td>73.0</td>\n",
       "      <td>66200.0</td>\n",
       "      <td>Fashion &amp; Retail</td>\n",
       "      <td>United States</td>\n",
       "      <td>M</td>\n",
       "      <td>Chairman and CEO</td>\n",
       "      <td>70+</td>\n",
       "    </tr>\n",
       "    <tr>\n",
       "      <th>...</th>\n",
       "      <td>...</td>\n",
       "      <td>...</td>\n",
       "      <td>...</td>\n",
       "      <td>...</td>\n",
       "      <td>...</td>\n",
       "      <td>...</td>\n",
       "      <td>...</td>\n",
       "      <td>...</td>\n",
       "    </tr>\n",
       "    <tr>\n",
       "      <th>2324</th>\n",
       "      <td>Lee Sang-ryul</td>\n",
       "      <td>60.0</td>\n",
       "      <td>1200.0</td>\n",
       "      <td>Manufacturing</td>\n",
       "      <td>South Korea</td>\n",
       "      <td>M</td>\n",
       "      <td>Co-CEO</td>\n",
       "      <td>50-70</td>\n",
       "    </tr>\n",
       "    <tr>\n",
       "      <th>2324</th>\n",
       "      <td>Leonard Schleifer</td>\n",
       "      <td>69.0</td>\n",
       "      <td>1200.0</td>\n",
       "      <td>Healthcare</td>\n",
       "      <td>United States</td>\n",
       "      <td>M</td>\n",
       "      <td>CEO and Founder</td>\n",
       "      <td>50-70</td>\n",
       "    </tr>\n",
       "    <tr>\n",
       "      <th>2448</th>\n",
       "      <td>Lloyd Blankfein</td>\n",
       "      <td>67.0</td>\n",
       "      <td>1100.0</td>\n",
       "      <td>Finance &amp; Investments</td>\n",
       "      <td>United States</td>\n",
       "      <td>M</td>\n",
       "      <td>CEO</td>\n",
       "      <td>50-70</td>\n",
       "    </tr>\n",
       "    <tr>\n",
       "      <th>2578</th>\n",
       "      <td>Ronald Clarke</td>\n",
       "      <td>66.0</td>\n",
       "      <td>1000.0</td>\n",
       "      <td>Technology</td>\n",
       "      <td>United States</td>\n",
       "      <td>M</td>\n",
       "      <td>CEO</td>\n",
       "      <td>50-70</td>\n",
       "    </tr>\n",
       "    <tr>\n",
       "      <th>2578</th>\n",
       "      <td>Larry Fink</td>\n",
       "      <td>69.0</td>\n",
       "      <td>1000.0</td>\n",
       "      <td>Finance &amp; Investments</td>\n",
       "      <td>United States</td>\n",
       "      <td>M</td>\n",
       "      <td>Cofounder, CEO</td>\n",
       "      <td>50-70</td>\n",
       "    </tr>\n",
       "  </tbody>\n",
       "</table>\n",
       "<p>86 rows × 8 columns</p>\n",
       "</div>"
      ],
      "text/plain": [
       "                          isim   yas    servet              kategori,  \\\n",
       "sira                                                                    \n",
       "1                    Elon Musk  50.0  219000.0             Automotive   \n",
       "3     Bernard Arnault & family  73.0  158000.0       Fashion & Retail   \n",
       "5               Warren Buffett  91.0  118000.0  Finance & Investments   \n",
       "12           Michael Bloomberg  80.0   82000.0  Media & Entertainment   \n",
       "16                  Jim Walton  73.0   66200.0       Fashion & Retail   \n",
       "...                        ...   ...       ...                    ...   \n",
       "2324             Lee Sang-ryul  60.0    1200.0          Manufacturing   \n",
       "2324         Leonard Schleifer  69.0    1200.0             Healthcare   \n",
       "2448           Lloyd Blankfein  67.0    1100.0  Finance & Investments   \n",
       "2578             Ronald Clarke  66.0    1000.0             Technology   \n",
       "2578                Larry Fink  69.0    1000.0  Finance & Investments   \n",
       "\n",
       "               ulke cinsiyet             unvan yas_aralığı  \n",
       "sira                                                        \n",
       "1     United States        M               CEO       30-50  \n",
       "3            France        M  Chairman and CEO         70+  \n",
       "5     United States        M               CEO         70+  \n",
       "12    United States        M               CEO         70+  \n",
       "16    United States        M  Chairman and CEO         70+  \n",
       "...             ...      ...               ...         ...  \n",
       "2324    South Korea        M            Co-CEO       50-70  \n",
       "2324  United States        M   CEO and Founder       50-70  \n",
       "2448  United States        M               CEO       50-70  \n",
       "2578  United States        M               CEO       50-70  \n",
       "2578  United States        M    Cofounder, CEO       50-70  \n",
       "\n",
       "[86 rows x 8 columns]"
      ]
     },
     "execution_count": 83,
     "metadata": {},
     "output_type": "execute_result"
    }
   ],
   "source": [
    "CEO = df[df.unvan.str.contains(\"CEO|ceo\", na = False)] # **contains** bu kelimenin gectigi satirlari getir demek!!!!! \n",
    "CEO"
   ]
  },
  {
   "cell_type": "code",
   "execution_count": 84,
   "id": "e50d6023",
   "metadata": {
    "ExecuteTime": {
     "end_time": "2023-05-01T23:10:41.689363Z",
     "start_time": "2023-05-01T23:10:41.669371Z"
    }
   },
   "outputs": [
    {
     "name": "stdout",
     "output_type": "stream",
     "text": [
      "CEO yüzdelik dağılımı:  3.348909657320872\n"
     ]
    }
   ],
   "source": [
    "print(\"CEO yüzdelik dağılımı: \",CEO.shape[0] / df.shape[0] * 100) # Ceo nun yuzdeligi %3.35"
   ]
  },
  {
   "cell_type": "code",
   "execution_count": 86,
   "id": "ff266b49",
   "metadata": {
    "ExecuteTime": {
     "end_time": "2023-05-01T23:12:22.139660Z",
     "start_time": "2023-05-01T23:12:22.125370Z"
    }
   },
   "outputs": [
    {
     "data": {
      "text/html": [
       "<div>\n",
       "<style scoped>\n",
       "    .dataframe tbody tr th:only-of-type {\n",
       "        vertical-align: middle;\n",
       "    }\n",
       "\n",
       "    .dataframe tbody tr th {\n",
       "        vertical-align: top;\n",
       "    }\n",
       "\n",
       "    .dataframe thead th {\n",
       "        text-align: right;\n",
       "    }\n",
       "</style>\n",
       "<table border=\"1\" class=\"dataframe\">\n",
       "  <thead>\n",
       "    <tr style=\"text-align: right;\">\n",
       "      <th></th>\n",
       "      <th>isim</th>\n",
       "      <th>yas</th>\n",
       "      <th>servet</th>\n",
       "      <th>kategori,</th>\n",
       "      <th>ulke</th>\n",
       "      <th>cinsiyet</th>\n",
       "      <th>unvan</th>\n",
       "      <th>yas_aralığı</th>\n",
       "    </tr>\n",
       "    <tr>\n",
       "      <th>sira</th>\n",
       "      <th></th>\n",
       "      <th></th>\n",
       "      <th></th>\n",
       "      <th></th>\n",
       "      <th></th>\n",
       "      <th></th>\n",
       "      <th></th>\n",
       "      <th></th>\n",
       "    </tr>\n",
       "  </thead>\n",
       "  <tbody>\n",
       "    <tr>\n",
       "      <th>1</th>\n",
       "      <td>Elon Musk</td>\n",
       "      <td>50.0</td>\n",
       "      <td>219000.0</td>\n",
       "      <td>Automotive</td>\n",
       "      <td>United States</td>\n",
       "      <td>M</td>\n",
       "      <td>CEO</td>\n",
       "      <td>30-50</td>\n",
       "    </tr>\n",
       "    <tr>\n",
       "      <th>2</th>\n",
       "      <td>Jeff Bezos</td>\n",
       "      <td>58.0</td>\n",
       "      <td>171000.0</td>\n",
       "      <td>Technology</td>\n",
       "      <td>United States</td>\n",
       "      <td>M</td>\n",
       "      <td>Entrepreneur</td>\n",
       "      <td>50-70</td>\n",
       "    </tr>\n",
       "    <tr>\n",
       "      <th>3</th>\n",
       "      <td>Bernard Arnault &amp; family</td>\n",
       "      <td>73.0</td>\n",
       "      <td>158000.0</td>\n",
       "      <td>Fashion &amp; Retail</td>\n",
       "      <td>France</td>\n",
       "      <td>M</td>\n",
       "      <td>Chairman and CEO</td>\n",
       "      <td>70+</td>\n",
       "    </tr>\n",
       "    <tr>\n",
       "      <th>4</th>\n",
       "      <td>Bill Gates</td>\n",
       "      <td>66.0</td>\n",
       "      <td>129000.0</td>\n",
       "      <td>Technology</td>\n",
       "      <td>United States</td>\n",
       "      <td>M</td>\n",
       "      <td>Cofounder</td>\n",
       "      <td>50-70</td>\n",
       "    </tr>\n",
       "    <tr>\n",
       "      <th>5</th>\n",
       "      <td>Warren Buffett</td>\n",
       "      <td>91.0</td>\n",
       "      <td>118000.0</td>\n",
       "      <td>Finance &amp; Investments</td>\n",
       "      <td>United States</td>\n",
       "      <td>M</td>\n",
       "      <td>CEO</td>\n",
       "      <td>70+</td>\n",
       "    </tr>\n",
       "  </tbody>\n",
       "</table>\n",
       "</div>"
      ],
      "text/plain": [
       "                          isim   yas    servet              kategori,  \\\n",
       "sira                                                                    \n",
       "1                    Elon Musk  50.0  219000.0             Automotive   \n",
       "2                   Jeff Bezos  58.0  171000.0             Technology   \n",
       "3     Bernard Arnault & family  73.0  158000.0       Fashion & Retail   \n",
       "4                   Bill Gates  66.0  129000.0             Technology   \n",
       "5               Warren Buffett  91.0  118000.0  Finance & Investments   \n",
       "\n",
       "               ulke cinsiyet             unvan yas_aralığı  \n",
       "sira                                                        \n",
       "1     United States        M               CEO       30-50  \n",
       "2     United States        M      Entrepreneur       50-70  \n",
       "3            France        M  Chairman and CEO         70+  \n",
       "4     United States        M         Cofounder       50-70  \n",
       "5     United States        M               CEO         70+  "
      ]
     },
     "execution_count": 86,
     "metadata": {},
     "output_type": "execute_result"
    }
   ],
   "source": [
    "df.head()"
   ]
  },
  {
   "cell_type": "code",
   "execution_count": 94,
   "id": "20ce7b59",
   "metadata": {
    "ExecuteTime": {
     "end_time": "2023-05-01T23:14:19.493016Z",
     "start_time": "2023-05-01T23:14:19.276616Z"
    }
   },
   "outputs": [
    {
     "data": {
      "text/plain": [
       "<AxesSubplot:>"
      ]
     },
     "execution_count": 94,
     "metadata": {},
     "output_type": "execute_result"
    },
    {
     "data": {
      "image/png": "[encoded data removed]",
      "text/plain": [
       "<Figure size 640x480 with 1 Axes>"
      ]
     },
     "metadata": {},
     "output_type": "display_data"
    }
   ],
   "source": [
    "df[\"kategori,\"].value_counts().plot(kind = \"bar\")"
   ]
  },
  {
   "cell_type": "markdown",
   "id": "6f89f1f6",
   "metadata": {},
   "source": [
    "# Dunyanin en zengin ilk 20 kisisi"
   ]
  },
  {
   "cell_type": "code",
   "execution_count": 96,
   "id": "6b63bfcf",
   "metadata": {
    "ExecuteTime": {
     "end_time": "2023-05-01T23:16:30.292005Z",
     "start_time": "2023-05-01T23:16:30.065608Z"
    }
   },
   "outputs": [
    {
     "data": {
      "image/png": "[encoded data removed]",
      "text/plain": [
       "<Figure size 640x480 with 1 Axes>"
      ]
     },
     "metadata": {},
     "output_type": "display_data"
    }
   ],
   "source": [
    "sns.barplot(y = df[\"isim\"][:20], x = df[\"servet\"][:20]);"
   ]
  },
  {
   "cell_type": "code",
   "execution_count": 97,
   "id": "34ad6c4e",
   "metadata": {
    "ExecuteTime": {
     "end_time": "2023-05-01T23:16:51.070510Z",
     "start_time": "2023-05-01T23:16:51.059507Z"
    }
   },
   "outputs": [
    {
     "data": {
      "text/plain": [
       "73"
      ]
     },
     "execution_count": 97,
     "metadata": {},
     "output_type": "execute_result"
    }
   ],
   "source": [
    "len(df.ulke.unique())"
   ]
  },
  {
   "cell_type": "code",
   "execution_count": 98,
   "id": "94372402",
   "metadata": {
    "ExecuteTime": {
     "end_time": "2023-05-01T23:17:24.588573Z",
     "start_time": "2023-05-01T23:17:24.570567Z"
    }
   },
   "outputs": [],
   "source": [
    "df_ulke = df.groupby(\"ulke\")"
   ]
  },
  {
   "cell_type": "code",
   "execution_count": 99,
   "id": "7eeeeaf5",
   "metadata": {
    "ExecuteTime": {
     "end_time": "2023-05-01T23:19:44.064500Z",
     "start_time": "2023-05-01T23:19:44.048442Z"
    }
   },
   "outputs": [
    {
     "data": {
      "text/html": [
       "<div>\n",
       "<style scoped>\n",
       "    .dataframe tbody tr th:only-of-type {\n",
       "        vertical-align: middle;\n",
       "    }\n",
       "\n",
       "    .dataframe tbody tr th {\n",
       "        vertical-align: top;\n",
       "    }\n",
       "\n",
       "    .dataframe thead th {\n",
       "        text-align: right;\n",
       "    }\n",
       "</style>\n",
       "<table border=\"1\" class=\"dataframe\">\n",
       "  <thead>\n",
       "    <tr style=\"text-align: right;\">\n",
       "      <th></th>\n",
       "      <th>sayi</th>\n",
       "    </tr>\n",
       "    <tr>\n",
       "      <th>ulke</th>\n",
       "      <th></th>\n",
       "    </tr>\n",
       "  </thead>\n",
       "  <tbody>\n",
       "    <tr>\n",
       "      <th>United States</th>\n",
       "      <td>742</td>\n",
       "    </tr>\n",
       "    <tr>\n",
       "      <th>China</th>\n",
       "      <td>546</td>\n",
       "    </tr>\n",
       "    <tr>\n",
       "      <th>India</th>\n",
       "      <td>154</td>\n",
       "    </tr>\n",
       "    <tr>\n",
       "      <th>Germany</th>\n",
       "      <td>94</td>\n",
       "    </tr>\n",
       "    <tr>\n",
       "      <th>United Kingdom</th>\n",
       "      <td>81</td>\n",
       "    </tr>\n",
       "    <tr>\n",
       "      <th>...</th>\n",
       "      <td>...</td>\n",
       "    </tr>\n",
       "    <tr>\n",
       "      <th>Andorra</th>\n",
       "      <td>1</td>\n",
       "    </tr>\n",
       "    <tr>\n",
       "      <th>Liechtenstein</th>\n",
       "      <td>1</td>\n",
       "    </tr>\n",
       "    <tr>\n",
       "      <th>Nepal</th>\n",
       "      <td>1</td>\n",
       "    </tr>\n",
       "    <tr>\n",
       "      <th>Oman</th>\n",
       "      <td>1</td>\n",
       "    </tr>\n",
       "    <tr>\n",
       "      <th>Algeria</th>\n",
       "      <td>1</td>\n",
       "    </tr>\n",
       "  </tbody>\n",
       "</table>\n",
       "<p>73 rows × 1 columns</p>\n",
       "</div>"
      ],
      "text/plain": [
       "                sayi\n",
       "ulke                \n",
       "United States    742\n",
       "China            546\n",
       "India            154\n",
       "Germany           94\n",
       "United Kingdom    81\n",
       "...              ...\n",
       "Andorra            1\n",
       "Liechtenstein      1\n",
       "Nepal              1\n",
       "Oman               1\n",
       "Algeria            1\n",
       "\n",
       "[73 rows x 1 columns]"
      ]
     },
     "execution_count": 99,
     "metadata": {},
     "output_type": "execute_result"
    }
   ],
   "source": [
    "df_ulke_sayisi = pd.DataFrame(df_ulke.size().sort_values(ascending= False), columns=[\"sayi\"])\n",
    "df_ulke_sayisi"
   ]
  },
  {
   "cell_type": "code",
   "execution_count": 100,
   "id": "29718dec",
   "metadata": {
    "ExecuteTime": {
     "end_time": "2023-05-01T23:21:27.050510Z",
     "start_time": "2023-05-01T23:21:27.025060Z"
    }
   },
   "outputs": [
    {
     "data": {
      "text/html": [
       "<div>\n",
       "<style scoped>\n",
       "    .dataframe tbody tr th:only-of-type {\n",
       "        vertical-align: middle;\n",
       "    }\n",
       "\n",
       "    .dataframe tbody tr th {\n",
       "        vertical-align: top;\n",
       "    }\n",
       "\n",
       "    .dataframe thead th {\n",
       "        text-align: right;\n",
       "    }\n",
       "</style>\n",
       "<table border=\"1\" class=\"dataframe\">\n",
       "  <thead>\n",
       "    <tr style=\"text-align: right;\">\n",
       "      <th></th>\n",
       "      <th>isim</th>\n",
       "      <th>yas</th>\n",
       "      <th>servet</th>\n",
       "      <th>kategori,</th>\n",
       "      <th>ulke</th>\n",
       "      <th>cinsiyet</th>\n",
       "      <th>unvan</th>\n",
       "      <th>yas_aralığı</th>\n",
       "    </tr>\n",
       "    <tr>\n",
       "      <th>sira</th>\n",
       "      <th></th>\n",
       "      <th></th>\n",
       "      <th></th>\n",
       "      <th></th>\n",
       "      <th></th>\n",
       "      <th></th>\n",
       "      <th></th>\n",
       "      <th></th>\n",
       "    </tr>\n",
       "  </thead>\n",
       "  <tbody>\n",
       "    <tr>\n",
       "      <th>1</th>\n",
       "      <td>Elon Musk</td>\n",
       "      <td>50.0</td>\n",
       "      <td>219000.0</td>\n",
       "      <td>Automotive</td>\n",
       "      <td>United States</td>\n",
       "      <td>M</td>\n",
       "      <td>CEO</td>\n",
       "      <td>30-50</td>\n",
       "    </tr>\n",
       "    <tr>\n",
       "      <th>2</th>\n",
       "      <td>Jeff Bezos</td>\n",
       "      <td>58.0</td>\n",
       "      <td>171000.0</td>\n",
       "      <td>Technology</td>\n",
       "      <td>United States</td>\n",
       "      <td>M</td>\n",
       "      <td>Entrepreneur</td>\n",
       "      <td>50-70</td>\n",
       "    </tr>\n",
       "    <tr>\n",
       "      <th>4</th>\n",
       "      <td>Bill Gates</td>\n",
       "      <td>66.0</td>\n",
       "      <td>129000.0</td>\n",
       "      <td>Technology</td>\n",
       "      <td>United States</td>\n",
       "      <td>M</td>\n",
       "      <td>Cofounder</td>\n",
       "      <td>50-70</td>\n",
       "    </tr>\n",
       "    <tr>\n",
       "      <th>5</th>\n",
       "      <td>Warren Buffett</td>\n",
       "      <td>91.0</td>\n",
       "      <td>118000.0</td>\n",
       "      <td>Finance &amp; Investments</td>\n",
       "      <td>United States</td>\n",
       "      <td>M</td>\n",
       "      <td>CEO</td>\n",
       "      <td>70+</td>\n",
       "    </tr>\n",
       "    <tr>\n",
       "      <th>6</th>\n",
       "      <td>Larry Page</td>\n",
       "      <td>49.0</td>\n",
       "      <td>111000.0</td>\n",
       "      <td>Technology</td>\n",
       "      <td>United States</td>\n",
       "      <td>M</td>\n",
       "      <td>Entrepreneur</td>\n",
       "      <td>30-50</td>\n",
       "    </tr>\n",
       "    <tr>\n",
       "      <th>...</th>\n",
       "      <td>...</td>\n",
       "      <td>...</td>\n",
       "      <td>...</td>\n",
       "      <td>...</td>\n",
       "      <td>...</td>\n",
       "      <td>...</td>\n",
       "      <td>...</td>\n",
       "      <td>...</td>\n",
       "    </tr>\n",
       "    <tr>\n",
       "      <th>2578</th>\n",
       "      <td>Mike Speiser</td>\n",
       "      <td>51.0</td>\n",
       "      <td>1000.0</td>\n",
       "      <td>Technology</td>\n",
       "      <td>United States</td>\n",
       "      <td>M</td>\n",
       "      <td>Managing Director</td>\n",
       "      <td>50-70</td>\n",
       "    </tr>\n",
       "    <tr>\n",
       "      <th>2578</th>\n",
       "      <td>Jeff Sprecher</td>\n",
       "      <td>67.0</td>\n",
       "      <td>1000.0</td>\n",
       "      <td>Finance &amp; Investments</td>\n",
       "      <td>United States</td>\n",
       "      <td>M</td>\n",
       "      <td>Billionair</td>\n",
       "      <td>50-70</td>\n",
       "    </tr>\n",
       "    <tr>\n",
       "      <th>2578</th>\n",
       "      <td>Axel Stawski</td>\n",
       "      <td>71.0</td>\n",
       "      <td>1000.0</td>\n",
       "      <td>Real Estate</td>\n",
       "      <td>United States</td>\n",
       "      <td>M</td>\n",
       "      <td>Billionair</td>\n",
       "      <td>70+</td>\n",
       "    </tr>\n",
       "    <tr>\n",
       "      <th>2578</th>\n",
       "      <td>Joseph Steinberg</td>\n",
       "      <td>78.0</td>\n",
       "      <td>1000.0</td>\n",
       "      <td>Finance &amp; Investments</td>\n",
       "      <td>United States</td>\n",
       "      <td>M</td>\n",
       "      <td>Billionair</td>\n",
       "      <td>70+</td>\n",
       "    </tr>\n",
       "    <tr>\n",
       "      <th>2578</th>\n",
       "      <td>Richard Yuengling, Jr.</td>\n",
       "      <td>79.0</td>\n",
       "      <td>1000.0</td>\n",
       "      <td>Food &amp; Beverage</td>\n",
       "      <td>United States</td>\n",
       "      <td>M</td>\n",
       "      <td>Billionair</td>\n",
       "      <td>70+</td>\n",
       "    </tr>\n",
       "  </tbody>\n",
       "</table>\n",
       "<p>742 rows × 8 columns</p>\n",
       "</div>"
      ],
      "text/plain": [
       "                        isim   yas    servet              kategori,  \\\n",
       "sira                                                                  \n",
       "1                  Elon Musk  50.0  219000.0             Automotive   \n",
       "2                 Jeff Bezos  58.0  171000.0             Technology   \n",
       "4                 Bill Gates  66.0  129000.0             Technology   \n",
       "5             Warren Buffett  91.0  118000.0  Finance & Investments   \n",
       "6                 Larry Page  49.0  111000.0             Technology   \n",
       "...                      ...   ...       ...                    ...   \n",
       "2578            Mike Speiser  51.0    1000.0             Technology   \n",
       "2578           Jeff Sprecher  67.0    1000.0  Finance & Investments   \n",
       "2578            Axel Stawski  71.0    1000.0            Real Estate   \n",
       "2578        Joseph Steinberg  78.0    1000.0  Finance & Investments   \n",
       "2578  Richard Yuengling, Jr.  79.0    1000.0        Food & Beverage   \n",
       "\n",
       "               ulke cinsiyet              unvan yas_aralığı  \n",
       "sira                                                         \n",
       "1     United States        M                CEO       30-50  \n",
       "2     United States        M       Entrepreneur       50-70  \n",
       "4     United States        M          Cofounder       50-70  \n",
       "5     United States        M                CEO         70+  \n",
       "6     United States        M       Entrepreneur       30-50  \n",
       "...             ...      ...                ...         ...  \n",
       "2578  United States        M  Managing Director       50-70  \n",
       "2578  United States        M         Billionair       50-70  \n",
       "2578  United States        M         Billionair         70+  \n",
       "2578  United States        M         Billionair         70+  \n",
       "2578  United States        M         Billionair         70+  \n",
       "\n",
       "[742 rows x 8 columns]"
      ]
     },
     "execution_count": 100,
     "metadata": {},
     "output_type": "execute_result"
    }
   ],
   "source": [
    "df_USA = df[df.ulke == \"United States\"] \n",
    "df_USA"
   ]
  },
  {
   "cell_type": "code",
   "execution_count": 101,
   "id": "ed797bc9",
   "metadata": {
    "ExecuteTime": {
     "end_time": "2023-05-01T23:22:03.788399Z",
     "start_time": "2023-05-01T23:22:03.766973Z"
    }
   },
   "outputs": [
    {
     "data": {
      "text/html": [
       "<div>\n",
       "<style scoped>\n",
       "    .dataframe tbody tr th:only-of-type {\n",
       "        vertical-align: middle;\n",
       "    }\n",
       "\n",
       "    .dataframe tbody tr th {\n",
       "        vertical-align: top;\n",
       "    }\n",
       "\n",
       "    .dataframe thead th {\n",
       "        text-align: right;\n",
       "    }\n",
       "</style>\n",
       "<table border=\"1\" class=\"dataframe\">\n",
       "  <thead>\n",
       "    <tr style=\"text-align: right;\">\n",
       "      <th></th>\n",
       "      <th>isim</th>\n",
       "      <th>yas</th>\n",
       "      <th>servet</th>\n",
       "      <th>kategori,</th>\n",
       "      <th>ulke</th>\n",
       "      <th>cinsiyet</th>\n",
       "      <th>unvan</th>\n",
       "      <th>yas_aralığı</th>\n",
       "    </tr>\n",
       "    <tr>\n",
       "      <th>sira</th>\n",
       "      <th></th>\n",
       "      <th></th>\n",
       "      <th></th>\n",
       "      <th></th>\n",
       "      <th></th>\n",
       "      <th></th>\n",
       "      <th></th>\n",
       "      <th></th>\n",
       "    </tr>\n",
       "  </thead>\n",
       "  <tbody>\n",
       "    <tr>\n",
       "      <th>17</th>\n",
       "      <td>Zhong Shanshan</td>\n",
       "      <td>67.0</td>\n",
       "      <td>65700.0</td>\n",
       "      <td>Food &amp; Beverage</td>\n",
       "      <td>China</td>\n",
       "      <td>M</td>\n",
       "      <td>Billionair</td>\n",
       "      <td>50-70</td>\n",
       "    </tr>\n",
       "    <tr>\n",
       "      <th>25</th>\n",
       "      <td>Zhang Yiming</td>\n",
       "      <td>38.0</td>\n",
       "      <td>50000.0</td>\n",
       "      <td>Media &amp; Entertainment</td>\n",
       "      <td>China</td>\n",
       "      <td>M</td>\n",
       "      <td>Founder</td>\n",
       "      <td>30-50</td>\n",
       "    </tr>\n",
       "    <tr>\n",
       "      <th>29</th>\n",
       "      <td>Robin Zeng</td>\n",
       "      <td>53.0</td>\n",
       "      <td>44800.0</td>\n",
       "      <td>Automotive</td>\n",
       "      <td>China</td>\n",
       "      <td>M</td>\n",
       "      <td>Billionair</td>\n",
       "      <td>50-70</td>\n",
       "    </tr>\n",
       "    <tr>\n",
       "      <th>34</th>\n",
       "      <td>Ma Huateng</td>\n",
       "      <td>50.0</td>\n",
       "      <td>37200.0</td>\n",
       "      <td>Technology</td>\n",
       "      <td>China</td>\n",
       "      <td>M</td>\n",
       "      <td>Chairman and CEO</td>\n",
       "      <td>30-50</td>\n",
       "    </tr>\n",
       "    <tr>\n",
       "      <th>49</th>\n",
       "      <td>He Xiangjian</td>\n",
       "      <td>79.0</td>\n",
       "      <td>28300.0</td>\n",
       "      <td>Manufacturing</td>\n",
       "      <td>China</td>\n",
       "      <td>M</td>\n",
       "      <td>Billionair</td>\n",
       "      <td>70+</td>\n",
       "    </tr>\n",
       "    <tr>\n",
       "      <th>...</th>\n",
       "      <td>...</td>\n",
       "      <td>...</td>\n",
       "      <td>...</td>\n",
       "      <td>...</td>\n",
       "      <td>...</td>\n",
       "      <td>...</td>\n",
       "      <td>...</td>\n",
       "      <td>...</td>\n",
       "    </tr>\n",
       "    <tr>\n",
       "      <th>2578</th>\n",
       "      <td>Zhang Yuqiang</td>\n",
       "      <td>66.0</td>\n",
       "      <td>1000.0</td>\n",
       "      <td>Manufacturing</td>\n",
       "      <td>China</td>\n",
       "      <td>M</td>\n",
       "      <td>Billionair</td>\n",
       "      <td>50-70</td>\n",
       "    </tr>\n",
       "    <tr>\n",
       "      <th>2578</th>\n",
       "      <td>Zhou Ruxin</td>\n",
       "      <td>59.0</td>\n",
       "      <td>1000.0</td>\n",
       "      <td>Technology</td>\n",
       "      <td>China</td>\n",
       "      <td>M</td>\n",
       "      <td>Billionair</td>\n",
       "      <td>50-70</td>\n",
       "    </tr>\n",
       "    <tr>\n",
       "      <th>2578</th>\n",
       "      <td>Wen Zhou &amp; family</td>\n",
       "      <td>57.0</td>\n",
       "      <td>1000.0</td>\n",
       "      <td>Manufacturing</td>\n",
       "      <td>China</td>\n",
       "      <td>M</td>\n",
       "      <td>Billionair</td>\n",
       "      <td>50-70</td>\n",
       "    </tr>\n",
       "    <tr>\n",
       "      <th>2578</th>\n",
       "      <td>Zhou Yifeng &amp; family</td>\n",
       "      <td>43.0</td>\n",
       "      <td>1000.0</td>\n",
       "      <td>Energy</td>\n",
       "      <td>China</td>\n",
       "      <td>F</td>\n",
       "      <td>Billionair</td>\n",
       "      <td>30-50</td>\n",
       "    </tr>\n",
       "    <tr>\n",
       "      <th>2578</th>\n",
       "      <td>Zhuang Kuilong &amp; family</td>\n",
       "      <td>59.0</td>\n",
       "      <td>1000.0</td>\n",
       "      <td>Manufacturing</td>\n",
       "      <td>China</td>\n",
       "      <td>M</td>\n",
       "      <td>Billionair</td>\n",
       "      <td>50-70</td>\n",
       "    </tr>\n",
       "  </tbody>\n",
       "</table>\n",
       "<p>546 rows × 8 columns</p>\n",
       "</div>"
      ],
      "text/plain": [
       "                         isim   yas   servet              kategori,   ulke  \\\n",
       "sira                                                                         \n",
       "17             Zhong Shanshan  67.0  65700.0        Food & Beverage  China   \n",
       "25               Zhang Yiming  38.0  50000.0  Media & Entertainment  China   \n",
       "29                 Robin Zeng  53.0  44800.0             Automotive  China   \n",
       "34                 Ma Huateng  50.0  37200.0             Technology  China   \n",
       "49               He Xiangjian  79.0  28300.0          Manufacturing  China   \n",
       "...                       ...   ...      ...                    ...    ...   \n",
       "2578            Zhang Yuqiang  66.0   1000.0          Manufacturing  China   \n",
       "2578               Zhou Ruxin  59.0   1000.0             Technology  China   \n",
       "2578        Wen Zhou & family  57.0   1000.0          Manufacturing  China   \n",
       "2578     Zhou Yifeng & family  43.0   1000.0                 Energy  China   \n",
       "2578  Zhuang Kuilong & family  59.0   1000.0          Manufacturing  China   \n",
       "\n",
       "     cinsiyet             unvan yas_aralığı  \n",
       "sira                                         \n",
       "17          M        Billionair       50-70  \n",
       "25          M           Founder       30-50  \n",
       "29          M        Billionair       50-70  \n",
       "34          M  Chairman and CEO       30-50  \n",
       "49          M        Billionair         70+  \n",
       "...       ...               ...         ...  \n",
       "2578        M        Billionair       50-70  \n",
       "2578        M        Billionair       50-70  \n",
       "2578        M        Billionair       50-70  \n",
       "2578        F        Billionair       30-50  \n",
       "2578        M        Billionair       50-70  \n",
       "\n",
       "[546 rows x 8 columns]"
      ]
     },
     "execution_count": 101,
     "metadata": {},
     "output_type": "execute_result"
    }
   ],
   "source": [
    "df_China = df[df.ulke == \"China\"] \n",
    "df_China"
   ]
  },
  {
   "cell_type": "code",
   "execution_count": null,
   "id": "01e7da01",
   "metadata": {},
   "outputs": [],
   "source": []
  },
  {
   "cell_type": "code",
   "execution_count": 105,
   "id": "d148c4ca",
   "metadata": {
    "ExecuteTime": {
     "end_time": "2023-05-01T23:28:39.009914Z",
     "start_time": "2023-05-01T23:28:38.988072Z"
    }
   },
   "outputs": [
    {
     "data": {
      "text/html": [
       "<div>\n",
       "<style scoped>\n",
       "    .dataframe tbody tr th:only-of-type {\n",
       "        vertical-align: middle;\n",
       "    }\n",
       "\n",
       "    .dataframe tbody tr th {\n",
       "        vertical-align: top;\n",
       "    }\n",
       "\n",
       "    .dataframe thead th {\n",
       "        text-align: right;\n",
       "    }\n",
       "</style>\n",
       "<table border=\"1\" class=\"dataframe\">\n",
       "  <thead>\n",
       "    <tr style=\"text-align: right;\">\n",
       "      <th></th>\n",
       "      <th>isim</th>\n",
       "      <th>yas</th>\n",
       "      <th>servet</th>\n",
       "      <th>kategori,</th>\n",
       "      <th>ulke</th>\n",
       "      <th>cinsiyet</th>\n",
       "      <th>unvan</th>\n",
       "      <th>yas_aralığı</th>\n",
       "    </tr>\n",
       "    <tr>\n",
       "      <th>sira</th>\n",
       "      <th></th>\n",
       "      <th></th>\n",
       "      <th></th>\n",
       "      <th></th>\n",
       "      <th></th>\n",
       "      <th></th>\n",
       "      <th></th>\n",
       "      <th></th>\n",
       "    </tr>\n",
       "  </thead>\n",
       "  <tbody>\n",
       "    <tr>\n",
       "      <th>10</th>\n",
       "      <td>Mukesh Ambani</td>\n",
       "      <td>64.0</td>\n",
       "      <td>90700.0</td>\n",
       "      <td>Diversified</td>\n",
       "      <td>India</td>\n",
       "      <td>M</td>\n",
       "      <td>Founder and Chairman</td>\n",
       "      <td>50-70</td>\n",
       "    </tr>\n",
       "    <tr>\n",
       "      <th>11</th>\n",
       "      <td>Gautam Adani &amp; family</td>\n",
       "      <td>59.0</td>\n",
       "      <td>90000.0</td>\n",
       "      <td>Diversified</td>\n",
       "      <td>India</td>\n",
       "      <td>M</td>\n",
       "      <td>Billionair</td>\n",
       "      <td>50-70</td>\n",
       "    </tr>\n",
       "    <tr>\n",
       "      <th>47</th>\n",
       "      <td>Shiv Nadar</td>\n",
       "      <td>76.0</td>\n",
       "      <td>28700.0</td>\n",
       "      <td>Technology</td>\n",
       "      <td>India</td>\n",
       "      <td>M</td>\n",
       "      <td>Billionair</td>\n",
       "      <td>70+</td>\n",
       "    </tr>\n",
       "    <tr>\n",
       "      <th>56</th>\n",
       "      <td>Cyrus Poonawalla</td>\n",
       "      <td>80.0</td>\n",
       "      <td>24300.0</td>\n",
       "      <td>Healthcare</td>\n",
       "      <td>India</td>\n",
       "      <td>M</td>\n",
       "      <td>Billionair</td>\n",
       "      <td>70+</td>\n",
       "    </tr>\n",
       "    <tr>\n",
       "      <th>81</th>\n",
       "      <td>Radhakishan Damani</td>\n",
       "      <td>67.0</td>\n",
       "      <td>20000.0</td>\n",
       "      <td>Fashion &amp; Retail</td>\n",
       "      <td>India</td>\n",
       "      <td>M</td>\n",
       "      <td>Billionair</td>\n",
       "      <td>50-70</td>\n",
       "    </tr>\n",
       "    <tr>\n",
       "      <th>...</th>\n",
       "      <td>...</td>\n",
       "      <td>...</td>\n",
       "      <td>...</td>\n",
       "      <td>...</td>\n",
       "      <td>...</td>\n",
       "      <td>...</td>\n",
       "      <td>...</td>\n",
       "      <td>...</td>\n",
       "    </tr>\n",
       "    <tr>\n",
       "      <th>2578</th>\n",
       "      <td>G.V. Prasad</td>\n",
       "      <td>61.0</td>\n",
       "      <td>1000.0</td>\n",
       "      <td>Healthcare</td>\n",
       "      <td>India</td>\n",
       "      <td>M</td>\n",
       "      <td>Billionair</td>\n",
       "      <td>50-70</td>\n",
       "    </tr>\n",
       "    <tr>\n",
       "      <th>2578</th>\n",
       "      <td>Jupally Rameshwar Rao</td>\n",
       "      <td>66.0</td>\n",
       "      <td>1000.0</td>\n",
       "      <td>Real Estate</td>\n",
       "      <td>India</td>\n",
       "      <td>M</td>\n",
       "      <td>Billionair</td>\n",
       "      <td>50-70</td>\n",
       "    </tr>\n",
       "    <tr>\n",
       "      <th>2578</th>\n",
       "      <td>Dhruv Sawhney</td>\n",
       "      <td>77.0</td>\n",
       "      <td>1000.0</td>\n",
       "      <td>Construction &amp; Engineering</td>\n",
       "      <td>India</td>\n",
       "      <td>M</td>\n",
       "      <td>Billionair</td>\n",
       "      <td>70+</td>\n",
       "    </tr>\n",
       "    <tr>\n",
       "      <th>2578</th>\n",
       "      <td>Ramesh Chandra Sharma</td>\n",
       "      <td>77.0</td>\n",
       "      <td>1000.0</td>\n",
       "      <td>Finance &amp; Investments</td>\n",
       "      <td>India</td>\n",
       "      <td>M</td>\n",
       "      <td>Billionair</td>\n",
       "      <td>70+</td>\n",
       "    </tr>\n",
       "    <tr>\n",
       "      <th>2578</th>\n",
       "      <td>Bhawari Bai Surana</td>\n",
       "      <td>76.0</td>\n",
       "      <td>1000.0</td>\n",
       "      <td>Healthcare</td>\n",
       "      <td>India</td>\n",
       "      <td>F</td>\n",
       "      <td>Billionair</td>\n",
       "      <td>70+</td>\n",
       "    </tr>\n",
       "  </tbody>\n",
       "</table>\n",
       "<p>154 rows × 8 columns</p>\n",
       "</div>"
      ],
      "text/plain": [
       "                       isim   yas   servet                   kategori,   ulke  \\\n",
       "sira                                                                            \n",
       "10            Mukesh Ambani  64.0  90700.0                 Diversified  India   \n",
       "11    Gautam Adani & family  59.0  90000.0                 Diversified  India   \n",
       "47               Shiv Nadar  76.0  28700.0                  Technology  India   \n",
       "56         Cyrus Poonawalla  80.0  24300.0                  Healthcare  India   \n",
       "81       Radhakishan Damani  67.0  20000.0            Fashion & Retail  India   \n",
       "...                     ...   ...      ...                         ...    ...   \n",
       "2578            G.V. Prasad  61.0   1000.0                  Healthcare  India   \n",
       "2578  Jupally Rameshwar Rao  66.0   1000.0                 Real Estate  India   \n",
       "2578          Dhruv Sawhney  77.0   1000.0  Construction & Engineering  India   \n",
       "2578  Ramesh Chandra Sharma  77.0   1000.0       Finance & Investments  India   \n",
       "2578     Bhawari Bai Surana  76.0   1000.0                  Healthcare  India   \n",
       "\n",
       "     cinsiyet                 unvan yas_aralığı  \n",
       "sira                                             \n",
       "10          M  Founder and Chairman       50-70  \n",
       "11          M            Billionair       50-70  \n",
       "47          M            Billionair         70+  \n",
       "56          M            Billionair         70+  \n",
       "81          M            Billionair       50-70  \n",
       "...       ...                   ...         ...  \n",
       "2578        M            Billionair       50-70  \n",
       "2578        M            Billionair       50-70  \n",
       "2578        M            Billionair         70+  \n",
       "2578        M            Billionair         70+  \n",
       "2578        F            Billionair         70+  \n",
       "\n",
       "[154 rows x 8 columns]"
      ]
     },
     "execution_count": 105,
     "metadata": {},
     "output_type": "execute_result"
    }
   ],
   "source": [
    "df_India = df[df.ulke == \"India\"] \n",
    "df_India"
   ]
  },
  {
   "cell_type": "code",
   "execution_count": 107,
   "id": "76e15bd9",
   "metadata": {
    "ExecuteTime": {
     "end_time": "2023-05-01T23:29:38.113343Z",
     "start_time": "2023-05-01T23:29:38.091298Z"
    }
   },
   "outputs": [
    {
     "data": {
      "text/html": [
       "<div>\n",
       "<style scoped>\n",
       "    .dataframe tbody tr th:only-of-type {\n",
       "        vertical-align: middle;\n",
       "    }\n",
       "\n",
       "    .dataframe tbody tr th {\n",
       "        vertical-align: top;\n",
       "    }\n",
       "\n",
       "    .dataframe thead th {\n",
       "        text-align: right;\n",
       "    }\n",
       "</style>\n",
       "<table border=\"1\" class=\"dataframe\">\n",
       "  <thead>\n",
       "    <tr style=\"text-align: right;\">\n",
       "      <th></th>\n",
       "      <th>isim</th>\n",
       "      <th>yas</th>\n",
       "      <th>servet</th>\n",
       "      <th>kategori,</th>\n",
       "      <th>ulke</th>\n",
       "      <th>cinsiyet</th>\n",
       "      <th>unvan</th>\n",
       "      <th>yas_aralığı</th>\n",
       "    </tr>\n",
       "    <tr>\n",
       "      <th>sira</th>\n",
       "      <th></th>\n",
       "      <th></th>\n",
       "      <th></th>\n",
       "      <th></th>\n",
       "      <th></th>\n",
       "      <th></th>\n",
       "      <th></th>\n",
       "      <th></th>\n",
       "    </tr>\n",
       "  </thead>\n",
       "  <tbody>\n",
       "    <tr>\n",
       "      <th>28</th>\n",
       "      <td>Dieter Schwarz</td>\n",
       "      <td>82.0</td>\n",
       "      <td>47100.0</td>\n",
       "      <td>Fashion &amp; Retail</td>\n",
       "      <td>Germany</td>\n",
       "      <td>M</td>\n",
       "      <td>Billionair</td>\n",
       "      <td>70+</td>\n",
       "    </tr>\n",
       "    <tr>\n",
       "      <th>56</th>\n",
       "      <td>Susanne Klatten</td>\n",
       "      <td>59.0</td>\n",
       "      <td>24300.0</td>\n",
       "      <td>Automotive</td>\n",
       "      <td>Germany</td>\n",
       "      <td>F</td>\n",
       "      <td>Billionair</td>\n",
       "      <td>50-70</td>\n",
       "    </tr>\n",
       "    <tr>\n",
       "      <th>77</th>\n",
       "      <td>Stefan Quandt</td>\n",
       "      <td>55.0</td>\n",
       "      <td>20700.0</td>\n",
       "      <td>Automotive</td>\n",
       "      <td>Germany</td>\n",
       "      <td>M</td>\n",
       "      <td>Billionair</td>\n",
       "      <td>50-70</td>\n",
       "    </tr>\n",
       "    <tr>\n",
       "      <th>84</th>\n",
       "      <td>Reinhold Wuerth &amp; family</td>\n",
       "      <td>86.0</td>\n",
       "      <td>19000.0</td>\n",
       "      <td>Manufacturing</td>\n",
       "      <td>Germany</td>\n",
       "      <td>M</td>\n",
       "      <td>Billionair</td>\n",
       "      <td>70+</td>\n",
       "    </tr>\n",
       "    <tr>\n",
       "      <th>85</th>\n",
       "      <td>Theo Albrecht, Jr. &amp; family</td>\n",
       "      <td>71.0</td>\n",
       "      <td>18700.0</td>\n",
       "      <td>Fashion &amp; Retail</td>\n",
       "      <td>Germany</td>\n",
       "      <td>M</td>\n",
       "      <td>Billionair</td>\n",
       "      <td>70+</td>\n",
       "    </tr>\n",
       "    <tr>\n",
       "      <th>...</th>\n",
       "      <td>...</td>\n",
       "      <td>...</td>\n",
       "      <td>...</td>\n",
       "      <td>...</td>\n",
       "      <td>...</td>\n",
       "      <td>...</td>\n",
       "      <td>...</td>\n",
       "      <td>...</td>\n",
       "    </tr>\n",
       "    <tr>\n",
       "      <th>2578</th>\n",
       "      <td>Karl Friedrich Braun</td>\n",
       "      <td>39.0</td>\n",
       "      <td>1000.0</td>\n",
       "      <td>Healthcare</td>\n",
       "      <td>Germany</td>\n",
       "      <td>M</td>\n",
       "      <td>Billionair</td>\n",
       "      <td>30-50</td>\n",
       "    </tr>\n",
       "    <tr>\n",
       "      <th>2578</th>\n",
       "      <td>Horst-Otto Gerberding</td>\n",
       "      <td>69.0</td>\n",
       "      <td>1000.0</td>\n",
       "      <td>Food &amp; Beverage</td>\n",
       "      <td>Germany</td>\n",
       "      <td>M</td>\n",
       "      <td>Billionair</td>\n",
       "      <td>50-70</td>\n",
       "    </tr>\n",
       "    <tr>\n",
       "      <th>2578</th>\n",
       "      <td>Udo Mueller</td>\n",
       "      <td>60.0</td>\n",
       "      <td>1000.0</td>\n",
       "      <td>Media &amp; Entertainment</td>\n",
       "      <td>Germany</td>\n",
       "      <td>M</td>\n",
       "      <td>Billionair</td>\n",
       "      <td>50-70</td>\n",
       "    </tr>\n",
       "    <tr>\n",
       "      <th>2578</th>\n",
       "      <td>Oliver Samwer</td>\n",
       "      <td>48.0</td>\n",
       "      <td>1000.0</td>\n",
       "      <td>Technology</td>\n",
       "      <td>Germany</td>\n",
       "      <td>M</td>\n",
       "      <td>Entrepreneur</td>\n",
       "      <td>30-50</td>\n",
       "    </tr>\n",
       "    <tr>\n",
       "      <th>2578</th>\n",
       "      <td>Peter-Alexander Wacker</td>\n",
       "      <td>70.0</td>\n",
       "      <td>1000.0</td>\n",
       "      <td>Manufacturing</td>\n",
       "      <td>Germany</td>\n",
       "      <td>M</td>\n",
       "      <td>Billionair</td>\n",
       "      <td>50-70</td>\n",
       "    </tr>\n",
       "  </tbody>\n",
       "</table>\n",
       "<p>94 rows × 8 columns</p>\n",
       "</div>"
      ],
      "text/plain": [
       "                             isim   yas   servet              kategori,  \\\n",
       "sira                                                                      \n",
       "28                 Dieter Schwarz  82.0  47100.0       Fashion & Retail   \n",
       "56                Susanne Klatten  59.0  24300.0             Automotive   \n",
       "77                  Stefan Quandt  55.0  20700.0             Automotive   \n",
       "84       Reinhold Wuerth & family  86.0  19000.0          Manufacturing   \n",
       "85    Theo Albrecht, Jr. & family  71.0  18700.0       Fashion & Retail   \n",
       "...                           ...   ...      ...                    ...   \n",
       "2578         Karl Friedrich Braun  39.0   1000.0             Healthcare   \n",
       "2578        Horst-Otto Gerberding  69.0   1000.0        Food & Beverage   \n",
       "2578                  Udo Mueller  60.0   1000.0  Media & Entertainment   \n",
       "2578                Oliver Samwer  48.0   1000.0             Technology   \n",
       "2578       Peter-Alexander Wacker  70.0   1000.0          Manufacturing   \n",
       "\n",
       "         ulke cinsiyet         unvan yas_aralığı  \n",
       "sira                                              \n",
       "28    Germany        M    Billionair         70+  \n",
       "56    Germany        F    Billionair       50-70  \n",
       "77    Germany        M    Billionair       50-70  \n",
       "84    Germany        M    Billionair         70+  \n",
       "85    Germany        M    Billionair         70+  \n",
       "...       ...      ...           ...         ...  \n",
       "2578  Germany        M    Billionair       30-50  \n",
       "2578  Germany        M    Billionair       50-70  \n",
       "2578  Germany        M    Billionair       50-70  \n",
       "2578  Germany        M  Entrepreneur       30-50  \n",
       "2578  Germany        M    Billionair       50-70  \n",
       "\n",
       "[94 rows x 8 columns]"
      ]
     },
     "execution_count": 107,
     "metadata": {},
     "output_type": "execute_result"
    }
   ],
   "source": [
    "df_Germany = df[df.ulke == \"Germany\"] \n",
    "df_Germany"
   ]
  },
  {
   "cell_type": "code",
   "execution_count": 108,
   "id": "f72e69ee",
   "metadata": {
    "ExecuteTime": {
     "end_time": "2023-05-01T23:30:15.028958Z",
     "start_time": "2023-05-01T23:30:14.650233Z"
    }
   },
   "outputs": [
    {
     "data": {
      "image/png": "[encoded data removed]",
      "text/plain": [
       "<Figure size 1200x800 with 4 Axes>"
      ]
     },
     "metadata": {},
     "output_type": "display_data"
    }
   ],
   "source": [
    "# pandas plot ile çizim\n",
    "\n",
    "plt.figure(figsize = (12,8))\n",
    "plt.subplot(221)\n",
    "df_USA[\"kategori,\"].value_counts()[:5].plot(kind = \"pie\")\n",
    "plt.title(\"USA\")\n",
    "\n",
    "plt.subplot(222)\n",
    "df_China[\"kategori,\"].value_counts()[:5].plot(kind = \"pie\")\n",
    "plt.title(\"China\")\n",
    "\n",
    "plt.subplot(223)\n",
    "df_India[\"kategori,\"].value_counts()[:5].plot(kind = \"pie\")\n",
    "plt.title(\"India\")\n",
    "\n",
    "plt.subplot(224)\n",
    "df_Germany[\"kategori,\"].value_counts()[:5].plot(kind = \"pie\")\n",
    "plt.title(\"Germany\")\n",
    "\n",
    "plt.tight_layout();\n",
    "\n",
    "plt.show()"
   ]
  },
  {
   "cell_type": "code",
   "execution_count": 112,
   "id": "a6127948",
   "metadata": {
    "ExecuteTime": {
     "end_time": "2023-05-01T23:33:14.130514Z",
     "start_time": "2023-05-01T23:33:13.997294Z"
    }
   },
   "outputs": [
    {
     "ename": "ValueError",
     "evalue": "'label' must be of length 'x'",
     "output_type": "error",
     "traceback": [
      "\u001b[1;31m---------------------------------------------------------------------------\u001b[0m",
      "\u001b[1;31mValueError\u001b[0m                                Traceback (most recent call last)",
      "\u001b[1;32m~\\AppData\\Local\\Temp\\ipykernel_52752\\990613228.py\u001b[0m in \u001b[0;36m<module>\u001b[1;34m\u001b[0m\n\u001b[0;32m      3\u001b[0m \u001b[0mplt\u001b[0m\u001b[1;33m.\u001b[0m\u001b[0mfigure\u001b[0m\u001b[1;33m(\u001b[0m\u001b[0mfigsize\u001b[0m \u001b[1;33m=\u001b[0m \u001b[1;33m(\u001b[0m\u001b[1;36m12\u001b[0m\u001b[1;33m,\u001b[0m\u001b[1;36m8\u001b[0m\u001b[1;33m)\u001b[0m\u001b[1;33m)\u001b[0m\u001b[1;33m\u001b[0m\u001b[1;33m\u001b[0m\u001b[0m\n\u001b[0;32m      4\u001b[0m \u001b[0mplt\u001b[0m\u001b[1;33m.\u001b[0m\u001b[0msubplot\u001b[0m\u001b[1;33m(\u001b[0m\u001b[1;36m121\u001b[0m\u001b[1;33m)\u001b[0m\u001b[1;33m\u001b[0m\u001b[1;33m\u001b[0m\u001b[0m\n\u001b[1;32m----> 5\u001b[1;33m \u001b[0mplt\u001b[0m\u001b[1;33m.\u001b[0m\u001b[0mpie\u001b[0m\u001b[1;33m(\u001b[0m\u001b[0mdf_USA\u001b[0m\u001b[1;33m[\u001b[0m\u001b[1;34m\"kategori,\"\u001b[0m\u001b[1;33m]\u001b[0m\u001b[1;33m.\u001b[0m\u001b[0mvalue_counts\u001b[0m\u001b[1;33m(\u001b[0m\u001b[1;33m)\u001b[0m\u001b[1;33m[\u001b[0m\u001b[1;33m:\u001b[0m\u001b[1;36m3\u001b[0m\u001b[1;33m]\u001b[0m\u001b[1;33m,\u001b[0m \u001b[0mlabels\u001b[0m \u001b[1;33m=\u001b[0m \u001b[0mdf_USA\u001b[0m\u001b[1;33m[\u001b[0m\u001b[1;34m\"kategori,\"\u001b[0m\u001b[1;33m]\u001b[0m\u001b[1;33m.\u001b[0m\u001b[0mvalue_counts\u001b[0m\u001b[1;33m(\u001b[0m\u001b[1;33m)\u001b[0m\u001b[1;33m[\u001b[0m\u001b[1;33m:\u001b[0m\u001b[1;36m5\u001b[0m\u001b[1;33m]\u001b[0m\u001b[1;33m.\u001b[0m\u001b[0mindex\u001b[0m\u001b[1;33m,\u001b[0m \u001b[0mautopct\u001b[0m \u001b[1;33m=\u001b[0m \u001b[1;34m\"%1.2f%%\"\u001b[0m\u001b[1;33m)\u001b[0m\u001b[1;33m\u001b[0m\u001b[1;33m\u001b[0m\u001b[0m\n\u001b[0m\u001b[0;32m      6\u001b[0m \u001b[0mplt\u001b[0m\u001b[1;33m.\u001b[0m\u001b[0mtitle\u001b[0m\u001b[1;33m(\u001b[0m\u001b[1;34m\"USA\"\u001b[0m\u001b[1;33m)\u001b[0m\u001b[1;33m\u001b[0m\u001b[1;33m\u001b[0m\u001b[0m\n\u001b[0;32m      7\u001b[0m \u001b[1;33m\u001b[0m\u001b[0m\n",
      "\u001b[1;32m~\\anaconda3\\lib\\site-packages\\matplotlib\\pyplot.py\u001b[0m in \u001b[0;36mpie\u001b[1;34m(x, explode, labels, colors, autopct, pctdistance, shadow, labeldistance, startangle, radius, counterclock, wedgeprops, textprops, center, frame, rotatelabels, normalize, data)\u001b[0m\n\u001b[0;32m   2754\u001b[0m         \u001b[0mtextprops\u001b[0m\u001b[1;33m=\u001b[0m\u001b[1;32mNone\u001b[0m\u001b[1;33m,\u001b[0m \u001b[0mcenter\u001b[0m\u001b[1;33m=\u001b[0m\u001b[1;33m(\u001b[0m\u001b[1;36m0\u001b[0m\u001b[1;33m,\u001b[0m \u001b[1;36m0\u001b[0m\u001b[1;33m)\u001b[0m\u001b[1;33m,\u001b[0m \u001b[0mframe\u001b[0m\u001b[1;33m=\u001b[0m\u001b[1;32mFalse\u001b[0m\u001b[1;33m,\u001b[0m\u001b[1;33m\u001b[0m\u001b[1;33m\u001b[0m\u001b[0m\n\u001b[0;32m   2755\u001b[0m         rotatelabels=False, *, normalize=True, data=None):\n\u001b[1;32m-> 2756\u001b[1;33m     return gca().pie(\n\u001b[0m\u001b[0;32m   2757\u001b[0m         \u001b[0mx\u001b[0m\u001b[1;33m,\u001b[0m \u001b[0mexplode\u001b[0m\u001b[1;33m=\u001b[0m\u001b[0mexplode\u001b[0m\u001b[1;33m,\u001b[0m \u001b[0mlabels\u001b[0m\u001b[1;33m=\u001b[0m\u001b[0mlabels\u001b[0m\u001b[1;33m,\u001b[0m \u001b[0mcolors\u001b[0m\u001b[1;33m=\u001b[0m\u001b[0mcolors\u001b[0m\u001b[1;33m,\u001b[0m\u001b[1;33m\u001b[0m\u001b[1;33m\u001b[0m\u001b[0m\n\u001b[0;32m   2758\u001b[0m         \u001b[0mautopct\u001b[0m\u001b[1;33m=\u001b[0m\u001b[0mautopct\u001b[0m\u001b[1;33m,\u001b[0m \u001b[0mpctdistance\u001b[0m\u001b[1;33m=\u001b[0m\u001b[0mpctdistance\u001b[0m\u001b[1;33m,\u001b[0m \u001b[0mshadow\u001b[0m\u001b[1;33m=\u001b[0m\u001b[0mshadow\u001b[0m\u001b[1;33m,\u001b[0m\u001b[1;33m\u001b[0m\u001b[1;33m\u001b[0m\u001b[0m\n",
      "\u001b[1;32m~\\anaconda3\\lib\\site-packages\\matplotlib\\__init__.py\u001b[0m in \u001b[0;36minner\u001b[1;34m(ax, data, *args, **kwargs)\u001b[0m\n\u001b[0;32m   1410\u001b[0m     \u001b[1;32mdef\u001b[0m \u001b[0minner\u001b[0m\u001b[1;33m(\u001b[0m\u001b[0max\u001b[0m\u001b[1;33m,\u001b[0m \u001b[1;33m*\u001b[0m\u001b[0margs\u001b[0m\u001b[1;33m,\u001b[0m \u001b[0mdata\u001b[0m\u001b[1;33m=\u001b[0m\u001b[1;32mNone\u001b[0m\u001b[1;33m,\u001b[0m \u001b[1;33m**\u001b[0m\u001b[0mkwargs\u001b[0m\u001b[1;33m)\u001b[0m\u001b[1;33m:\u001b[0m\u001b[1;33m\u001b[0m\u001b[1;33m\u001b[0m\u001b[0m\n\u001b[0;32m   1411\u001b[0m         \u001b[1;32mif\u001b[0m \u001b[0mdata\u001b[0m \u001b[1;32mis\u001b[0m \u001b[1;32mNone\u001b[0m\u001b[1;33m:\u001b[0m\u001b[1;33m\u001b[0m\u001b[1;33m\u001b[0m\u001b[0m\n\u001b[1;32m-> 1412\u001b[1;33m             \u001b[1;32mreturn\u001b[0m \u001b[0mfunc\u001b[0m\u001b[1;33m(\u001b[0m\u001b[0max\u001b[0m\u001b[1;33m,\u001b[0m \u001b[1;33m*\u001b[0m\u001b[0mmap\u001b[0m\u001b[1;33m(\u001b[0m\u001b[0msanitize_sequence\u001b[0m\u001b[1;33m,\u001b[0m \u001b[0margs\u001b[0m\u001b[1;33m)\u001b[0m\u001b[1;33m,\u001b[0m \u001b[1;33m**\u001b[0m\u001b[0mkwargs\u001b[0m\u001b[1;33m)\u001b[0m\u001b[1;33m\u001b[0m\u001b[1;33m\u001b[0m\u001b[0m\n\u001b[0m\u001b[0;32m   1413\u001b[0m \u001b[1;33m\u001b[0m\u001b[0m\n\u001b[0;32m   1414\u001b[0m         \u001b[0mbound\u001b[0m \u001b[1;33m=\u001b[0m \u001b[0mnew_sig\u001b[0m\u001b[1;33m.\u001b[0m\u001b[0mbind\u001b[0m\u001b[1;33m(\u001b[0m\u001b[0max\u001b[0m\u001b[1;33m,\u001b[0m \u001b[1;33m*\u001b[0m\u001b[0margs\u001b[0m\u001b[1;33m,\u001b[0m \u001b[1;33m**\u001b[0m\u001b[0mkwargs\u001b[0m\u001b[1;33m)\u001b[0m\u001b[1;33m\u001b[0m\u001b[1;33m\u001b[0m\u001b[0m\n",
      "\u001b[1;32m~\\anaconda3\\lib\\site-packages\\matplotlib\\axes\\_axes.py\u001b[0m in \u001b[0;36mpie\u001b[1;34m(self, x, explode, labels, colors, autopct, pctdistance, shadow, labeldistance, startangle, radius, counterclock, wedgeprops, textprops, center, frame, rotatelabels, normalize)\u001b[0m\n\u001b[0;32m   3056\u001b[0m             \u001b[0mexplode\u001b[0m \u001b[1;33m=\u001b[0m \u001b[1;33m[\u001b[0m\u001b[1;36m0\u001b[0m\u001b[1;33m]\u001b[0m \u001b[1;33m*\u001b[0m \u001b[0mlen\u001b[0m\u001b[1;33m(\u001b[0m\u001b[0mx\u001b[0m\u001b[1;33m)\u001b[0m\u001b[1;33m\u001b[0m\u001b[1;33m\u001b[0m\u001b[0m\n\u001b[0;32m   3057\u001b[0m         \u001b[1;32mif\u001b[0m \u001b[0mlen\u001b[0m\u001b[1;33m(\u001b[0m\u001b[0mx\u001b[0m\u001b[1;33m)\u001b[0m \u001b[1;33m!=\u001b[0m \u001b[0mlen\u001b[0m\u001b[1;33m(\u001b[0m\u001b[0mlabels\u001b[0m\u001b[1;33m)\u001b[0m\u001b[1;33m:\u001b[0m\u001b[1;33m\u001b[0m\u001b[1;33m\u001b[0m\u001b[0m\n\u001b[1;32m-> 3058\u001b[1;33m             \u001b[1;32mraise\u001b[0m \u001b[0mValueError\u001b[0m\u001b[1;33m(\u001b[0m\u001b[1;34m\"'label' must be of length 'x'\"\u001b[0m\u001b[1;33m)\u001b[0m\u001b[1;33m\u001b[0m\u001b[1;33m\u001b[0m\u001b[0m\n\u001b[0m\u001b[0;32m   3059\u001b[0m         \u001b[1;32mif\u001b[0m \u001b[0mlen\u001b[0m\u001b[1;33m(\u001b[0m\u001b[0mx\u001b[0m\u001b[1;33m)\u001b[0m \u001b[1;33m!=\u001b[0m \u001b[0mlen\u001b[0m\u001b[1;33m(\u001b[0m\u001b[0mexplode\u001b[0m\u001b[1;33m)\u001b[0m\u001b[1;33m:\u001b[0m\u001b[1;33m\u001b[0m\u001b[1;33m\u001b[0m\u001b[0m\n\u001b[0;32m   3060\u001b[0m             \u001b[1;32mraise\u001b[0m \u001b[0mValueError\u001b[0m\u001b[1;33m(\u001b[0m\u001b[1;34m\"'explode' must be of length 'x'\"\u001b[0m\u001b[1;33m)\u001b[0m\u001b[1;33m\u001b[0m\u001b[1;33m\u001b[0m\u001b[0m\n",
      "\u001b[1;31mValueError\u001b[0m: 'label' must be of length 'x'"
     ]
    },
    {
     "data": {
      "image/png": "[encoded data removed]",
      "text/plain": [
       "<Figure size 1200x800 with 1 Axes>"
      ]
     },
     "metadata": {},
     "output_type": "display_data"
    }
   ],
   "source": [
    "# Matplotlib ile çizim\n",
    "\n",
    "plt.figure(figsize = (12,8))\n",
    "plt.subplot(121)\n",
    "plt.pie(df_USA[\"kategori,\"].value_counts()[:3], labels = df_USA[\"kategori,\"].value_counts()[:5].index, autopct = \"%1.2f%%\")\n",
    "plt.title(\"USA\")\n",
    "\n",
    "plt.subplot(122)\n",
    "plt.pie(df_China[\"kategori,\"].value_counts()[:3], labels = df_China[\"kategori,\"].value_counts()[:5].index, autopct = \"%1.2f%%\")\n",
    "plt.title(\"China\")\n",
    "\n",
    "plt.tight_layout();\n",
    "plt.show()"
   ]
  },
  {
   "cell_type": "code",
   "execution_count": null,
   "id": "562824e7",
   "metadata": {},
   "outputs": [],
   "source": []
  },
  {
   "cell_type": "code",
   "execution_count": null,
   "id": "9da1fe69",
   "metadata": {},
   "outputs": [],
   "source": []
  },
  {
   "cell_type": "code",
   "execution_count": null,
   "id": "dafce7c7",
   "metadata": {},
   "outputs": [],
   "source": []
  },
  {
   "cell_type": "code",
   "execution_count": null,
   "id": "f7041c42",
   "metadata": {},
   "outputs": [],
   "source": []
  },
  {
   "cell_type": "code",
   "execution_count": null,
   "id": "2da80398",
   "metadata": {},
   "outputs": [],
   "source": []
  },
  {
   "cell_type": "code",
   "execution_count": null,
   "id": "b66e8009",
   "metadata": {},
   "outputs": [],
   "source": []
  },
  {
   "cell_type": "code",
   "execution_count": null,
   "id": "d413249b",
   "metadata": {},
   "outputs": [],
   "source": []
  },
  {
   "cell_type": "code",
   "execution_count": null,
   "id": "3b0b3aea",
   "metadata": {},
   "outputs": [],
   "source": []
  }
 ],
 "metadata": {
  "hide_input": false,
  "kernelspec": {
   "display_name": "Python 3 (ipykernel)",
   "language": "python",
   "name": "python3"
  },
  "language_info": {
   "codemirror_mode": {
    "name": "ipython",
    "version": 3
   },
   "file_extension": ".py",
   "mimetype": "text/x-python",
   "name": "python",
   "nbconvert_exporter": "python",
   "pygments_lexer": "ipython3",
   "version": "3.9.13"
  },
  "nbTranslate": {
   "displayLangs": [
    "*"
   ],
   "hotkey": "alt-t",
   "langInMainMenu": true,
   "sourceLang": "en",
   "targetLang": "fr",
   "useGoogleTranslate": true
  },
  "toc": {
   "base_numbering": 1,
   "nav_menu": {},
   "number_sections": true,
   "sideBar": true,
   "skip_h1_title": false,
   "title_cell": "Table of Contents",
   "title_sidebar": "Contents",
   "toc_cell": false,
   "toc_position": {},
   "toc_section_display": true,
   "toc_window_display": false
  }
 },
 "nbformat": 4,
 "nbformat_minor": 5
}
